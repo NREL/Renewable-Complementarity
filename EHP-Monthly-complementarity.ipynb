{
 "cells": [
  {
   "cell_type": "code",
   "execution_count": 20,
   "metadata": {},
   "outputs": [
    {
     "name": "stdout",
     "output_type": "stream",
     "text": [
      "The autoreload extension is already loaded. To reload it, use:\n",
      "  %reload_ext autoreload\n"
     ]
    }
   ],
   "source": [
    "%load_ext autoreload\n",
    "%autoreload 2\n",
    "\n",
    "import pandas as pd\n",
    "import numpy as np\n",
    "\n",
    "# Local imports\n",
    "from stability_testing import *"
   ]
  },
  {
   "cell_type": "code",
   "execution_count": 21,
   "metadata": {},
   "outputs": [],
   "source": [
    "pv_dest_path = './data/hydro/existing_plants/complementarity/pv_time_series'\n",
    "wind_dest_path = './data/hydro/existing_plants/complementarity/wind_time_series'\n",
    "pv_filename_prefix = 'cf_pv_profile'\n",
    "wind_filename_prefix = 'cf_wind_profile'\n",
    "\n",
    "c_stab_path = './data/hydro/existing_plants/complementarity/c_stab'\n",
    "pearsons_path = './data/hydro s/existing_plants/complementarity/pearson'\n",
    "\n",
    "rep_year_df = pd.read_csv('./data/hydro/misc/ed_representative_year.csv')\n",
    "years = range(2007,2014)\n",
    "months = range(1,13)\n",
    "pv_wind_id_df = pd.read_csv('./data/hydro/misc/master_pv_wind_ed.csv')\n",
    "\n",
    "# build the base dataframe with the timestamps from 2012\n",
    "rng = pd.date_range(f'2012-01-01 00:00:00+00:00', periods=8760, freq='1H')\n",
    "base_df = pd.DataFrame()\n",
    "base_df['dateTime'] = rng "
   ]
  },
  {
   "cell_type": "code",
   "execution_count": 22,
   "metadata": {},
   "outputs": [
    {
     "data": {
      "text/html": [
       "<div>\n",
       "<style scoped>\n",
       "    .dataframe tbody tr th:only-of-type {\n",
       "        vertical-align: middle;\n",
       "    }\n",
       "\n",
       "    .dataframe tbody tr th {\n",
       "        vertical-align: top;\n",
       "    }\n",
       "\n",
       "    .dataframe thead th {\n",
       "        text-align: right;\n",
       "    }\n",
       "</style>\n",
       "<table border=\"1\" class=\"dataframe\">\n",
       "  <thead>\n",
       "    <tr style=\"text-align: right;\">\n",
       "      <th></th>\n",
       "      <th>lat</th>\n",
       "      <th>lon</th>\n",
       "      <th>dam_name</th>\n",
       "      <th>site_id</th>\n",
       "      <th>post_csv_filename</th>\n",
       "      <th>pv_id</th>\n",
       "      <th>wind_id</th>\n",
       "    </tr>\n",
       "  </thead>\n",
       "  <tbody>\n",
       "    <tr>\n",
       "      <th>0</th>\n",
       "      <td>45.158051</td>\n",
       "      <td>-67.401657</td>\n",
       "      <td>Lower Saint Croix River</td>\n",
       "      <td>1021000</td>\n",
       "      <td>./data/hydro/existing_plants/synthetic_profile...</td>\n",
       "      <td>1681</td>\n",
       "      <td>1681</td>\n",
       "    </tr>\n",
       "    <tr>\n",
       "      <th>1</th>\n",
       "      <td>44.786598</td>\n",
       "      <td>-71.124901</td>\n",
       "      <td>Stearns Brook-Androscoggin River</td>\n",
       "      <td>1053500</td>\n",
       "      <td>./data/hydro/existing_plants/synthetic_profile...</td>\n",
       "      <td>1178</td>\n",
       "      <td>1178</td>\n",
       "    </tr>\n",
       "    <tr>\n",
       "      <th>2</th>\n",
       "      <td>44.456947</td>\n",
       "      <td>-71.186066</td>\n",
       "      <td>Stearns Brook-Androscoggin River</td>\n",
       "      <td>1054000</td>\n",
       "      <td>./data/hydro/existing_plants/synthetic_profile...</td>\n",
       "      <td>726</td>\n",
       "      <td>726</td>\n",
       "    </tr>\n",
       "    <tr>\n",
       "      <th>3</th>\n",
       "      <td>44.542599</td>\n",
       "      <td>-70.546501</td>\n",
       "      <td>Swift River-Androscoggin River</td>\n",
       "      <td>1054500</td>\n",
       "      <td>./data/hydro/existing_plants/synthetic_profile...</td>\n",
       "      <td>780</td>\n",
       "      <td>780</td>\n",
       "    </tr>\n",
       "    <tr>\n",
       "      <th>4</th>\n",
       "      <td>43.534500</td>\n",
       "      <td>-71.468102</td>\n",
       "      <td>Winnipesaukee River</td>\n",
       "      <td>1081000</td>\n",
       "      <td>./data/hydro/existing_plants/synthetic_profile...</td>\n",
       "      <td>1864</td>\n",
       "      <td>1864</td>\n",
       "    </tr>\n",
       "    <tr>\n",
       "      <th>...</th>\n",
       "      <td>...</td>\n",
       "      <td>...</td>\n",
       "      <td>...</td>\n",
       "      <td>...</td>\n",
       "      <td>...</td>\n",
       "      <td>...</td>\n",
       "      <td>...</td>\n",
       "    </tr>\n",
       "    <tr>\n",
       "      <th>123</th>\n",
       "      <td>40.596603</td>\n",
       "      <td>-111.423592</td>\n",
       "      <td>Lake Creek-Provo River</td>\n",
       "      <td>10155200</td>\n",
       "      <td>./data/hydro/existing_plants/synthetic_profile...</td>\n",
       "      <td>149</td>\n",
       "      <td>149</td>\n",
       "    </tr>\n",
       "    <tr>\n",
       "      <th>124</th>\n",
       "      <td>38.285801</td>\n",
       "      <td>-112.443298</td>\n",
       "      <td>South Creek-Beaver River</td>\n",
       "      <td>10234500</td>\n",
       "      <td>./data/hydro/existing_plants/synthetic_profile...</td>\n",
       "      <td>416</td>\n",
       "      <td>416</td>\n",
       "    </tr>\n",
       "    <tr>\n",
       "      <th>125</th>\n",
       "      <td>39.462898</td>\n",
       "      <td>-119.065804</td>\n",
       "      <td>Soda Lake-Carson River</td>\n",
       "      <td>10312275</td>\n",
       "      <td>./data/hydro/existing_plants/synthetic_profile...</td>\n",
       "      <td>69</td>\n",
       "      <td>69</td>\n",
       "    </tr>\n",
       "    <tr>\n",
       "      <th>126</th>\n",
       "      <td>39.470447</td>\n",
       "      <td>-120.104553</td>\n",
       "      <td>Little Truckee River</td>\n",
       "      <td>10344500</td>\n",
       "      <td>./data/hydro/existing_plants/synthetic_profile...</td>\n",
       "      <td>55</td>\n",
       "      <td>55</td>\n",
       "    </tr>\n",
       "    <tr>\n",
       "      <th>127</th>\n",
       "      <td>38.718201</td>\n",
       "      <td>-123.008697</td>\n",
       "      <td>Dry Creek</td>\n",
       "      <td>11465200</td>\n",
       "      <td>./data/hydro/existing_plants/synthetic_profile...</td>\n",
       "      <td>270</td>\n",
       "      <td>270</td>\n",
       "    </tr>\n",
       "  </tbody>\n",
       "</table>\n",
       "<p>128 rows × 7 columns</p>\n",
       "</div>"
      ],
      "text/plain": [
       "           lat         lon                          dam_name   site_id  \\\n",
       "0    45.158051  -67.401657           Lower Saint Croix River   1021000   \n",
       "1    44.786598  -71.124901  Stearns Brook-Androscoggin River   1053500   \n",
       "2    44.456947  -71.186066  Stearns Brook-Androscoggin River   1054000   \n",
       "3    44.542599  -70.546501    Swift River-Androscoggin River   1054500   \n",
       "4    43.534500  -71.468102               Winnipesaukee River   1081000   \n",
       "..         ...         ...                               ...       ...   \n",
       "123  40.596603 -111.423592            Lake Creek-Provo River  10155200   \n",
       "124  38.285801 -112.443298          South Creek-Beaver River  10234500   \n",
       "125  39.462898 -119.065804            Soda Lake-Carson River  10312275   \n",
       "126  39.470447 -120.104553              Little Truckee River  10344500   \n",
       "127  38.718201 -123.008697                         Dry Creek  11465200   \n",
       "\n",
       "                                     post_csv_filename  pv_id  wind_id  \n",
       "0    ./data/hydro/existing_plants/synthetic_profile...   1681     1681  \n",
       "1    ./data/hydro/existing_plants/synthetic_profile...   1178     1178  \n",
       "2    ./data/hydro/existing_plants/synthetic_profile...    726      726  \n",
       "3    ./data/hydro/existing_plants/synthetic_profile...    780      780  \n",
       "4    ./data/hydro/existing_plants/synthetic_profile...   1864     1864  \n",
       "..                                                 ...    ...      ...  \n",
       "123  ./data/hydro/existing_plants/synthetic_profile...    149      149  \n",
       "124  ./data/hydro/existing_plants/synthetic_profile...    416      416  \n",
       "125  ./data/hydro/existing_plants/synthetic_profile...     69       69  \n",
       "126  ./data/hydro/existing_plants/synthetic_profile...     55       55  \n",
       "127  ./data/hydro/existing_plants/synthetic_profile...    270      270  \n",
       "\n",
       "[128 rows x 7 columns]"
      ]
     },
     "execution_count": 22,
     "metadata": {},
     "output_type": "execute_result"
    }
   ],
   "source": [
    "pv_wind_id_df.drop_duplicates(subset=['site_id'], inplace=True)\n",
    "pv_wind_id_df.reset_index(inplace=True, drop=True)\n",
    "pv_wind_id_df"
   ]
  },
  {
   "cell_type": "markdown",
   "metadata": {},
   "source": [
    "# 1. Create Montly Stability Coefficients"
   ]
  },
  {
   "cell_type": "markdown",
   "metadata": {},
   "source": [
    "## Complementarity PV-Hydro"
   ]
  },
  {
   "cell_type": "code",
   "execution_count": 23,
   "metadata": {
    "tags": []
   },
   "outputs": [
    {
     "name": "stdout",
     "output_type": "stream",
     "text": [
      "0. Processing PV profile 1681 and NPD 1021000, ./data/hydro/existing_plants/synthetic_profiles/ed_1021000_2010_synthetic.csv\n"
     ]
    },
    {
     "name": "stderr",
     "output_type": "stream",
     "text": [
      "/opt/anaconda3/envs/flexpower/lib/python3.7/site-packages/scipy/stats/stats.py:4023: PearsonRConstantInputWarning: An input array is constant; the correlation coefficient is not defined.\n",
      "  warnings.warn(PearsonRConstantInputWarning())\n"
     ]
    },
    {
     "name": "stdout",
     "output_type": "stream",
     "text": [
      "1. Processing PV profile 1178 and NPD 1053500, ./data/hydro/existing_plants/synthetic_profiles/ed_1053500_2013_synthetic.csv\n",
      "2. Processing PV profile 726 and NPD 1054000, ./data/hydro/existing_plants/synthetic_profiles/ed_1054000_2013_synthetic.csv\n",
      "3. Processing PV profile 780 and NPD 1054500, ./data/hydro/existing_plants/synthetic_profiles/ed_1054500_2014_synthetic.csv\n",
      "No data in site 1054500 \n",
      "4. Processing PV profile 1864 and NPD 1081000, ./data/hydro/existing_plants/synthetic_profiles/ed_1081000_2014_synthetic.csv\n"
     ]
    },
    {
     "name": "stderr",
     "output_type": "stream",
     "text": [
      "/opt/anaconda3/envs/flexpower/lib/python3.7/site-packages/scipy/stats/stats.py:4023: PearsonRConstantInputWarning: An input array is constant; the correlation coefficient is not defined.\n",
      "  warnings.warn(PearsonRConstantInputWarning())\n"
     ]
    },
    {
     "name": "stdout",
     "output_type": "stream",
     "text": [
      "5. Processing PV profile 1772 and NPD 1082000, ./data/hydro/existing_plants/synthetic_profiles/ed_1082000_2017_synthetic.csv\n",
      "No data in site 1082000 \n",
      "6. Processing PV profile 1180 and NPD 1091500, ./data/hydro/existing_plants/synthetic_profiles/ed_1091500_2019_synthetic.csv\n"
     ]
    },
    {
     "name": "stderr",
     "output_type": "stream",
     "text": [
      "/opt/anaconda3/envs/flexpower/lib/python3.7/site-packages/scipy/stats/stats.py:4023: PearsonRConstantInputWarning: An input array is constant; the correlation coefficient is not defined.\n",
      "  warnings.warn(PearsonRConstantInputWarning())\n"
     ]
    },
    {
     "name": "stdout",
     "output_type": "stream",
     "text": [
      "7. Processing PV profile 1982 and NPD 1094000, ./data/hydro/existing_plants/synthetic_profiles/ed_1094000_2019_synthetic.csv\n",
      "8. Processing PV profile 1562 and NPD 1096500, ./data/hydro/existing_plants/synthetic_profiles/ed_1096500_2014_synthetic.csv\n"
     ]
    },
    {
     "name": "stderr",
     "output_type": "stream",
     "text": [
      "/opt/anaconda3/envs/flexpower/lib/python3.7/site-packages/scipy/stats/stats.py:4023: PearsonRConstantInputWarning: An input array is constant; the correlation coefficient is not defined.\n",
      "  warnings.warn(PearsonRConstantInputWarning())\n"
     ]
    },
    {
     "name": "stdout",
     "output_type": "stream",
     "text": [
      "9. Processing PV profile 1720 and NPD 1100000, ./data/hydro/existing_plants/synthetic_profiles/ed_1100000_2014_synthetic.csv\n"
     ]
    },
    {
     "name": "stderr",
     "output_type": "stream",
     "text": [
      "/opt/anaconda3/envs/flexpower/lib/python3.7/site-packages/scipy/stats/stats.py:4023: PearsonRConstantInputWarning: An input array is constant; the correlation coefficient is not defined.\n",
      "  warnings.warn(PearsonRConstantInputWarning())\n"
     ]
    },
    {
     "name": "stdout",
     "output_type": "stream",
     "text": [
      "10. Processing PV profile 1863 and NPD 1105876, ./data/hydro/existing_plants/synthetic_profiles/ed_1105876_2015_synthetic.csv\n"
     ]
    },
    {
     "name": "stderr",
     "output_type": "stream",
     "text": [
      "/opt/anaconda3/envs/flexpower/lib/python3.7/site-packages/scipy/stats/stats.py:4023: PearsonRConstantInputWarning: An input array is constant; the correlation coefficient is not defined.\n",
      "  warnings.warn(PearsonRConstantInputWarning())\n"
     ]
    },
    {
     "name": "stdout",
     "output_type": "stream",
     "text": [
      "11. Processing PV profile 1725 and NPD 1113895, ./data/hydro/existing_plants/synthetic_profiles/ed_1113895_2013_synthetic.csv\n",
      "No data in site 1113895 \n",
      "12. Processing PV profile 1832 and NPD 1125100, ./data/hydro/existing_plants/synthetic_profiles/ed_1125100_2013_synthetic.csv\n"
     ]
    },
    {
     "name": "stderr",
     "output_type": "stream",
     "text": [
      "/opt/anaconda3/envs/flexpower/lib/python3.7/site-packages/scipy/stats/stats.py:4023: PearsonRConstantInputWarning: An input array is constant; the correlation coefficient is not defined.\n",
      "  warnings.warn(PearsonRConstantInputWarning())\n"
     ]
    },
    {
     "name": "stdout",
     "output_type": "stream",
     "text": [
      "13. Processing PV profile 1973 and NPD 1135500, ./data/hydro/existing_plants/synthetic_profiles/ed_1135500_2014_synthetic.csv\n",
      "No data in site 1135500 \n",
      "14. Processing PV profile 256 and NPD 1151500, ./data/hydro/existing_plants/synthetic_profiles/ed_1151500_2017_synthetic.csv\n",
      "No data in site 1151500 \n",
      "15. Processing PV profile 1840 and NPD 1152010, ./data/hydro/existing_plants/synthetic_profiles/ed_1152010_2018_synthetic.csv\n",
      "No data in site 1152010 \n",
      "16. Processing PV profile 1355 and NPD 1152500, ./data/hydro/existing_plants/synthetic_profiles/ed_1152500_2010_synthetic.csv\n"
     ]
    },
    {
     "name": "stderr",
     "output_type": "stream",
     "text": [
      "/opt/anaconda3/envs/flexpower/lib/python3.7/site-packages/scipy/stats/stats.py:4023: PearsonRConstantInputWarning: An input array is constant; the correlation coefficient is not defined.\n",
      "  warnings.warn(PearsonRConstantInputWarning())\n"
     ]
    },
    {
     "name": "stdout",
     "output_type": "stream",
     "text": [
      "17. Processing PV profile 1992 and NPD 1162000, ./data/hydro/existing_plants/synthetic_profiles/ed_1162000_2014_synthetic.csv\n"
     ]
    },
    {
     "name": "stderr",
     "output_type": "stream",
     "text": [
      "/opt/anaconda3/envs/flexpower/lib/python3.7/site-packages/scipy/stats/stats.py:4023: PearsonRConstantInputWarning: An input array is constant; the correlation coefficient is not defined.\n",
      "  warnings.warn(PearsonRConstantInputWarning())\n"
     ]
    },
    {
     "name": "stdout",
     "output_type": "stream",
     "text": [
      "18. Processing PV profile 1844 and NPD 1166500, ./data/hydro/existing_plants/synthetic_profiles/ed_1166500_2010_synthetic.csv\n"
     ]
    },
    {
     "name": "stderr",
     "output_type": "stream",
     "text": [
      "/opt/anaconda3/envs/flexpower/lib/python3.7/site-packages/scipy/stats/stats.py:4023: PearsonRConstantInputWarning: An input array is constant; the correlation coefficient is not defined.\n",
      "  warnings.warn(PearsonRConstantInputWarning())\n"
     ]
    },
    {
     "name": "stdout",
     "output_type": "stream",
     "text": [
      "19. Processing PV profile 766 and NPD 1170000, ./data/hydro/existing_plants/synthetic_profiles/ed_1170000_2010_synthetic.csv\n",
      "No data in site 1170000 \n",
      "20. Processing PV profile 534 and NPD 1172010, ./data/hydro/existing_plants/synthetic_profiles/ed_1172010_2010_synthetic.csv\n"
     ]
    },
    {
     "name": "stderr",
     "output_type": "stream",
     "text": [
      "/opt/anaconda3/envs/flexpower/lib/python3.7/site-packages/scipy/stats/stats.py:4023: PearsonRConstantInputWarning: An input array is constant; the correlation coefficient is not defined.\n",
      "  warnings.warn(PearsonRConstantInputWarning())\n"
     ]
    },
    {
     "name": "stdout",
     "output_type": "stream",
     "text": [
      "21. Processing PV profile 1347 and NPD 1177000, ./data/hydro/existing_plants/synthetic_profiles/ed_1177000_2010_synthetic.csv\n",
      "No data in site 1177000 \n",
      "22. Processing PV profile 816 and NPD 1327750, ./data/hydro/existing_plants/synthetic_profiles/ed_1327750_2013_synthetic.csv\n",
      "23. Processing PV profile 1271 and NPD 1346000, ./data/hydro/existing_plants/synthetic_profiles/ed_1346000_2014_synthetic.csv\n",
      "No data in site 1346000 \n",
      "24. Processing PV profile 1201 and NPD 1347000, ./data/hydro/existing_plants/synthetic_profiles/ed_1347000_2014_synthetic.csv\n",
      "25. Processing PV profile 1218 and NPD 1348000, ./data/hydro/existing_plants/synthetic_profiles/ed_1348000_2010_synthetic.csv\n",
      "No data in site 1348000 \n",
      "26. Processing PV profile 1037 and NPD 1350180, ./data/hydro/existing_plants/synthetic_profiles/ed_1350180_2013_synthetic.csv\n",
      "No data in site 1350180 \n",
      "27. Processing PV profile 1147 and NPD 1367500, ./data/hydro/existing_plants/synthetic_profiles/ed_1367500_2013_synthetic.csv\n",
      "No data in site 1367500 \n",
      "28. Processing PV profile 1815 and NPD 1371500, ./data/hydro/existing_plants/synthetic_profiles/ed_1371500_2013_synthetic.csv\n",
      "No data in site 1371500 \n",
      "29. Processing PV profile 1399 and NPD 1559000, ./data/hydro/existing_plants/synthetic_profiles/ed_1559000_2010_synthetic.csv\n",
      "No data in site 1559000 \n",
      "30. Processing PV profile 912 and NPD 1629500, ./data/hydro/existing_plants/synthetic_profiles/ed_1629500_2013_synthetic.csv\n",
      "No data in site 1629500 \n",
      "31. Processing PV profile 785 and NPD 1636500, ./data/hydro/existing_plants/synthetic_profiles/ed_1636500_2010_synthetic.csv\n",
      "No data in site 1636500 \n",
      "32. Processing PV profile 418 and NPD 2024752, ./data/hydro/existing_plants/synthetic_profiles/ed_2024752_2011_synthetic.csv\n",
      "No data in site 2024752 \n",
      "33. Processing PV profile 1131 and NPD 2025500, ./data/hydro/existing_plants/synthetic_profiles/ed_2025500_2014_synthetic.csv\n"
     ]
    },
    {
     "name": "stderr",
     "output_type": "stream",
     "text": [
      "/opt/anaconda3/envs/flexpower/lib/python3.7/site-packages/scipy/stats/stats.py:4023: PearsonRConstantInputWarning: An input array is constant; the correlation coefficient is not defined.\n",
      "  warnings.warn(PearsonRConstantInputWarning())\n"
     ]
    },
    {
     "name": "stdout",
     "output_type": "stream",
     "text": [
      "34. Processing PV profile 778 and NPD 2153551, ./data/hydro/existing_plants/synthetic_profiles/ed_2153551_2016_synthetic.csv\n",
      "No data in site 2153551 \n",
      "35. Processing PV profile 1624 and NPD 2163500, ./data/hydro/existing_plants/synthetic_profiles/ed_2163500_2014_synthetic.csv\n",
      "No data in site 2163500 \n",
      "36. Processing PV profile 438 and NPD 2167000, ./data/hydro/existing_plants/synthetic_profiles/ed_2167000_2014_synthetic.csv\n"
     ]
    },
    {
     "name": "stderr",
     "output_type": "stream",
     "text": [
      "/opt/anaconda3/envs/flexpower/lib/python3.7/site-packages/scipy/stats/stats.py:4023: PearsonRConstantInputWarning: An input array is constant; the correlation coefficient is not defined.\n",
      "  warnings.warn(PearsonRConstantInputWarning())\n"
     ]
    },
    {
     "name": "stdout",
     "output_type": "stream",
     "text": [
      "37. Processing PV profile 792 and NPD 2181350, ./data/hydro/existing_plants/synthetic_profiles/ed_2181350_2015_synthetic.csv\n",
      "No data in site 2181350 \n",
      "38. Processing PV profile 792 and NPD 2181580, ./data/hydro/existing_plants/synthetic_profiles/ed_2181580_2010_synthetic.csv\n",
      "No data in site 2181580 \n",
      "39. Processing PV profile 1370 and NPD 2207335, ./data/hydro/existing_plants/synthetic_profiles/ed_2207335_2010_synthetic.csv\n",
      "No data in site 2207335 \n",
      "40. Processing PV profile 705 and NPD 2335815, ./data/hydro/existing_plants/synthetic_profiles/ed_2335815_2014_synthetic.csv\n",
      "41. Processing PV profile 2108 and NPD 2364500, ./data/hydro/existing_plants/synthetic_profiles/ed_2364500_2010_synthetic.csv\n"
     ]
    },
    {
     "name": "stderr",
     "output_type": "stream",
     "text": [
      "/opt/anaconda3/envs/flexpower/lib/python3.7/site-packages/scipy/stats/stats.py:4023: PearsonRConstantInputWarning: An input array is constant; the correlation coefficient is not defined.\n",
      "  warnings.warn(PearsonRConstantInputWarning())\n"
     ]
    },
    {
     "name": "stdout",
     "output_type": "stream",
     "text": [
      "42. Processing PV profile 294 and NPD 3209000, ./data/hydro/existing_plants/synthetic_profiles/ed_3209000_2015_synthetic.csv\n"
     ]
    },
    {
     "name": "stderr",
     "output_type": "stream",
     "text": [
      "/opt/anaconda3/envs/flexpower/lib/python3.7/site-packages/scipy/stats/stats.py:4023: PearsonRConstantInputWarning: An input array is constant; the correlation coefficient is not defined.\n",
      "  warnings.warn(PearsonRConstantInputWarning())\n"
     ]
    },
    {
     "name": "stdout",
     "output_type": "stream",
     "text": [
      "43. Processing PV profile 1146 and NPD 3221000, ./data/hydro/existing_plants/synthetic_profiles/ed_3221000_2015_synthetic.csv\n",
      "No data in site 3221000 \n",
      "44. Processing PV profile 1597 and NPD 3287000, ./data/hydro/existing_plants/synthetic_profiles/ed_3287000_2013_synthetic.csv\n"
     ]
    },
    {
     "name": "stderr",
     "output_type": "stream",
     "text": [
      "/opt/anaconda3/envs/flexpower/lib/python3.7/site-packages/scipy/stats/stats.py:4023: PearsonRConstantInputWarning: An input array is constant; the correlation coefficient is not defined.\n",
      "  warnings.warn(PearsonRConstantInputWarning())\n"
     ]
    },
    {
     "name": "stdout",
     "output_type": "stream",
     "text": [
      "45. Processing PV profile 1387 and NPD 3453000, ./data/hydro/existing_plants/synthetic_profiles/ed_3453000_2011_synthetic.csv\n",
      "No data in site 3453000 \n",
      "46. Processing PV profile 993 and NPD 3503000, ./data/hydro/existing_plants/synthetic_profiles/ed_3503000_2011_synthetic.csv\n",
      "No data in site 3503000 \n",
      "47. Processing PV profile 984 and NPD 4044003, ./data/hydro/existing_plants/synthetic_profiles/ed_4044003_2019_synthetic.csv\n",
      "No data in site 4044003 \n",
      "48. Processing PV profile 1507 and NPD 4044724, ./data/hydro/existing_plants/synthetic_profiles/ed_4044724_2015_synthetic.csv\n"
     ]
    },
    {
     "name": "stderr",
     "output_type": "stream",
     "text": [
      "/opt/anaconda3/envs/flexpower/lib/python3.7/site-packages/scipy/stats/stats.py:4023: PearsonRConstantInputWarning: An input array is constant; the correlation coefficient is not defined.\n",
      "  warnings.warn(PearsonRConstantInputWarning())\n"
     ]
    },
    {
     "name": "stdout",
     "output_type": "stream",
     "text": [
      "49. Processing PV profile 1504 and NPD 4058100, ./data/hydro/existing_plants/synthetic_profiles/ed_4058100_2013_synthetic.csv\n",
      "No data in site 4058100 \n",
      "50. Processing PV profile 569 and NPD 4062000, ./data/hydro/existing_plants/synthetic_profiles/ed_4062000_2015_synthetic.csv\n"
     ]
    },
    {
     "name": "stderr",
     "output_type": "stream",
     "text": [
      "/opt/anaconda3/envs/flexpower/lib/python3.7/site-packages/scipy/stats/stats.py:4023: PearsonRConstantInputWarning: An input array is constant; the correlation coefficient is not defined.\n",
      "  warnings.warn(PearsonRConstantInputWarning())\n"
     ]
    },
    {
     "name": "stdout",
     "output_type": "stream",
     "text": [
      "51. Processing PV profile 520 and NPD 4066003, ./data/hydro/existing_plants/synthetic_profiles/ed_4066003_2015_synthetic.csv\n"
     ]
    },
    {
     "name": "stderr",
     "output_type": "stream",
     "text": [
      "/opt/anaconda3/envs/flexpower/lib/python3.7/site-packages/scipy/stats/stats.py:4023: PearsonRConstantInputWarning: An input array is constant; the correlation coefficient is not defined.\n",
      "  warnings.warn(PearsonRConstantInputWarning())\n"
     ]
    },
    {
     "name": "stdout",
     "output_type": "stream",
     "text": [
      "52. Processing PV profile 796 and NPD 4066030, ./data/hydro/existing_plants/synthetic_profiles/ed_4066030_2015_synthetic.csv\n",
      "53. Processing PV profile 977 and NPD 4069500, ./data/hydro/existing_plants/synthetic_profiles/ed_4069500_2015_synthetic.csv\n"
     ]
    },
    {
     "name": "stderr",
     "output_type": "stream",
     "text": [
      "/opt/anaconda3/envs/flexpower/lib/python3.7/site-packages/scipy/stats/stats.py:4023: PearsonRConstantInputWarning: An input array is constant; the correlation coefficient is not defined.\n",
      "  warnings.warn(PearsonRConstantInputWarning())\n"
     ]
    },
    {
     "name": "stdout",
     "output_type": "stream",
     "text": [
      "54. Processing PV profile 522 and NPD 4071765, ./data/hydro/existing_plants/synthetic_profiles/ed_4071765_2016_synthetic.csv\n"
     ]
    },
    {
     "name": "stderr",
     "output_type": "stream",
     "text": [
      "/opt/anaconda3/envs/flexpower/lib/python3.7/site-packages/scipy/stats/stats.py:4023: PearsonRConstantInputWarning: An input array is constant; the correlation coefficient is not defined.\n",
      "  warnings.warn(PearsonRConstantInputWarning())\n"
     ]
    },
    {
     "name": "stdout",
     "output_type": "stream",
     "text": [
      "55. Processing PV profile 975 and NPD 4101225, ./data/hydro/existing_plants/synthetic_profiles/ed_4101225_2019_synthetic.csv\n",
      "No data in site 4101225 \n",
      "56. Processing PV profile 413 and NPD 4108660, ./data/hydro/existing_plants/synthetic_profiles/ed_4108660_2014_synthetic.csv\n"
     ]
    },
    {
     "name": "stderr",
     "output_type": "stream",
     "text": [
      "/opt/anaconda3/envs/flexpower/lib/python3.7/site-packages/scipy/stats/stats.py:4023: PearsonRConstantInputWarning: An input array is constant; the correlation coefficient is not defined.\n",
      "  warnings.warn(PearsonRConstantInputWarning())\n"
     ]
    },
    {
     "name": "stdout",
     "output_type": "stream",
     "text": [
      "57. Processing PV profile 1490 and NPD 4113000, ./data/hydro/existing_plants/synthetic_profiles/ed_4113000_2014_synthetic.csv\n"
     ]
    },
    {
     "name": "stderr",
     "output_type": "stream",
     "text": [
      "/opt/anaconda3/envs/flexpower/lib/python3.7/site-packages/scipy/stats/stats.py:4023: PearsonRConstantInputWarning: An input array is constant; the correlation coefficient is not defined.\n",
      "  warnings.warn(PearsonRConstantInputWarning())\n"
     ]
    },
    {
     "name": "stdout",
     "output_type": "stream",
     "text": [
      "58. Processing PV profile 883 and NPD 4122001, ./data/hydro/existing_plants/synthetic_profiles/ed_4122001_2018_synthetic.csv\n",
      "59. Processing PV profile 990 and NPD 4124200, ./data/hydro/existing_plants/synthetic_profiles/ed_4124200_2015_synthetic.csv\n",
      "60. Processing PV profile 976 and NPD 4125550, ./data/hydro/existing_plants/synthetic_profiles/ed_4125550_2013_synthetic.csv\n",
      "61. Processing PV profile 864 and NPD 4136500, ./data/hydro/existing_plants/synthetic_profiles/ed_4136500_2013_synthetic.csv\n",
      "62. Processing PV profile 863 and NPD 4137005, ./data/hydro/existing_plants/synthetic_profiles/ed_4137005_2018_synthetic.csv\n",
      "63. Processing PV profile 866 and NPD 4137500, ./data/hydro/existing_plants/synthetic_profiles/ed_4137500_2013_synthetic.csv\n",
      "64. Processing PV profile 1349 and NPD 4191500, ./data/hydro/existing_plants/synthetic_profiles/ed_4191500_2013_synthetic.csv\n",
      "No data in site 4191500 \n",
      "65. Processing PV profile 978 and NPD 4231600, ./data/hydro/existing_plants/synthetic_profiles/ed_4231600_2015_synthetic.csv\n"
     ]
    },
    {
     "name": "stderr",
     "output_type": "stream",
     "text": [
      "/opt/anaconda3/envs/flexpower/lib/python3.7/site-packages/scipy/stats/stats.py:4023: PearsonRConstantInputWarning: An input array is constant; the correlation coefficient is not defined.\n",
      "  warnings.warn(PearsonRConstantInputWarning())\n"
     ]
    },
    {
     "name": "stdout",
     "output_type": "stream",
     "text": [
      "66. Processing PV profile 854 and NPD 4232730, ./data/hydro/existing_plants/synthetic_profiles/ed_4232730_2014_synthetic.csv\n",
      "67. Processing PV profile 1775 and NPD 4235440, ./data/hydro/existing_plants/synthetic_profiles/ed_4235440_2013_synthetic.csv\n",
      "68. Processing PV profile 1482 and NPD 4249000, ./data/hydro/existing_plants/synthetic_profiles/ed_4249000_2013_synthetic.csv\n",
      "69. Processing PV profile 1525 and NPD 4250200, ./data/hydro/existing_plants/synthetic_profiles/ed_4250200_2011_synthetic.csv\n"
     ]
    },
    {
     "name": "stderr",
     "output_type": "stream",
     "text": [
      "/opt/anaconda3/envs/flexpower/lib/python3.7/site-packages/scipy/stats/stats.py:4023: PearsonRConstantInputWarning: An input array is constant; the correlation coefficient is not defined.\n",
      "  warnings.warn(PearsonRConstantInputWarning())\n"
     ]
    },
    {
     "name": "stdout",
     "output_type": "stream",
     "text": [
      "70. Processing PV profile 1015 and NPD 4258000, ./data/hydro/existing_plants/synthetic_profiles/ed_4258000_2018_synthetic.csv\n",
      "71. Processing PV profile 1059 and NPD 4262000, ./data/hydro/existing_plants/synthetic_profiles/ed_4262000_2013_synthetic.csv\n",
      "72. Processing PV profile 1076 and NPD 4273500, ./data/hydro/existing_plants/synthetic_profiles/ed_4273500_2018_synthetic.csv\n"
     ]
    },
    {
     "name": "stderr",
     "output_type": "stream",
     "text": [
      "/opt/anaconda3/envs/flexpower/lib/python3.7/site-packages/scipy/stats/stats.py:4023: PearsonRConstantInputWarning: An input array is constant; the correlation coefficient is not defined.\n",
      "  warnings.warn(PearsonRConstantInputWarning())\n"
     ]
    },
    {
     "name": "stdout",
     "output_type": "stream",
     "text": [
      "73. Processing PV profile 861 and NPD 4282000, ./data/hydro/existing_plants/synthetic_profiles/ed_4282000_2014_synthetic.csv\n"
     ]
    },
    {
     "name": "stderr",
     "output_type": "stream",
     "text": [
      "/opt/anaconda3/envs/flexpower/lib/python3.7/site-packages/scipy/stats/stats.py:4023: PearsonRConstantInputWarning: An input array is constant; the correlation coefficient is not defined.\n",
      "  warnings.warn(PearsonRConstantInputWarning())\n"
     ]
    },
    {
     "name": "stdout",
     "output_type": "stream",
     "text": [
      "74. Processing PV profile 1270 and NPD 4285500, ./data/hydro/existing_plants/synthetic_profiles/ed_4285500_2017_synthetic.csv\n",
      "75. Processing PV profile 915 and NPD 4290500, ./data/hydro/existing_plants/synthetic_profiles/ed_4290500_2010_synthetic.csv\n",
      "No data in site 4290500 \n",
      "76. Processing PV profile 677 and NPD 4292500, ./data/hydro/existing_plants/synthetic_profiles/ed_4292500_2010_synthetic.csv\n",
      "No data in site 4292500 \n",
      "77. Processing PV profile 2173 and NPD 4293000, ./data/hydro/existing_plants/synthetic_profiles/ed_4293000_2015_synthetic.csv\n"
     ]
    },
    {
     "name": "stderr",
     "output_type": "stream",
     "text": [
      "/opt/anaconda3/envs/flexpower/lib/python3.7/site-packages/scipy/stats/stats.py:4023: PearsonRConstantInputWarning: An input array is constant; the correlation coefficient is not defined.\n",
      "  warnings.warn(PearsonRConstantInputWarning())\n"
     ]
    },
    {
     "name": "stdout",
     "output_type": "stream",
     "text": [
      "78. Processing PV profile 944 and NPD 4294000, ./data/hydro/existing_plants/synthetic_profiles/ed_4294000_2015_synthetic.csv\n"
     ]
    },
    {
     "name": "stderr",
     "output_type": "stream",
     "text": [
      "/opt/anaconda3/envs/flexpower/lib/python3.7/site-packages/scipy/stats/stats.py:4023: PearsonRConstantInputWarning: An input array is constant; the correlation coefficient is not defined.\n",
      "  warnings.warn(PearsonRConstantInputWarning())\n"
     ]
    },
    {
     "name": "stdout",
     "output_type": "stream",
     "text": [
      "79. Processing PV profile 1275 and NPD 5129515, ./data/hydro/existing_plants/synthetic_profiles/ed_5129515_2016_synthetic.csv\n",
      "80. Processing PV profile 1602 and NPD 5200510, ./data/hydro/existing_plants/synthetic_profiles/ed_5200510_2013_synthetic.csv\n"
     ]
    },
    {
     "name": "stderr",
     "output_type": "stream",
     "text": [
      "/opt/anaconda3/envs/flexpower/lib/python3.7/site-packages/scipy/stats/stats.py:4023: PearsonRConstantInputWarning: An input array is constant; the correlation coefficient is not defined.\n",
      "  warnings.warn(PearsonRConstantInputWarning())\n"
     ]
    },
    {
     "name": "stdout",
     "output_type": "stream",
     "text": [
      "81. Processing PV profile 931 and NPD 5242300, ./data/hydro/existing_plants/synthetic_profiles/ed_5242300_2013_synthetic.csv\n"
     ]
    },
    {
     "name": "stderr",
     "output_type": "stream",
     "text": [
      "/opt/anaconda3/envs/flexpower/lib/python3.7/site-packages/scipy/stats/stats.py:4023: PearsonRConstantInputWarning: An input array is constant; the correlation coefficient is not defined.\n",
      "  warnings.warn(PearsonRConstantInputWarning())\n"
     ]
    },
    {
     "name": "stdout",
     "output_type": "stream",
     "text": [
      "82. Processing PV profile 870 and NPD 5247500, ./data/hydro/existing_plants/synthetic_profiles/ed_5247500_2018_synthetic.csv\n"
     ]
    },
    {
     "name": "stderr",
     "output_type": "stream",
     "text": [
      "/opt/anaconda3/envs/flexpower/lib/python3.7/site-packages/scipy/stats/stats.py:4023: PearsonRConstantInputWarning: An input array is constant; the correlation coefficient is not defined.\n",
      "  warnings.warn(PearsonRConstantInputWarning())\n"
     ]
    },
    {
     "name": "stdout",
     "output_type": "stream",
     "text": [
      "83. Processing PV profile 379 and NPD 5267000, ./data/hydro/existing_plants/synthetic_profiles/ed_5267000_2011_synthetic.csv\n"
     ]
    },
    {
     "name": "stderr",
     "output_type": "stream",
     "text": [
      "/opt/anaconda3/envs/flexpower/lib/python3.7/site-packages/scipy/stats/stats.py:4023: PearsonRConstantInputWarning: An input array is constant; the correlation coefficient is not defined.\n",
      "  warnings.warn(PearsonRConstantInputWarning())\n"
     ]
    },
    {
     "name": "stdout",
     "output_type": "stream",
     "text": [
      "84. Processing PV profile 1764 and NPD 5270700, ./data/hydro/existing_plants/synthetic_profiles/ed_5270700_2018_synthetic.csv\n",
      "85. Processing PV profile 1123 and NPD 5341752, ./data/hydro/existing_plants/synthetic_profiles/ed_5341752_2013_synthetic.csv\n",
      "No data in site 5341752 \n",
      "86. Processing PV profile 1479 and NPD 5342000, ./data/hydro/existing_plants/synthetic_profiles/ed_5342000_2013_synthetic.csv\n",
      "No data in site 5342000 \n",
      "87. Processing PV profile 1334 and NPD 5355092, ./data/hydro/existing_plants/synthetic_profiles/ed_5355092_2018_synthetic.csv\n"
     ]
    },
    {
     "name": "stderr",
     "output_type": "stream",
     "text": [
      "/opt/anaconda3/envs/flexpower/lib/python3.7/site-packages/scipy/stats/stats.py:4023: PearsonRConstantInputWarning: An input array is constant; the correlation coefficient is not defined.\n",
      "  warnings.warn(PearsonRConstantInputWarning())\n"
     ]
    },
    {
     "name": "stdout",
     "output_type": "stream",
     "text": [
      "88. Processing PV profile 1871 and NPD 5383075, ./data/hydro/existing_plants/synthetic_profiles/ed_5383075_2010_synthetic.csv\n"
     ]
    },
    {
     "name": "stderr",
     "output_type": "stream",
     "text": [
      "/opt/anaconda3/envs/flexpower/lib/python3.7/site-packages/scipy/stats/stats.py:4023: PearsonRConstantInputWarning: An input array is constant; the correlation coefficient is not defined.\n",
      "  warnings.warn(PearsonRConstantInputWarning())\n"
     ]
    },
    {
     "name": "stdout",
     "output_type": "stream",
     "text": [
      "89. Processing PV profile 1409 and NPD 5421740, ./data/hydro/existing_plants/synthetic_profiles/ed_5421740_2017_synthetic.csv\n"
     ]
    },
    {
     "name": "stderr",
     "output_type": "stream",
     "text": [
      "/opt/anaconda3/envs/flexpower/lib/python3.7/site-packages/scipy/stats/stats.py:4023: PearsonRConstantInputWarning: An input array is constant; the correlation coefficient is not defined.\n",
      "  warnings.warn(PearsonRConstantInputWarning())\n"
     ]
    },
    {
     "name": "stdout",
     "output_type": "stream",
     "text": [
      "90. Processing PV profile 862 and NPD 5442300, ./data/hydro/existing_plants/synthetic_profiles/ed_5442300_2010_synthetic.csv\n",
      "No data in site 5442300 \n",
      "91. Processing PV profile 1366 and NPD 5443500, ./data/hydro/existing_plants/synthetic_profiles/ed_5443500_2013_synthetic.csv\n"
     ]
    },
    {
     "name": "stderr",
     "output_type": "stream",
     "text": [
      "/opt/anaconda3/envs/flexpower/lib/python3.7/site-packages/scipy/stats/stats.py:4023: PearsonRConstantInputWarning: An input array is constant; the correlation coefficient is not defined.\n",
      "  warnings.warn(PearsonRConstantInputWarning())\n"
     ]
    },
    {
     "name": "stdout",
     "output_type": "stream",
     "text": [
      "92. Processing PV profile 171 and NPD 5507800, ./data/hydro/existing_plants/synthetic_profiles/ed_5507800_2016_synthetic.csv\n",
      "93. Processing PV profile 737 and NPD 6204070, ./data/hydro/existing_plants/synthetic_profiles/ed_6204070_2013_synthetic.csv\n"
     ]
    },
    {
     "name": "stderr",
     "output_type": "stream",
     "text": [
      "/opt/anaconda3/envs/flexpower/lib/python3.7/site-packages/scipy/stats/stats.py:4023: PearsonRConstantInputWarning: An input array is constant; the correlation coefficient is not defined.\n",
      "  warnings.warn(PearsonRConstantInputWarning())\n"
     ]
    },
    {
     "name": "stdout",
     "output_type": "stream",
     "text": [
      "94. Processing PV profile 788 and NPD 6714500, ./data/hydro/existing_plants/synthetic_profiles/ed_6714500_2019_synthetic.csv\n"
     ]
    },
    {
     "name": "stderr",
     "output_type": "stream",
     "text": [
      "/opt/anaconda3/envs/flexpower/lib/python3.7/site-packages/scipy/stats/stats.py:4023: PearsonRConstantInputWarning: An input array is constant; the correlation coefficient is not defined.\n",
      "  warnings.warn(PearsonRConstantInputWarning())\n"
     ]
    },
    {
     "name": "stdout",
     "output_type": "stream",
     "text": [
      "95. Processing PV profile 18 and NPD 6741510, ./data/hydro/existing_plants/synthetic_profiles/ed_6741510_2012_synthetic.csv\n",
      "No data in site 6741510 \n",
      "96. Processing PV profile 436 and NPD 6796000, ./data/hydro/existing_plants/synthetic_profiles/ed_6796000_2015_synthetic.csv\n",
      "97. Processing PV profile 388 and NPD 6926000, ./data/hydro/existing_plants/synthetic_profiles/ed_6926000_2018_synthetic.csv\n",
      "98. Processing PV profile 103 and NPD 7083710, ./data/hydro/existing_plants/synthetic_profiles/ed_7083710_2010_synthetic.csv\n",
      "No data in site 7083710 \n",
      "99. Processing PV profile 923 and NPD 7191500, ./data/hydro/existing_plants/synthetic_profiles/ed_7191500_2016_synthetic.csv\n",
      "100. Processing PV profile 305 and NPD 7263450, ./data/hydro/existing_plants/synthetic_profiles/ed_7263450_2010_synthetic.csv\n"
     ]
    },
    {
     "name": "stderr",
     "output_type": "stream",
     "text": [
      "/opt/anaconda3/envs/flexpower/lib/python3.7/site-packages/scipy/stats/stats.py:4023: PearsonRConstantInputWarning: An input array is constant; the correlation coefficient is not defined.\n",
      "  warnings.warn(PearsonRConstantInputWarning())\n"
     ]
    },
    {
     "name": "stdout",
     "output_type": "stream",
     "text": [
      "101. Processing PV profile 275 and NPD 8053000, ./data/hydro/existing_plants/synthetic_profiles/ed_8053000_2010_synthetic.csv\n",
      "No data in site 8053000 \n",
      "102. Processing PV profile 274 and NPD 8167800, ./data/hydro/existing_plants/synthetic_profiles/ed_8167800_2017_synthetic.csv\n",
      "103. Processing PV profile 1628 and NPD 8169845, ./data/hydro/existing_plants/synthetic_profiles/ed_8169845_2019_synthetic.csv\n"
     ]
    },
    {
     "name": "stderr",
     "output_type": "stream",
     "text": [
      "/opt/anaconda3/envs/flexpower/lib/python3.7/site-packages/scipy/stats/stats.py:4023: PearsonRConstantInputWarning: An input array is constant; the correlation coefficient is not defined.\n",
      "  warnings.warn(PearsonRConstantInputWarning())\n"
     ]
    },
    {
     "name": "stdout",
     "output_type": "stream",
     "text": [
      "104. Processing PV profile 1151 and NPD 8173900, ./data/hydro/existing_plants/synthetic_profiles/ed_8173900_2018_synthetic.csv\n",
      "No data in site 8173900 \n",
      "105. Processing PV profile 16 and NPD 8361000, ./data/hydro/existing_plants/synthetic_profiles/ed_8361000_2015_synthetic.csv\n"
     ]
    },
    {
     "name": "stderr",
     "output_type": "stream",
     "text": [
      "/opt/anaconda3/envs/flexpower/lib/python3.7/site-packages/scipy/stats/stats.py:4023: PearsonRConstantInputWarning: An input array is constant; the correlation coefficient is not defined.\n",
      "  warnings.warn(PearsonRConstantInputWarning())\n"
     ]
    },
    {
     "name": "stdout",
     "output_type": "stream",
     "text": [
      "106. Processing PV profile 1247 and NPD 9050700, ./data/hydro/existing_plants/synthetic_profiles/ed_9050700_2016_synthetic.csv\n"
     ]
    },
    {
     "name": "stderr",
     "output_type": "stream",
     "text": [
      "/opt/anaconda3/envs/flexpower/lib/python3.7/site-packages/scipy/stats/stats.py:4023: PearsonRConstantInputWarning: An input array is constant; the correlation coefficient is not defined.\n",
      "  warnings.warn(PearsonRConstantInputWarning())\n"
     ]
    },
    {
     "name": "stdout",
     "output_type": "stream",
     "text": [
      "107. Processing PV profile 25 and NPD 9057500, ./data/hydro/existing_plants/synthetic_profiles/ed_9057500_2016_synthetic.csv\n",
      "108. Processing PV profile 1741 and NPD 9079450, ./data/hydro/existing_plants/synthetic_profiles/ed_9079450_2017_synthetic.csv\n"
     ]
    },
    {
     "name": "stderr",
     "output_type": "stream",
     "text": [
      "/opt/anaconda3/envs/flexpower/lib/python3.7/site-packages/scipy/stats/stats.py:4023: PearsonRConstantInputWarning: An input array is constant; the correlation coefficient is not defined.\n",
      "  warnings.warn(PearsonRConstantInputWarning())\n"
     ]
    },
    {
     "name": "stdout",
     "output_type": "stream",
     "text": [
      "109. Processing PV profile 101 and NPD 9080400, ./data/hydro/existing_plants/synthetic_profiles/ed_9080400_2017_synthetic.csv\n",
      "110. Processing PV profile 13 and NPD 9128000, ./data/hydro/existing_plants/synthetic_profiles/ed_9128000_2016_synthetic.csv\n",
      "111. Processing PV profile 20 and NPD 9211200, ./data/hydro/existing_plants/synthetic_profiles/ed_9211200_2015_synthetic.csv\n"
     ]
    },
    {
     "name": "stderr",
     "output_type": "stream",
     "text": [
      "/opt/anaconda3/envs/flexpower/lib/python3.7/site-packages/scipy/stats/stats.py:4023: PearsonRConstantInputWarning: An input array is constant; the correlation coefficient is not defined.\n",
      "  warnings.warn(PearsonRConstantInputWarning())\n"
     ]
    },
    {
     "name": "stdout",
     "output_type": "stream",
     "text": [
      "112. Processing PV profile 2048 and NPD 9237500, ./data/hydro/existing_plants/synthetic_profiles/ed_9237500_2010_synthetic.csv\n"
     ]
    },
    {
     "name": "stderr",
     "output_type": "stream",
     "text": [
      "/opt/anaconda3/envs/flexpower/lib/python3.7/site-packages/scipy/stats/stats.py:4023: PearsonRConstantInputWarning: An input array is constant; the correlation coefficient is not defined.\n",
      "  warnings.warn(PearsonRConstantInputWarning())\n"
     ]
    },
    {
     "name": "stdout",
     "output_type": "stream",
     "text": [
      "113. Processing PV profile 97 and NPD 9353800, ./data/hydro/existing_plants/synthetic_profiles/ed_9353800_2014_synthetic.csv\n",
      "No data in site 9353800 \n",
      "114. Processing PV profile 22 and NPD 9380000, ./data/hydro/existing_plants/synthetic_profiles/ed_9380000_2015_synthetic.csv\n",
      "115. Processing PV profile 1447 and NPD 9410100, ./data/hydro/existing_plants/synthetic_profiles/ed_9410100_2016_synthetic.csv\n",
      "No data in site 9410100 \n",
      "116. Processing PV profile 14 and NPD 9423000, ./data/hydro/existing_plants/synthetic_profiles/ed_9423000_2012_synthetic.csv\n",
      "117. Processing PV profile 47 and NPD 9427520, ./data/hydro/existing_plants/synthetic_profiles/ed_9427520_2017_synthetic.csv\n",
      "118. Processing PV profile 1231 and NPD 10113500, ./data/hydro/existing_plants/synthetic_profiles/ed_10113500_2012_synthetic.csv\n",
      "119. Processing PV profile 102 and NPD 10132000, ./data/hydro/existing_plants/synthetic_profiles/ed_10132000_2016_synthetic.csv\n"
     ]
    },
    {
     "name": "stderr",
     "output_type": "stream",
     "text": [
      "/opt/anaconda3/envs/flexpower/lib/python3.7/site-packages/scipy/stats/stats.py:4023: PearsonRConstantInputWarning: An input array is constant; the correlation coefficient is not defined.\n",
      "  warnings.warn(PearsonRConstantInputWarning())\n"
     ]
    },
    {
     "name": "stdout",
     "output_type": "stream",
     "text": [
      "120. Processing PV profile 79 and NPD 10137000, ./data/hydro/existing_plants/synthetic_profiles/ed_10137000_2016_synthetic.csv\n",
      "No data in site 10137000 \n",
      "121. Processing PV profile 108 and NPD 10140100, ./data/hydro/existing_plants/synthetic_profiles/ed_10140100_2012_synthetic.csv\n"
     ]
    },
    {
     "name": "stderr",
     "output_type": "stream",
     "text": [
      "/opt/anaconda3/envs/flexpower/lib/python3.7/site-packages/scipy/stats/stats.py:4023: PearsonRConstantInputWarning: An input array is constant; the correlation coefficient is not defined.\n",
      "  warnings.warn(PearsonRConstantInputWarning())\n"
     ]
    },
    {
     "name": "stdout",
     "output_type": "stream",
     "text": [
      "122. Processing PV profile 108 and NPD 10140700, ./data/hydro/existing_plants/synthetic_profiles/ed_10140700_2012_synthetic.csv\n",
      "No data in site 10140700 \n",
      "123. Processing PV profile 149 and NPD 10155200, ./data/hydro/existing_plants/synthetic_profiles/ed_10155200_2010_synthetic.csv\n",
      "124. Processing PV profile 416 and NPD 10234500, ./data/hydro/existing_plants/synthetic_profiles/ed_10234500_2015_synthetic.csv\n"
     ]
    },
    {
     "name": "stderr",
     "output_type": "stream",
     "text": [
      "/opt/anaconda3/envs/flexpower/lib/python3.7/site-packages/scipy/stats/stats.py:4023: PearsonRConstantInputWarning: An input array is constant; the correlation coefficient is not defined.\n",
      "  warnings.warn(PearsonRConstantInputWarning())\n"
     ]
    },
    {
     "name": "stdout",
     "output_type": "stream",
     "text": [
      "125. Processing PV profile 69 and NPD 10312275, ./data/hydro/existing_plants/synthetic_profiles/ed_10312275_2012_synthetic.csv\n",
      "126. Processing PV profile 55 and NPD 10344500, ./data/hydro/existing_plants/synthetic_profiles/ed_10344500_2013_synthetic.csv\n",
      "127. Processing PV profile 270 and NPD 11465200, ./data/hydro/existing_plants/synthetic_profiles/ed_11465200_2012_synthetic.csv\n",
      "No data in site 11465200 \n"
     ]
    },
    {
     "ename": "FileNotFoundError",
     "evalue": "[Errno 2] No such file or directory: './data/hydro s/existing_plants/complementarity/pearson/rep_year_MONTHLY_ed_pearsons_pv_hydro.csv'",
     "output_type": "error",
     "traceback": [
      "\u001b[0;31m---------------------------------------------------------------------------\u001b[0m",
      "\u001b[0;31mFileNotFoundError\u001b[0m                         Traceback (most recent call last)",
      "\u001b[0;32m<ipython-input-23-9d0c67024905>\u001b[0m in \u001b[0;36m<module>\u001b[0;34m\u001b[0m\n\u001b[1;32m     94\u001b[0m \u001b[0;34m\u001b[0m\u001b[0m\n\u001b[1;32m     95\u001b[0m \u001b[0mannual_stab_df\u001b[0m\u001b[0;34m.\u001b[0m\u001b[0mto_csv\u001b[0m\u001b[0;34m(\u001b[0m\u001b[0;34mf\"{c_stab_path}/rep_year_MONTHLY_ed_stab_pv_hydro.csv\"\u001b[0m\u001b[0;34m)\u001b[0m\u001b[0;34m\u001b[0m\u001b[0;34m\u001b[0m\u001b[0m\n\u001b[0;32m---> 96\u001b[0;31m \u001b[0mannual_mean_p\u001b[0m\u001b[0;34m.\u001b[0m\u001b[0mto_csv\u001b[0m\u001b[0;34m(\u001b[0m\u001b[0;34mf\"{pearsons_path}/rep_year_MONTHLY_ed_pearsons_pv_hydro.csv\"\u001b[0m\u001b[0;34m)\u001b[0m\u001b[0;34m\u001b[0m\u001b[0;34m\u001b[0m\u001b[0m\n\u001b[0m",
      "\u001b[0;32m/opt/anaconda3/envs/flexpower/lib/python3.7/site-packages/pandas/core/generic.py\u001b[0m in \u001b[0;36mto_csv\u001b[0;34m(self, path_or_buf, sep, na_rep, float_format, columns, header, index, index_label, mode, encoding, compression, quoting, quotechar, line_terminator, chunksize, date_format, doublequote, escapechar, decimal, errors, storage_options)\u001b[0m\n\u001b[1;32m   3480\u001b[0m             \u001b[0mdoublequote\u001b[0m\u001b[0;34m=\u001b[0m\u001b[0mdoublequote\u001b[0m\u001b[0;34m,\u001b[0m\u001b[0;34m\u001b[0m\u001b[0;34m\u001b[0m\u001b[0m\n\u001b[1;32m   3481\u001b[0m             \u001b[0mescapechar\u001b[0m\u001b[0;34m=\u001b[0m\u001b[0mescapechar\u001b[0m\u001b[0;34m,\u001b[0m\u001b[0;34m\u001b[0m\u001b[0;34m\u001b[0m\u001b[0m\n\u001b[0;32m-> 3482\u001b[0;31m             \u001b[0mstorage_options\u001b[0m\u001b[0;34m=\u001b[0m\u001b[0mstorage_options\u001b[0m\u001b[0;34m,\u001b[0m\u001b[0;34m\u001b[0m\u001b[0;34m\u001b[0m\u001b[0m\n\u001b[0m\u001b[1;32m   3483\u001b[0m         )\n\u001b[1;32m   3484\u001b[0m \u001b[0;34m\u001b[0m\u001b[0m\n",
      "\u001b[0;32m/opt/anaconda3/envs/flexpower/lib/python3.7/site-packages/pandas/io/formats/format.py\u001b[0m in \u001b[0;36mto_csv\u001b[0;34m(self, path_or_buf, encoding, sep, columns, index_label, mode, compression, quoting, quotechar, line_terminator, chunksize, date_format, doublequote, escapechar, errors, storage_options)\u001b[0m\n\u001b[1;32m   1103\u001b[0m             \u001b[0mformatter\u001b[0m\u001b[0;34m=\u001b[0m\u001b[0mself\u001b[0m\u001b[0;34m.\u001b[0m\u001b[0mfmt\u001b[0m\u001b[0;34m,\u001b[0m\u001b[0;34m\u001b[0m\u001b[0;34m\u001b[0m\u001b[0m\n\u001b[1;32m   1104\u001b[0m         )\n\u001b[0;32m-> 1105\u001b[0;31m         \u001b[0mcsv_formatter\u001b[0m\u001b[0;34m.\u001b[0m\u001b[0msave\u001b[0m\u001b[0;34m(\u001b[0m\u001b[0;34m)\u001b[0m\u001b[0;34m\u001b[0m\u001b[0;34m\u001b[0m\u001b[0m\n\u001b[0m\u001b[1;32m   1106\u001b[0m \u001b[0;34m\u001b[0m\u001b[0m\n\u001b[1;32m   1107\u001b[0m         \u001b[0;32mif\u001b[0m \u001b[0mcreated_buffer\u001b[0m\u001b[0;34m:\u001b[0m\u001b[0;34m\u001b[0m\u001b[0;34m\u001b[0m\u001b[0m\n",
      "\u001b[0;32m/opt/anaconda3/envs/flexpower/lib/python3.7/site-packages/pandas/io/formats/csvs.py\u001b[0m in \u001b[0;36msave\u001b[0;34m(self)\u001b[0m\n\u001b[1;32m    241\u001b[0m             \u001b[0merrors\u001b[0m\u001b[0;34m=\u001b[0m\u001b[0mself\u001b[0m\u001b[0;34m.\u001b[0m\u001b[0merrors\u001b[0m\u001b[0;34m,\u001b[0m\u001b[0;34m\u001b[0m\u001b[0;34m\u001b[0m\u001b[0m\n\u001b[1;32m    242\u001b[0m             \u001b[0mcompression\u001b[0m\u001b[0;34m=\u001b[0m\u001b[0mself\u001b[0m\u001b[0;34m.\u001b[0m\u001b[0mcompression\u001b[0m\u001b[0;34m,\u001b[0m\u001b[0;34m\u001b[0m\u001b[0;34m\u001b[0m\u001b[0m\n\u001b[0;32m--> 243\u001b[0;31m             \u001b[0mstorage_options\u001b[0m\u001b[0;34m=\u001b[0m\u001b[0mself\u001b[0m\u001b[0;34m.\u001b[0m\u001b[0mstorage_options\u001b[0m\u001b[0;34m,\u001b[0m\u001b[0;34m\u001b[0m\u001b[0;34m\u001b[0m\u001b[0m\n\u001b[0m\u001b[1;32m    244\u001b[0m         ) as handles:\n\u001b[1;32m    245\u001b[0m \u001b[0;34m\u001b[0m\u001b[0m\n",
      "\u001b[0;32m/opt/anaconda3/envs/flexpower/lib/python3.7/site-packages/pandas/io/common.py\u001b[0m in \u001b[0;36mget_handle\u001b[0;34m(path_or_buf, mode, encoding, compression, memory_map, is_text, errors, storage_options)\u001b[0m\n\u001b[1;32m    705\u001b[0m                 \u001b[0mencoding\u001b[0m\u001b[0;34m=\u001b[0m\u001b[0mioargs\u001b[0m\u001b[0;34m.\u001b[0m\u001b[0mencoding\u001b[0m\u001b[0;34m,\u001b[0m\u001b[0;34m\u001b[0m\u001b[0;34m\u001b[0m\u001b[0m\n\u001b[1;32m    706\u001b[0m                 \u001b[0merrors\u001b[0m\u001b[0;34m=\u001b[0m\u001b[0merrors\u001b[0m\u001b[0;34m,\u001b[0m\u001b[0;34m\u001b[0m\u001b[0;34m\u001b[0m\u001b[0m\n\u001b[0;32m--> 707\u001b[0;31m                 \u001b[0mnewline\u001b[0m\u001b[0;34m=\u001b[0m\u001b[0;34m\"\"\u001b[0m\u001b[0;34m,\u001b[0m\u001b[0;34m\u001b[0m\u001b[0;34m\u001b[0m\u001b[0m\n\u001b[0m\u001b[1;32m    708\u001b[0m             )\n\u001b[1;32m    709\u001b[0m         \u001b[0;32melse\u001b[0m\u001b[0;34m:\u001b[0m\u001b[0;34m\u001b[0m\u001b[0;34m\u001b[0m\u001b[0m\n",
      "\u001b[0;31mFileNotFoundError\u001b[0m: [Errno 2] No such file or directory: './data/hydro s/existing_plants/complementarity/pearson/rep_year_MONTHLY_ed_pearsons_pv_hydro.csv'"
     ]
    }
   ],
   "source": [
    "from pathlib import Path\n",
    "from scipy.stats import pearsonr\n",
    "import seaborn as sns\n",
    "\n",
    "### Stability coefficient\n",
    "missing_sites = []\n",
    "df_missing = pd.DataFrame()\n",
    "pv_wind_id_df.fillna(0, inplace=True)\n",
    "pearsons_pv_hy = pd.DataFrame(columns=['site_id','p'])\n",
    "annual_mean_p = pd.DataFrame()\n",
    "annual_stab_df = pd.DataFrame(columns = ['site_id', 'lat', 'lon'])\n",
    "\n",
    "for idx, row in pv_wind_id_df.iterrows():\n",
    "    \n",
    "    if row['post_csv_filename'] == 0:\n",
    "        print( f\"No file for site {row['site_id']} \")\n",
    "        missing_sites.append(row['site_id'])\n",
    "        continue\n",
    "    \n",
    "    if row['site_id'] not in rep_year_df.site.values:\n",
    "        print(f\"Site doesn't have enough data: {row['site_id']}\")\n",
    "        empty_data_sites.append(row['site_id'])\n",
    "        query_df.loc[idx,'post_csv_filename'] = \"\"\n",
    "        continue\n",
    "        \n",
    "    print(f\"{idx}. Processing PV profile {row['pv_id']} and NPD {row['site_id']}, {row['post_csv_filename']}\")\n",
    "\n",
    "    solar_df = pd.read_csv(f\"{pv_dest_path}/{row['pv_id']}_{pv_filename_prefix}.csv\",parse_dates=True,index_col=0)\n",
    "\n",
    "    hydro_df = pd.read_csv(row['post_csv_filename'],parse_dates=True,index_col=0)\n",
    "    hydro_df.fillna(0, inplace=True)\n",
    "    \n",
    "    if float(hydro_df['capacity_factor'].sum()) == 0.0:\n",
    "        print( f\"No data in site {row['site_id']} \")\n",
    "        missing_sites.append(row['site_id'])\n",
    "        continue\n",
    "\n",
    "    c_stab = []\n",
    "    pearsons = []\n",
    "    \n",
    "    # Finds the representative year for the given stream gage\n",
    "    year = str(rep_year_df['year'].loc[rep_year_df.site == row['site_id']].values[0])\n",
    "    \n",
    "    # Massaging the timestamps of the hydropower time-series given that we are chosing the best year in terms of data completion.\n",
    "    # Here, we copy the CF into a new dataframe with the time-stamps from 2012\n",
    "    tmp_hydro_df_rep_year = hydro_df.loc[year,'capacity_factor'].copy().to_frame()\n",
    "    tmp_hydro_df = base_df.copy()\n",
    "    tmp_hydro_df.set_index('dateTime',inplace=True)\n",
    "    tmp_hydro_df['capacity_factor'] = tmp_hydro_df_rep_year.loc[year,'capacity_factor'].values\n",
    "     \n",
    "    tmp_solar_df = solar_df.loc['2012-01-01':'2012-12-30'].copy()\n",
    "\n",
    "    for month in months:\n",
    "\n",
    "        if month < 10:\n",
    "            month = f'0{str(month)}'\n",
    "        else:\n",
    "            month = str(month)\n",
    "        \n",
    "        tmp_hydro_monthly_df = tmp_hydro_df.loc[f'2012-{month}','capacity_factor'].copy().to_frame()\n",
    "        tmp_solar_monthly_df = tmp_solar_df.loc[f'2012-{month}'].copy()\n",
    "\n",
    "        tmp_hydro_monthly_df.rename(columns={'capacity_factor':row['site_id']}, inplace=True)\n",
    "        tmp_solar_monthly_df.rename(columns={str(row['pv_id']):row['site_id']}, inplace=True)\n",
    "\n",
    "        # Compute complementarity metrics (PV as reference)\n",
    "        _, c_stab_tmp = main_stability(tmp_solar_monthly_df, tmp_hydro_monthly_df)\n",
    "        c_stab_tmp.rename(columns={row['site_id']:month}, inplace=True)\n",
    "\n",
    "        c_stab.append(c_stab_tmp)\n",
    "         \n",
    "        corr, _ = pearsonr(tmp_solar_monthly_df[row['site_id']].values, tmp_hydro_monthly_df[row['site_id']].values)\n",
    "        pearsons.append(corr)\n",
    "    \n",
    "    # ***************************************** Stability Coefficient *****************************************\n",
    "    c_stab_df = pd.concat(c_stab, axis=1)\n",
    "\n",
    "    annual_mean = c_stab_df.mean(axis=0)\n",
    "\n",
    "    annual_stab_df.loc[idx,'site_id'] = row['site_id']\n",
    "    annual_stab_df.loc[idx,'pv_id'] = row['pv_id']\n",
    "    annual_stab_df.loc[idx,'lat'] = row['lat']\n",
    "    annual_stab_df.loc[idx,'lon'] = row['lon']\n",
    "    annual_stab_df.loc[idx,months] = annual_mean.values\n",
    "    \n",
    "    # ***************************************** Pearsons Coefficient *****************************************\n",
    "    p_series = pd.Series(pearsons)\n",
    "\n",
    "    annual_mean_p.loc[idx,'site_id'] = row['site_id']\n",
    "    annual_mean_p.loc[idx,'pv_id'] = row['pv_id']\n",
    "    annual_mean_p.loc[idx,'lat'] = row['lat']\n",
    "    annual_mean_p.loc[idx,'lon'] = row['lon']\n",
    "    annual_mean_p.loc[idx,months] = p_series.values\n",
    "\n",
    "annual_stab_df.to_csv(f\"{c_stab_path}/rep_year_MONTHLY_ed_stab_pv_hydro.csv\")\n",
    "annual_mean_p.to_csv(f\"{pearsons_path}/rep_year_MONTHLY_ed_pearsons_pv_hydro.csv\")"
   ]
  },
  {
   "cell_type": "code",
   "execution_count": null,
   "metadata": {},
   "outputs": [],
   "source": [
    "annual_stab_df.head()"
   ]
  },
  {
   "cell_type": "markdown",
   "metadata": {},
   "source": [
    "## Complementarity PV-Wind"
   ]
  },
  {
   "cell_type": "code",
   "execution_count": null,
   "metadata": {},
   "outputs": [],
   "source": [
    "from pathlib import Path\n",
    "from scipy.stats import pearsonr\n",
    "\n",
    "### Stability coefficient\n",
    "missing_sites = []\n",
    "df_missing = pd.DataFrame()\n",
    "\n",
    "pv_wind_id_df.fillna(0, inplace=True)\n",
    "\n",
    "annual_mean_p = pd.DataFrame()\n",
    "pearsons_wind_hy = pd.DataFrame(columns=['site_id','p'])\n",
    "\n",
    "annual_stab_df = pd.DataFrame(columns = ['site_id', 'lat', 'lon'])\n",
    "\n",
    "for idx, row in pv_wind_id_df.iterrows():\n",
    "    \n",
    "    if row['post_csv_filename'] == 0:\n",
    "        print( f\"No file for site {row['site_id']} \")\n",
    "        missing_sites.append(row['site_id'])\n",
    "        continue\n",
    "    \n",
    "    if row['site_id'] not in rep_year_df.site.values:\n",
    "        print(f\"Site doesn't have enough data: {row['site_id']}\")\n",
    "        empty_data_sites.append(row['site_id'])\n",
    "        query_df.loc[idx,'post_csv_filename'] = \"\"\n",
    "        continue\n",
    "\n",
    "    print(f\"{idx}. Processing Wind profile {row['wind_id']} and NPD {row['site_id']}, {row['post_csv_filename']}\")\n",
    "\n",
    "    wind_df = pd.read_csv(f\"{wind_dest_path}/{row['wind_id']}_{wind_filename_prefix}.csv\",parse_dates=True,index_col=0)\n",
    "\n",
    "    hydro_df = pd.read_csv(row['post_csv_filename'],parse_dates=True,index_col=0)\n",
    "    hydro_df.fillna(0, inplace=True)\n",
    "\n",
    "    if float(hydro_df['capacity_factor'].sum()) == 0.0:\n",
    "        print( f\"No data in site {row['site_id']} \")\n",
    "        missing_sites.append(row['site_id'])\n",
    "        continue\n",
    "\n",
    "    cf_mix = []\n",
    "    c_stab = []\n",
    "    pearsons = []\n",
    "    \n",
    "    # Finds the representative year for the given stream gage\n",
    "    year = str(rep_year_df['year'].loc[rep_year_df.site == row['site_id']].values[0])\n",
    "    \n",
    "    # Massaging the timestamps of the hydropower time-series given that we are chosing the best year in terms of data completion.\n",
    "    # Here, we copy the CF into a new dataframe with the time-stamps from 2012\n",
    "    tmp_hydro_df_rep_year = hydro_df.loc[year,'capacity_factor'].copy().to_frame()\n",
    "    tmp_hydro_df = base_df.copy()\n",
    "    tmp_hydro_df.set_index('dateTime',inplace=True)\n",
    "    tmp_hydro_df['capacity_factor'] = tmp_hydro_df_rep_year.loc[year,'capacity_factor'].values\n",
    "    \n",
    "    tmp_wind_df = wind_df.loc['2012-01-01':'2012-12-30'].copy()\n",
    "\n",
    "    \n",
    "    for month in months:\n",
    "\n",
    "        if month < 10:\n",
    "            month = f'0{str(month)}'\n",
    "        else:\n",
    "            month = str(month)\n",
    "        \n",
    "        tmp_hydro_monthly_df = tmp_hydro_df.loc[f'2012-{month}','capacity_factor'].copy().to_frame()\n",
    "        tmp_wind_monthly_df = tmp_wind_df.loc[f'2012-{month}'].copy()\n",
    "\n",
    "        tmp_hydro_monthly_df.rename(columns={'capacity_factor':row['site_id']}, inplace=True)\n",
    "        tmp_wind_monthly_df.rename(columns={str(row['wind_id']):row['site_id']}, inplace=True)\n",
    "\n",
    "        # Compute complementarity metrics (PV as reference)\n",
    "        _, c_stab_tmp = main_stability(tmp_wind_monthly_df, tmp_hydro_monthly_df)\n",
    "        c_stab_tmp.rename(columns={row['site_id']:month}, inplace=True)\n",
    "\n",
    "        c_stab.append(c_stab_tmp)\n",
    "        \n",
    "        corr, _ = pearsonr(tmp_wind_monthly_df[row['site_id']].values, tmp_hydro_monthly_df[row['site_id']].values)\n",
    "        pearsons.append(corr)\n",
    "\n",
    "    c_stab_df = pd.concat(c_stab, axis=1)\n",
    "    \n",
    "    annual_mean = c_stab_df.mean(axis=0)\n",
    "\n",
    "    annual_stab_df.loc[idx,'site_id'] = row['site_id']\n",
    "    annual_stab_df.loc[idx,'pv_id'] = row['pv_id']\n",
    "    annual_stab_df.loc[idx,'lat'] = row['lat']\n",
    "    annual_stab_df.loc[idx,'lon'] = row['lon']\n",
    "    annual_stab_df.loc[idx,months] = annual_mean.values\n",
    "    \n",
    "    # ***************************************** Pearsons Coefficient *****************************************\n",
    "    p_series = pd.Series(pearsons)\n",
    "\n",
    "    annual_mean_p.loc[idx,'site_id'] = row['site_id']\n",
    "    annual_mean_p.loc[idx,'pv_id'] = row['pv_id']\n",
    "    annual_mean_p.loc[idx,'lat'] = row['lat']\n",
    "    annual_mean_p.loc[idx,'lon'] = row['lon']\n",
    "    annual_mean_p.loc[idx,months] = p_series.values\n",
    "    #break\n",
    "\n",
    "annual_stab_df.to_csv(f\"{c_stab_path}/rep_year_MONTHLY_ed_stab_wind_hydro.csv\")\n",
    "annual_mean_p.to_csv(f\"{pearsons_path}/rep_year_MONTHLY_ed_pearsons_wind_hydro.csv\")"
   ]
  },
  {
   "cell_type": "markdown",
   "metadata": {},
   "source": [
    "# Relationship plots"
   ]
  },
  {
   "cell_type": "markdown",
   "metadata": {},
   "source": [
    "## Ranking the sites based on their annual stability coefficient"
   ]
  },
  {
   "cell_type": "markdown",
   "metadata": {},
   "source": [
    "### ED PV-Hydro"
   ]
  },
  {
   "cell_type": "code",
   "execution_count": null,
   "metadata": {},
   "outputs": [],
   "source": [
    "pv_hydro_annual_stab_df = pd.read_csv(f\"{c_stab_path}/rep_year_MONTHLY_ed_stab_pv_hydro.csv\")\n",
    "pv_hydro_annual_stab_df\n",
    "\n",
    "# Cleaning up the dataframe\n",
    "c_stab_pv_hydro_df = pd.DataFrame()\n",
    "c_stab_pv_hydro_df['site_id'] = pv_hydro_annual_stab_df['site_id']\n",
    "c_stab_pv_hydro_df[['1','2','3','4','5','6','7','8','9','10','11','12']] = pv_hydro_annual_stab_df[['1','2','3','4','5','6','7','8','9','10','11','12']].copy()\n",
    "\n",
    "# Computing the yearly mean across the months\n",
    "rank_c_stab_pv_hydro_df = pd.DataFrame()\n",
    "rank_c_stab_pv_hydro_df['site_id'] = c_stab_pv_hydro_df['site_id']\n",
    "rank_c_stab_pv_hydro_df['c_stab_mean'] = c_stab_pv_hydro_df[['1','2','3','4','5','6','7','8','9','10','11','12']].mean(axis=1)"
   ]
  },
  {
   "cell_type": "code",
   "execution_count": null,
   "metadata": {},
   "outputs": [],
   "source": [
    "c_stab_pv_hydro_df"
   ]
  },
  {
   "cell_type": "code",
   "execution_count": null,
   "metadata": {},
   "outputs": [],
   "source": [
    "rank_c_stab_pv_hydro_df.sort_values(by='c_stab_mean',ascending=True)"
   ]
  },
  {
   "cell_type": "code",
   "execution_count": null,
   "metadata": {},
   "outputs": [],
   "source": [
    "# Calculating the deciles for the yearly mean\n",
    "rank_c_stab_pv_hydro_df['decile_rank']= pd.qcut(rank_c_stab_pv_hydro_df['c_stab_mean'], \n",
    "                                         q = 10, labels = False)\n",
    "rank_c_stab_pv_hydro_df.head()"
   ]
  },
  {
   "cell_type": "code",
   "execution_count": null,
   "metadata": {},
   "outputs": [],
   "source": [
    "rank_c_stab_pv_hydro_df.to_csv('rank.csv')"
   ]
  },
  {
   "cell_type": "code",
   "execution_count": null,
   "metadata": {},
   "outputs": [],
   "source": [
    "coo_df = pv_wind_id_df[['lat','lon','site_id','dam_name']]\n",
    "input_df = pd.read_csv('../data/misc/flexpower_existing_hydro_w_NID_join.csv')\n",
    "input_df_capacity = input_df[['stream_gauge_id','CH_MW']].copy()\n",
    "\n",
    "\n",
    "coo_df=coo_df.merge(input_df_capacity, left_on='site_id', right_on='stream_gauge_id', how='outer')\n",
    "coo_df.head()"
   ]
  },
  {
   "cell_type": "code",
   "execution_count": null,
   "metadata": {},
   "outputs": [],
   "source": [
    "rank_c_stab_pv_hydro_df=rank_c_stab_pv_hydro_df.merge(coo_df, left_on='site_id', right_on='site_id', how='outer')"
   ]
  },
  {
   "cell_type": "code",
   "execution_count": null,
   "metadata": {},
   "outputs": [],
   "source": [
    "rank_c_stab_pv_hydro_df.head()"
   ]
  },
  {
   "cell_type": "code",
   "execution_count": null,
   "metadata": {},
   "outputs": [],
   "source": [
    "rank_c_stab_pv_hydro_df.to_csv('../data/existing_plants/complementarity/ed_pv_hydro_c_stab_decile_rank.csv')\n",
    "rank_c_stab_pv_hydro_df.dropna(inplace=True)\n",
    "rank_c_stab_pv_hydro_df"
   ]
  },
  {
   "cell_type": "code",
   "execution_count": null,
   "metadata": {},
   "outputs": [],
   "source": [
    "how_many_on_each_decile = {}\n",
    "\n",
    "for dec in rank_c_stab_pv_hydro_df.decile_rank.unique():\n",
    "    how_many_on_each_decile[str(dec)] = rank_c_stab_pv_hydro_df.loc[rank_c_stab_pv_hydro_df.decile_rank == dec].count()\n"
   ]
  },
  {
   "cell_type": "code",
   "execution_count": null,
   "metadata": {},
   "outputs": [],
   "source": [
    "import random\n",
    "\n",
    "def pre_process_for_rank_plotting(rank_df, monthly_df):\n",
    "    plotting_sites = []\n",
    "    \n",
    "    for dec in rank_df.decile_rank.unique():\n",
    "        #print(dec)\n",
    "        # Obtain the best site for each rank (mean)\n",
    "        site = rank_df.loc[rank_df.decile_rank == dec].sort_values(by='c_stab_mean',ascending=False).site_id.values[0]\n",
    "        print(f\"Best site {site}, {rank_df.dam_name.loc[rank_df.site_id == site].values[0]} for decile {dec} with stability coefficient {rank_df.c_stab_mean.loc[rank_df.site_id == site].values}\")\n",
    "        tmp_tup = (site,dec)\n",
    "        plotting_sites.append(tmp_tup)\n",
    "       \n",
    "    # Create an empty dataframe to re-organize the data for plotting line ranking\n",
    "    no_of_Rows = len(pv_hydro_annual_stab_df)\n",
    "    plotting_df = pd.DataFrame(index=range(no_of_Rows))\n",
    "    plotting_df['site_id'] = 0\n",
    "    plotting_df['Month'] = 0\n",
    "    plotting_df['c_stab'] = 0\n",
    "    plotting_df['rank'] = 0\n",
    "    \n",
    "    plot_df_list = []\n",
    "    months = range(1,13)\n",
    "    for month in months:\n",
    "        #print(month)\n",
    "        for idx, row in monthly_df.iterrows():\n",
    "            #print(row)\n",
    "            plotting_df.loc[idx,'site_id'] = row['site_id']\n",
    "            plotting_df.loc[idx,'Month'] = month\n",
    "            plotting_df.loc[idx,'c_stab'] = row[str(month)]\n",
    "            plotting_df.loc[idx,'decile_rank'] = rank_df.decile_rank.loc[rank_df.site_id == row['site_id']].values[0]\n",
    "\n",
    "        plot_df_list.append(plotting_df.copy())\n",
    "    \n",
    "    # This is the dataframe with all the sites and ranks, reformatted for line plot\n",
    "    c_stab_plotting_data = pd.concat(plot_df_list)\n",
    "    \n",
    "    # This is the dataset that will contain only the top site for each rank. In this case, 10 sites\n",
    "    #c_stab_min_rank_plot = pd.DataFrame(index=len(tmp_tup))\n",
    "    tmp_list = []\n",
    "    for item in plotting_sites:\n",
    "        tmp_df = c_stab_plotting_data.loc[plotting_df.site_id == item[0]].copy()\n",
    "        tmp_df['rank'] = item[1]\n",
    "        tmp_list.append(tmp_df)\n",
    "    c_stab_min_rank_plot = pd.concat(tmp_list)\n",
    "    \n",
    "    return c_stab_plotting_data, c_stab_min_rank_plot\n",
    "        \n",
    "        "
   ]
  },
  {
   "cell_type": "code",
   "execution_count": null,
   "metadata": {
    "tags": []
   },
   "outputs": [],
   "source": [
    "plot_df, min_plot_df = pre_process_for_rank_plotting(rank_c_stab_pv_hydro_df, c_stab_pv_hydro_df)"
   ]
  },
  {
   "cell_type": "code",
   "execution_count": null,
   "metadata": {},
   "outputs": [],
   "source": [
    "min_plot_df"
   ]
  },
  {
   "cell_type": "code",
   "execution_count": null,
   "metadata": {},
   "outputs": [],
   "source": [
    "min_plot_df = min_plot_df.astype({\"site_id\": str})\n",
    "min_plot_df.reset_index(inplace=True)\n",
    "min_plot_df.sort_values(by='rank', ascending=False,inplace=True)"
   ]
  },
  {
   "cell_type": "code",
   "execution_count": null,
   "metadata": {},
   "outputs": [],
   "source": [
    "import seaborn as sns\n",
    "\n",
    "sns.set()\n",
    "rel = sns.relplot(\n",
    "    data=min_plot_df,\n",
    "    x=\"Month\", y=\"c_stab\",\n",
    "    kind=\"line\",hue=\"site_id\",size=\"rank\",\n",
    "    height=7.5, aspect=1.5, facet_kws=dict(sharex=False),legend=\"full\"\n",
    ").set(title=\"The best NPDs for each decile in PV-Hydro complementarity\")\n",
    "#rel.fig.suptitle(\"The best NPDs for each decile\")"
   ]
  },
  {
   "cell_type": "markdown",
   "metadata": {},
   "source": [
    "1. take the average across the months for each site\n",
    "2. rank the table based on the value of the average\n",
    "3. bin this data to obtain \"top\" percentile (e.g. 20th)\n",
    "4. assign a color to each bin (e.g. top 20th yellow,...). Use the same color scale that NREL uses\n",
    "5. Use this in a map"
   ]
  },
  {
   "cell_type": "code",
   "execution_count": null,
   "metadata": {},
   "outputs": [],
   "source": [
    "import seaborn as sns\n",
    "import matplotlib.pyplot as plt\n",
    "\n",
    "#sns.set()\n",
    "sns.set_theme(style=\"dark\")\n",
    "#sns.set_context(\"talk\")\n",
    "# Plot each year's time series in its own facet\n",
    "g = sns.relplot(\n",
    "    data=min_plot_df,\n",
    "    x=\"Month\", y=\"c_stab\", col=\"site_id\", hue=\"rank\",\n",
    "    kind=\"line\", palette=\"crest\", linewidth=4, zorder=5,\n",
    "    col_wrap=5, height=4, aspect=1.5, legend=False,\n",
    ")\n",
    "\n",
    "# Iterate over each subplot to customize further\n",
    "for site, ax in g.axes_dict.items():\n",
    "    \n",
    "    rank = min_plot_df[\"rank\"].loc[min_plot_df.site_id == site].values[0]\n",
    "    # Add the title as an annotation within the plot\n",
    "    ax.text(.1, .95, f\"Existing plant: {site}, Rank: {rank}\", transform=ax.transAxes, fontweight=\"bold\")\n",
    "    \n",
    "    # Add the title as an annotation within the plot\n",
    "    \n",
    "    #ax.text(.8, .65, f\"Rank: {rank}\", transform=ax.transAxes, fontweight=\"bold\")\n",
    "\n",
    "    # Plot every year's time series in the background\n",
    "    sns.lineplot(\n",
    "        data=min_plot_df, x=\"Month\", y=\"c_stab\", units=\"site_id\",\n",
    "        estimator=None, color=\".7\", linewidth=1, ax=ax,\n",
    "    )\n",
    "    ax.set_ylim([0,1])\n",
    "\n",
    "# Reduce the frequency of the x axis ticks\n",
    "#ax.set_xticks(ax.get_xticks()[::2])\n",
    "# Tweak the supporting aspects of the plot\n",
    "g.set_titles(\"\")\n",
    "#g.set_axis_labels(\"Months\", \"Stability Coefficient\")\n",
    "#g.fig.suptitle(\"The best NPDs for each decile\")\n",
    "g.tight_layout()\n",
    "plt.savefig(\"ed_ranked_pv_hydro_deciles.eps\")"
   ]
  },
  {
   "cell_type": "markdown",
   "metadata": {},
   "source": [
    "### Existing Wind-Hydro"
   ]
  },
  {
   "cell_type": "code",
   "execution_count": null,
   "metadata": {},
   "outputs": [],
   "source": [
    "wind_hydro_annual_stab_df = pd.read_csv(f\"{c_stab_path}/rep_year_MONTHLY_ed_stab_wind_hydro.csv\")\n",
    "wind_hydro_annual_stab_df\n",
    "\n",
    "# Cleaning up the dataframe\n",
    "c_stab_wind_hydro_df = pd.DataFrame()\n",
    "c_stab_wind_hydro_df['site_id'] = wind_hydro_annual_stab_df['site_id']\n",
    "c_stab_wind_hydro_df[['1','2','3','4','5','6','7','8','9','10','11','12']] = wind_hydro_annual_stab_df[['1','2','3','4','5','6','7','8','9','10','11','12']].copy()\n",
    "\n",
    "# Computing the yearly mean across the months\n",
    "rank_c_stab_wind_hydro_df = pd.DataFrame()\n",
    "rank_c_stab_wind_hydro_df['site_id'] = c_stab_wind_hydro_df['site_id']\n",
    "rank_c_stab_wind_hydro_df['c_stab_mean'] = c_stab_wind_hydro_df[['1','2','3','4','5','6','7','8','9','10','11','12']].mean(axis=1)"
   ]
  },
  {
   "cell_type": "code",
   "execution_count": null,
   "metadata": {},
   "outputs": [],
   "source": [
    "rank_c_stab_wind_hydro_df.sort_values(by='c_stab_mean',ascending=True)\n",
    "\n",
    "# Calculating the deciles for the yearly mean\n",
    "rank_c_stab_wind_hydro_df['decile_rank']= pd.qcut(rank_c_stab_wind_hydro_df['c_stab_mean'], \n",
    "                                         q = 10, labels = False)\n",
    "\n",
    "coo_df = pv_wind_id_df[['lat','lon','site_id','dam_name']]\n",
    "input_df = pd.read_csv('../data/misc/flexpower_existing_hydro_w_NID_join.csv')\n",
    "input_df_capacity = input_df[['stream_gauge_id','CH_MW']].copy()\n",
    "\n",
    "\n",
    "coo_df=coo_df.merge(input_df_capacity, left_on='site_id', right_on='stream_gauge_id', how='outer')\n",
    "coo_df.head()\n",
    "\n",
    "\n",
    "\n",
    "rank_c_stab_wind_hydro_df=rank_c_stab_wind_hydro_df.merge(coo_df, left_on='site_id', right_on='site_id', how='outer')\n",
    "\n",
    "rank_c_stab_wind_hydro_df.to_csv('../data/existing_plants/complementarity/ed_wind_hydro_c_stab_decile_rank.csv')\n",
    "rank_c_stab_wind_hydro_df.dropna(inplace=True)\n",
    "rank_c_stab_wind_hydro_df\n"
   ]
  },
  {
   "cell_type": "code",
   "execution_count": null,
   "metadata": {},
   "outputs": [],
   "source": [
    "plot_wind_hydro_df, min_wind_hydro_plot_df = pre_process_for_rank_plotting(rank_c_stab_wind_hydro_df, c_stab_wind_hydro_df)\n",
    "min_plot_df = min_wind_hydro_plot_df.astype({\"site_id\": str})\n",
    "min_plot_df.reset_index(inplace=True)"
   ]
  },
  {
   "cell_type": "code",
   "execution_count": null,
   "metadata": {},
   "outputs": [],
   "source": [
    "min_wind_hydro_plot_df"
   ]
  },
  {
   "cell_type": "code",
   "execution_count": null,
   "metadata": {},
   "outputs": [],
   "source": [
    "min_wind_hydro_plot_df = min_wind_hydro_plot_df.astype({\"site_id\": str})\n",
    "min_wind_hydro_plot_df.reset_index(inplace=True, drop=True)\n",
    "min_wind_hydro_plot_df.sort_values(by='rank', ascending=False,inplace=True)"
   ]
  },
  {
   "cell_type": "code",
   "execution_count": null,
   "metadata": {},
   "outputs": [],
   "source": [
    "#coo_df = pv_wind_id_df[['lat','lon','site_id']]\n",
    "#input_df = pd.read_csv('combined_hydro_stream_gauge_full2.csv')\n",
    "#input_df_capacity = input_df[['stream_gauge_id','potential_cap_mw']].copy()\n",
    "\n",
    "#coo_df=coo_df.merge(input_df_capacity, left_on='site_id', right_on='stream_gauge_id', how='outer')\n",
    "#coo_df.head()"
   ]
  },
  {
   "cell_type": "code",
   "execution_count": null,
   "metadata": {},
   "outputs": [],
   "source": [
    "#rank_c_stab_wind_hydro_df=rank_c_stab_wind_hydro_df.merge(coo_df, left_on='site_id', right_on='site_id', how='outer')\n",
    "#rank_c_stab_wind_hydro_df.head()"
   ]
  },
  {
   "cell_type": "code",
   "execution_count": null,
   "metadata": {},
   "outputs": [],
   "source": [
    "rank_c_stab_wind_hydro_df.to_csv('../data/npd/complementarity/ed_wind_hydro_c_stab_decile_rank.csv')"
   ]
  },
  {
   "cell_type": "code",
   "execution_count": null,
   "metadata": {},
   "outputs": [],
   "source": [
    "import seaborn as sns\n",
    "\n",
    "#sns.set()\n",
    "sns.set_theme(style=\"dark\")\n",
    "#sns.set_context(\"talk\")\n",
    "# Plot each year's time series in its own facet\n",
    "g = sns.relplot(\n",
    "    data=min_wind_hydro_plot_df,\n",
    "    x=\"Month\", y=\"c_stab\", col=\"site_id\", hue=\"rank\",\n",
    "    kind=\"line\", palette=\"crest\", linewidth=4, zorder=5,\n",
    "    col_wrap=5, height=4, aspect=1.5, legend=False,\n",
    ")\n",
    "\n",
    "# Iterate over each subplot to customize further\n",
    "for site, ax in g.axes_dict.items():\n",
    "    \n",
    "    # Add the title as an annotation within the plot\n",
    "    ax.text(.6, .75, f\"NPD site: {site}\", transform=ax.transAxes, fontweight=\"bold\")\n",
    "    \n",
    "    # Add the title as an annotation within the plot\n",
    "    rank = min_plot_df[\"rank\"].loc[min_plot_df.site_id == site].values[0]\n",
    "    ax.text(.8, .65, f\"Rank: {rank}\", transform=ax.transAxes, fontweight=\"bold\")\n",
    "\n",
    "    # Plot every year's time series in the background\n",
    "    sns.lineplot(\n",
    "        data=min_plot_df, x=\"Month\", y=\"c_stab\", units=\"site_id\",\n",
    "        estimator=None, color=\".7\", linewidth=1, ax=ax,\n",
    "    )\n",
    "    ax.set_ylim([0,1])\n",
    "\n",
    "# Reduce the frequency of the x axis ticks\n",
    "ax.set_xticks(ax.get_xticks()[::2])\n",
    "# Tweak the supporting aspects of the plot\n",
    "g.set_titles(\"\")\n",
    "g.set_axis_labels(\"Months\", \"Stability Coefficient\")\n",
    "#g.fig.suptitle(\"The best NPDs for each decile\")\n",
    "g.tight_layout()\n",
    "plt.savefig(\"ed_ranked_wind_hydro_deciles.eps\")"
   ]
  },
  {
   "cell_type": "code",
   "execution_count": null,
   "metadata": {},
   "outputs": [],
   "source": []
  }
 ],
 "metadata": {
  "kernelspec": {
   "display_name": "Python 3",
   "language": "python",
   "name": "python3"
  },
  "language_info": {
   "codemirror_mode": {
    "name": "ipython",
    "version": 3
   },
   "file_extension": ".py",
   "mimetype": "text/x-python",
   "name": "python",
   "nbconvert_exporter": "python",
   "pygments_lexer": "ipython3",
   "version": "3.7.15"
  }
 },
 "nbformat": 4,
 "nbformat_minor": 4
}
