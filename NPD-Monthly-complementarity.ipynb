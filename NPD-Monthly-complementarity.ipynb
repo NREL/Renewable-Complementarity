{
 "cells": [
  {
   "cell_type": "code",
   "execution_count": 4,
   "metadata": {},
   "outputs": [
    {
     "name": "stdout",
     "output_type": "stream",
     "text": [
      "The autoreload extension is already loaded. To reload it, use:\n",
      "  %reload_ext autoreload\n"
     ]
    }
   ],
   "source": [
    "%load_ext autoreload\n",
    "%autoreload 2\n",
    "\n",
    "import pandas as pd\n",
    "import numpy as np\n",
    "import matplotlib.pyplot as plt\n",
    "\n",
    "# Local imports\n",
    "from stability_testing import *"
   ]
  },
  {
   "cell_type": "code",
   "execution_count": 5,
   "metadata": {},
   "outputs": [],
   "source": [
    "pv_dest_path = './data/hydro/npd/complementarity/pv_time_series'\n",
    "wind_dest_path = '.data/hydro/npd/complementarity/wind_time_series'\n",
    "pv_filename_prefix = 'cf_pv_profile'\n",
    "wind_filename_prefix = 'cf_wind_profile'\n",
    "\n",
    "c_stab_path = './data/hydro/npd/complementarity/c_stab'\n",
    "cf_mix_path = './data/hydro/npd/complementarity/cf_mix'\n",
    "pearsons_path = './data/hydro/npd/complementarity/pearson'\n",
    "\n",
    "rep_year_df = pd.read_csv('./data/hydro/misc/representative_year.csv')\n",
    "years = range(2007,2014)\n",
    "months = range(1,13)\n",
    "pv_wind_id_df = pd.read_csv('./data/hydro/misc/master_hydro_pv_wind.csv')\n",
    "\n",
    "# build the base dataframe with the timestamps from 2012\n",
    "rng = pd.date_range(f'2012-01-01 00:00:00+00:00', periods=8760, freq='1H')\n",
    "base_df = pd.DataFrame()\n",
    "base_df['dateTime'] = rng "
   ]
  },
  {
   "cell_type": "code",
   "execution_count": 6,
   "metadata": {},
   "outputs": [
    {
     "data": {
      "text/html": [
       "<div>\n",
       "<style scoped>\n",
       "    .dataframe tbody tr th:only-of-type {\n",
       "        vertical-align: middle;\n",
       "    }\n",
       "\n",
       "    .dataframe tbody tr th {\n",
       "        vertical-align: top;\n",
       "    }\n",
       "\n",
       "    .dataframe thead th {\n",
       "        text-align: right;\n",
       "    }\n",
       "</style>\n",
       "<table border=\"1\" class=\"dataframe\">\n",
       "  <thead>\n",
       "    <tr style=\"text-align: right;\">\n",
       "      <th></th>\n",
       "      <th>start</th>\n",
       "      <th>end</th>\n",
       "      <th>lat</th>\n",
       "      <th>lon</th>\n",
       "      <th>name</th>\n",
       "      <th>site_id</th>\n",
       "      <th>post_csv_filename</th>\n",
       "      <th>pv_id</th>\n",
       "      <th>wind_id</th>\n",
       "      <th>pv_wind_id_same</th>\n",
       "    </tr>\n",
       "  </thead>\n",
       "  <tbody>\n",
       "    <tr>\n",
       "      <th>0</th>\n",
       "      <td>1/1/00</td>\n",
       "      <td>12/31/20</td>\n",
       "      <td>40.147715</td>\n",
       "      <td>-105.865879</td>\n",
       "      <td>GRANBY</td>\n",
       "      <td>9019500</td>\n",
       "      <td>./data/hydro//npd/synthetic_profiles/npd_90195...</td>\n",
       "      <td>CO01656</td>\n",
       "      <td>CO01656</td>\n",
       "      <td>True</td>\n",
       "    </tr>\n",
       "    <tr>\n",
       "      <th>1</th>\n",
       "      <td>1/1/00</td>\n",
       "      <td>12/31/20</td>\n",
       "      <td>36.466670</td>\n",
       "      <td>-91.530000</td>\n",
       "      <td>MAMMOTH SPRINGS DAM 3</td>\n",
       "      <td>7069220</td>\n",
       "      <td>NaN</td>\n",
       "      <td>AR01157</td>\n",
       "      <td>AR01157</td>\n",
       "      <td>True</td>\n",
       "    </tr>\n",
       "    <tr>\n",
       "      <th>2</th>\n",
       "      <td>1/1/00</td>\n",
       "      <td>12/31/20</td>\n",
       "      <td>35.394714</td>\n",
       "      <td>-106.547531</td>\n",
       "      <td>JEMEZ CANYON DAM</td>\n",
       "      <td>8328950</td>\n",
       "      <td>./data/hydro//npd/synthetic_profiles/npd_83289...</td>\n",
       "      <td>NM00003</td>\n",
       "      <td>NM00003</td>\n",
       "      <td>True</td>\n",
       "    </tr>\n",
       "  </tbody>\n",
       "</table>\n",
       "</div>"
      ],
      "text/plain": [
       "    start       end        lat         lon                   name  site_id  \\\n",
       "0  1/1/00  12/31/20  40.147715 -105.865879                 GRANBY  9019500   \n",
       "1  1/1/00  12/31/20  36.466670  -91.530000  MAMMOTH SPRINGS DAM 3  7069220   \n",
       "2  1/1/00  12/31/20  35.394714 -106.547531       JEMEZ CANYON DAM  8328950   \n",
       "\n",
       "                                   post_csv_filename    pv_id  wind_id  \\\n",
       "0  ./data/hydro//npd/synthetic_profiles/npd_90195...  CO01656  CO01656   \n",
       "1                                                NaN  AR01157  AR01157   \n",
       "2  ./data/hydro//npd/synthetic_profiles/npd_83289...  NM00003  NM00003   \n",
       "\n",
       "   pv_wind_id_same  \n",
       "0             True  \n",
       "1             True  \n",
       "2             True  "
      ]
     },
     "execution_count": 6,
     "metadata": {},
     "output_type": "execute_result"
    }
   ],
   "source": [
    "pv_wind_id_df.head(3)"
   ]
  },
  {
   "cell_type": "markdown",
   "metadata": {},
   "source": [
    "# 1. Create Montly Stability Coefficients"
   ]
  },
  {
   "cell_type": "markdown",
   "metadata": {},
   "source": [
    "## Complementarity PV-Hydro"
   ]
  },
  {
   "cell_type": "code",
   "execution_count": 7,
   "metadata": {},
   "outputs": [
    {
     "name": "stdout",
     "output_type": "stream",
     "text": [
      "0. Processing PV profile CO01656 and NPD 9019500, ./data/hydro//npd/synthetic_profiles/npd_9019500_2016_synthetic.csv\n",
      "No data in site 9019500 \n",
      "No file for site 7069220 \n",
      "2. Processing PV profile NM00003 and NPD 8328950, ./data/hydro//npd/synthetic_profiles/npd_8328950_2016_synthetic.csv\n",
      "No data in site 8328950 \n",
      "3. Processing PV profile PA00110 and NPD 3020000, ./data/hydro//npd/synthetic_profiles/npd_3020000_2019_synthetic.csv\n"
     ]
    },
    {
     "name": "stderr",
     "output_type": "stream",
     "text": [
      "/opt/anaconda3/envs/flexpower/lib/python3.7/site-packages/scipy/stats/stats.py:4023: PearsonRConstantInputWarning: An input array is constant; the correlation coefficient is not defined.\n",
      "  warnings.warn(PearsonRConstantInputWarning())\n"
     ]
    },
    {
     "name": "stdout",
     "output_type": "stream",
     "text": [
      "4. Processing PV profile AL05903 and NPD 3592000, ./data/hydro//npd/synthetic_profiles/npd_3592000_2018_synthetic.csv\n"
     ]
    },
    {
     "name": "stderr",
     "output_type": "stream",
     "text": [
      "/opt/anaconda3/envs/flexpower/lib/python3.7/site-packages/scipy/stats/stats.py:4023: PearsonRConstantInputWarning: An input array is constant; the correlation coefficient is not defined.\n",
      "  warnings.warn(PearsonRConstantInputWarning())\n"
     ]
    },
    {
     "name": "stdout",
     "output_type": "stream",
     "text": [
      "5. Processing PV profile NM00293 and NPD 7227000, ./data/hydro//npd/synthetic_profiles/npd_7227000_2015_synthetic.csv\n",
      "No data in site 7227000 \n",
      "6. Processing PV profile TX00001 and NPD 8063800, ./data/hydro//npd/synthetic_profiles/npd_8063800_2012_synthetic.csv\n",
      "No data in site 8063800 \n",
      "7. Processing PV profile WY01496 and NPD 6670500, ./data/hydro//npd/synthetic_profiles/npd_6670500_2019_synthetic.csv\n"
     ]
    },
    {
     "name": "stderr",
     "output_type": "stream",
     "text": [
      "/opt/anaconda3/envs/flexpower/lib/python3.7/site-packages/scipy/stats/stats.py:4023: PearsonRConstantInputWarning: An input array is constant; the correlation coefficient is not defined.\n",
      "  warnings.warn(PearsonRConstantInputWarning())\n"
     ]
    },
    {
     "name": "stdout",
     "output_type": "stream",
     "text": [
      "8. Processing PV profile CT00583 and NPD 1184000, ./data/hydro//npd/synthetic_profiles/npd_1184000_2010_synthetic.csv\n"
     ]
    },
    {
     "name": "stderr",
     "output_type": "stream",
     "text": [
      "/opt/anaconda3/envs/flexpower/lib/python3.7/site-packages/scipy/stats/stats.py:4023: PearsonRConstantInputWarning: An input array is constant; the correlation coefficient is not defined.\n",
      "  warnings.warn(PearsonRConstantInputWarning())\n"
     ]
    },
    {
     "name": "stdout",
     "output_type": "stream",
     "text": [
      "9. Processing PV profile NY00039 and NPD 1374701, ./data/hydro//npd/synthetic_profiles/npd_1374701_2010_synthetic.csv\n",
      "No data in site 1374701 \n",
      "10. Processing PV profile KY03061 and NPD 3400800, ./data/hydro//npd/synthetic_profiles/npd_3400800_2015_synthetic.csv\n"
     ]
    },
    {
     "name": "stderr",
     "output_type": "stream",
     "text": [
      "/opt/anaconda3/envs/flexpower/lib/python3.7/site-packages/scipy/stats/stats.py:4023: PearsonRConstantInputWarning: An input array is constant; the correlation coefficient is not defined.\n",
      "  warnings.warn(PearsonRConstantInputWarning())\n"
     ]
    },
    {
     "name": "stdout",
     "output_type": "stream",
     "text": [
      "11. Processing PV profile NY00953 and NPD 1342602, ./data/hydro//npd/synthetic_profiles/npd_1342602_2018_synthetic.csv\n"
     ]
    },
    {
     "name": "stderr",
     "output_type": "stream",
     "text": [
      "/opt/anaconda3/envs/flexpower/lib/python3.7/site-packages/scipy/stats/stats.py:4023: PearsonRConstantInputWarning: An input array is constant; the correlation coefficient is not defined.\n",
      "  warnings.warn(PearsonRConstantInputWarning())\n"
     ]
    },
    {
     "name": "stdout",
     "output_type": "stream",
     "text": [
      "12. Processing PV profile NV10153 and NPD 9419800, ./data/hydro//npd/synthetic_profiles/npd_9419800_2014_synthetic.csv\n",
      "13. Processing PV profile NJ00354 and NPD 1381000, ./data/hydro//npd/synthetic_profiles/npd_1381000_2013_synthetic.csv\n",
      "No data in site 1381000 \n",
      "14. Processing PV profile KY01205 and NPD 3282060, ./data/hydro//npd/synthetic_profiles/npd_3282060_2013_synthetic.csv\n"
     ]
    },
    {
     "name": "stderr",
     "output_type": "stream",
     "text": [
      "/opt/anaconda3/envs/flexpower/lib/python3.7/site-packages/scipy/stats/stats.py:4023: PearsonRConstantInputWarning: An input array is constant; the correlation coefficient is not defined.\n",
      "  warnings.warn(PearsonRConstantInputWarning())\n"
     ]
    },
    {
     "name": "stdout",
     "output_type": "stream",
     "text": [
      "15. Processing PV profile NH00002 and NPD 1091500, ./data/hydro//npd/synthetic_profiles/npd_1091500_2018_synthetic.csv\n"
     ]
    },
    {
     "name": "stderr",
     "output_type": "stream",
     "text": [
      "/opt/anaconda3/envs/flexpower/lib/python3.7/site-packages/scipy/stats/stats.py:4023: PearsonRConstantInputWarning: An input array is constant; the correlation coefficient is not defined.\n",
      "  warnings.warn(PearsonRConstantInputWarning())\n"
     ]
    },
    {
     "name": "stdout",
     "output_type": "stream",
     "text": [
      "16. Processing PV profile KY01203 and NPD 3282290, ./data/hydro//npd/synthetic_profiles/npd_3282290_2014_synthetic.csv\n"
     ]
    },
    {
     "name": "stderr",
     "output_type": "stream",
     "text": [
      "/opt/anaconda3/envs/flexpower/lib/python3.7/site-packages/scipy/stats/stats.py:4023: PearsonRConstantInputWarning: An input array is constant; the correlation coefficient is not defined.\n",
      "  warnings.warn(PearsonRConstantInputWarning())\n"
     ]
    },
    {
     "name": "stdout",
     "output_type": "stream",
     "text": [
      "17. Processing PV profile TX00003 and NPD 8047000, ./data/hydro//npd/synthetic_profiles/npd_8047000_2012_synthetic.csv\n",
      "No data in site 8047000 \n",
      "18. Processing PV profile 1787 and NPD 1315000, ./data/hydro//npd/synthetic_profiles/npd_1315000_2010_synthetic.csv\n",
      "19. Processing PV profile MI00619 and NPD 4108660, ./data/hydro//npd/synthetic_profiles/npd_4108660_2014_synthetic.csv\n"
     ]
    },
    {
     "name": "stderr",
     "output_type": "stream",
     "text": [
      "/opt/anaconda3/envs/flexpower/lib/python3.7/site-packages/scipy/stats/stats.py:4023: PearsonRConstantInputWarning: An input array is constant; the correlation coefficient is not defined.\n",
      "  warnings.warn(PearsonRConstantInputWarning())\n"
     ]
    },
    {
     "name": "stdout",
     "output_type": "stream",
     "text": [
      "20. Processing PV profile KY01201 and NPD 3284500, ./data/hydro//npd/synthetic_profiles/npd_3284500_2012_synthetic.csv\n"
     ]
    },
    {
     "name": "stderr",
     "output_type": "stream",
     "text": [
      "/opt/anaconda3/envs/flexpower/lib/python3.7/site-packages/scipy/stats/stats.py:4023: PearsonRConstantInputWarning: An input array is constant; the correlation coefficient is not defined.\n",
      "  warnings.warn(PearsonRConstantInputWarning())\n"
     ]
    },
    {
     "name": "stdout",
     "output_type": "stream",
     "text": [
      "21. Processing PV profile KY01202 and NPD 3284230, ./data/hydro//npd/synthetic_profiles/npd_3284230_2014_synthetic.csv\n"
     ]
    },
    {
     "name": "stderr",
     "output_type": "stream",
     "text": [
      "/opt/anaconda3/envs/flexpower/lib/python3.7/site-packages/scipy/stats/stats.py:4023: PearsonRConstantInputWarning: An input array is constant; the correlation coefficient is not defined.\n",
      "  warnings.warn(PearsonRConstantInputWarning())\n"
     ]
    },
    {
     "name": "stdout",
     "output_type": "stream",
     "text": [
      "22. Processing PV profile LA00001 and NPD 8028000, ./data/hydro//npd/synthetic_profiles/npd_8028000_2012_synthetic.csv\n",
      "No data in site 8028000 \n",
      "23. Processing PV profile PA00914 and NPD 1544000, ./data/hydro//npd/synthetic_profiles/npd_1544000_2013_synthetic.csv\n",
      "No data in site 1544000 \n",
      "24. Processing PV profile OH00015 and NPD 3225500, ./data/hydro//npd/synthetic_profiles/npd_3225500_2015_synthetic.csv\n",
      "No data in site 3225500 \n",
      "25. Processing PV profile KY03002 and NPD 3321500, ./data/hydro//npd/synthetic_profiles/npd_3321500_2015_synthetic.csv\n"
     ]
    },
    {
     "name": "stderr",
     "output_type": "stream",
     "text": [
      "/opt/anaconda3/envs/flexpower/lib/python3.7/site-packages/scipy/stats/stats.py:4023: PearsonRConstantInputWarning: An input array is constant; the correlation coefficient is not defined.\n",
      "  warnings.warn(PearsonRConstantInputWarning())\n"
     ]
    },
    {
     "name": "stdout",
     "output_type": "stream",
     "text": [
      "26. Processing PV profile KY01198 and NPD 3287250, ./data/hydro//npd/synthetic_profiles/npd_3287250_2013_synthetic.csv\n"
     ]
    },
    {
     "name": "stderr",
     "output_type": "stream",
     "text": [
      "/opt/anaconda3/envs/flexpower/lib/python3.7/site-packages/scipy/stats/stats.py:4023: PearsonRConstantInputWarning: An input array is constant; the correlation coefficient is not defined.\n",
      "  warnings.warn(PearsonRConstantInputWarning())\n"
     ]
    },
    {
     "name": "stdout",
     "output_type": "stream",
     "text": [
      "27. Processing PV profile NY00954 and NPD 4235600, ./data/hydro//npd/synthetic_profiles/npd_4235600_2014_synthetic.csv\n",
      "28. Processing PV profile CO02140 and NPD 9239500, ./data/hydro//npd/synthetic_profiles/npd_9239500_2015_synthetic.csv\n",
      "No data in site 9239500 \n",
      "29. Processing PV profile AL01431 and NPD 2469761, ./data/hydro//npd/synthetic_profiles/npd_2469761_2014_synthetic.csv\n"
     ]
    },
    {
     "name": "stderr",
     "output_type": "stream",
     "text": [
      "/opt/anaconda3/envs/flexpower/lib/python3.7/site-packages/scipy/stats/stats.py:4023: PearsonRConstantInputWarning: An input array is constant; the correlation coefficient is not defined.\n",
      "  warnings.warn(PearsonRConstantInputWarning())\n"
     ]
    },
    {
     "name": "stdout",
     "output_type": "stream",
     "text": [
      "30. Processing PV profile AL01429 and NPD 2466030, ./data/hydro//npd/synthetic_profiles/npd_2466030_2010_synthetic.csv\n",
      "No data in site 2466030 \n",
      "31. Processing PV profile 55 and NPD 10344500, ./data/hydro//npd/synthetic_profiles/npd_10344500_2014_synthetic.csv\n"
     ]
    },
    {
     "name": "stderr",
     "output_type": "stream",
     "text": [
      "/opt/anaconda3/envs/flexpower/lib/python3.7/site-packages/scipy/stats/stats.py:4023: PearsonRConstantInputWarning: An input array is constant; the correlation coefficient is not defined.\n",
      "  warnings.warn(PearsonRConstantInputWarning())\n"
     ]
    },
    {
     "name": "stdout",
     "output_type": "stream",
     "text": [
      "32. Processing PV profile FL00156 and NPD 2243960, ./data/hydro//npd/synthetic_profiles/npd_2243960_2010_synthetic.csv\n",
      "33. Processing PV profile AZ10316 and NPD 9512165, ./data/hydro//npd/synthetic_profiles/npd_9512165_2011_synthetic.csv\n",
      "No data in site 9512165 \n",
      "34. Processing PV profile OH00388 and NPD 4192500, ./data/hydro//npd/synthetic_profiles/npd_4192500_2014_synthetic.csv\n",
      "No data in site 4192500 \n",
      "35. Processing PV profile MT82932 and NPD 5018000, ./data/hydro//npd/synthetic_profiles/npd_5018000_2018_synthetic.csv\n"
     ]
    },
    {
     "name": "stderr",
     "output_type": "stream",
     "text": [
      "/opt/anaconda3/envs/flexpower/lib/python3.7/site-packages/scipy/stats/stats.py:4023: PearsonRConstantInputWarning: An input array is constant; the correlation coefficient is not defined.\n",
      "  warnings.warn(PearsonRConstantInputWarning())\n"
     ]
    },
    {
     "name": "stdout",
     "output_type": "stream",
     "text": [
      "36. Processing PV profile 1843 and NPD 1123600, ./data/hydro//npd/synthetic_profiles/npd_1123600_2013_synthetic.csv\n"
     ]
    },
    {
     "name": "stderr",
     "output_type": "stream",
     "text": [
      "/opt/anaconda3/envs/flexpower/lib/python3.7/site-packages/scipy/stats/stats.py:4023: PearsonRConstantInputWarning: An input array is constant; the correlation coefficient is not defined.\n",
      "  warnings.warn(PearsonRConstantInputWarning())\n"
     ]
    },
    {
     "name": "stdout",
     "output_type": "stream",
     "text": [
      "37. Processing PV profile WY01383 and NPD 6227600, ./data/hydro//npd/synthetic_profiles/npd_6227600_2010_synthetic.csv\n",
      "No data in site 6227600 \n",
      "38. Processing PV profile NY00046 and NPD 1375000, ./data/hydro//npd/synthetic_profiles/npd_1375000_2014_synthetic.csv\n",
      "No data in site 1375000 \n",
      "39. Processing PV profile IN00810 and NPD 4182900, ./data/hydro//npd/synthetic_profiles/npd_4182900_2015_synthetic.csv\n",
      "No data in site 4182900 \n",
      "40. Processing PV profile AL01430 and NPD 2467000, ./data/hydro//npd/synthetic_profiles/npd_2467000_2019_synthetic.csv\n"
     ]
    },
    {
     "name": "stderr",
     "output_type": "stream",
     "text": [
      "/opt/anaconda3/envs/flexpower/lib/python3.7/site-packages/scipy/stats/stats.py:4023: PearsonRConstantInputWarning: An input array is constant; the correlation coefficient is not defined.\n",
      "  warnings.warn(PearsonRConstantInputWarning())\n"
     ]
    },
    {
     "name": "stdout",
     "output_type": "stream",
     "text": [
      "No file for site 3284000 \n",
      "42. Processing PV profile KY01199 and NPD 3287000, ./data/hydro//npd/synthetic_profiles/npd_3287000_2013_synthetic.csv\n"
     ]
    },
    {
     "name": "stderr",
     "output_type": "stream",
     "text": [
      "/opt/anaconda3/envs/flexpower/lib/python3.7/site-packages/scipy/stats/stats.py:4023: PearsonRConstantInputWarning: An input array is constant; the correlation coefficient is not defined.\n",
      "  warnings.warn(PearsonRConstantInputWarning())\n"
     ]
    },
    {
     "name": "stdout",
     "output_type": "stream",
     "text": [
      "43. Processing PV profile KY01204 and NPD 3282120, ./data/hydro//npd/synthetic_profiles/npd_3282120_2014_synthetic.csv\n"
     ]
    },
    {
     "name": "stderr",
     "output_type": "stream",
     "text": [
      "/opt/anaconda3/envs/flexpower/lib/python3.7/site-packages/scipy/stats/stats.py:4023: PearsonRConstantInputWarning: An input array is constant; the correlation coefficient is not defined.\n",
      "  warnings.warn(PearsonRConstantInputWarning())\n"
     ]
    },
    {
     "name": "stdout",
     "output_type": "stream",
     "text": [
      "44. Processing PV profile NY00962 and NPD 1354500, ./data/hydro//npd/synthetic_profiles/npd_1354500_2014_synthetic.csv\n",
      "45. Processing PV profile OH00032 and NPD 3090500, ./data/hydro//npd/synthetic_profiles/npd_3090500_2014_synthetic.csv\n"
     ]
    },
    {
     "name": "stderr",
     "output_type": "stream",
     "text": [
      "/opt/anaconda3/envs/flexpower/lib/python3.7/site-packages/scipy/stats/stats.py:4023: PearsonRConstantInputWarning: An input array is constant; the correlation coefficient is not defined.\n",
      "  warnings.warn(PearsonRConstantInputWarning())\n"
     ]
    },
    {
     "name": "stdout",
     "output_type": "stream",
     "text": [
      "46. Processing PV profile OH00698 and NPD 3150000, ./data/hydro//npd/synthetic_profiles/npd_3150000_2013_synthetic.csv\n"
     ]
    },
    {
     "name": "stderr",
     "output_type": "stream",
     "text": [
      "/opt/anaconda3/envs/flexpower/lib/python3.7/site-packages/scipy/stats/stats.py:4023: PearsonRConstantInputWarning: An input array is constant; the correlation coefficient is not defined.\n",
      "  warnings.warn(PearsonRConstantInputWarning())\n"
     ]
    },
    {
     "name": "stdout",
     "output_type": "stream",
     "text": [
      "47. Processing PV profile TX04101 and NPD 8096500, ./data/hydro//npd/synthetic_profiles/npd_8096500_2010_synthetic.csv\n",
      "No data in site 8096500 \n",
      "48. Processing PV profile IA03064 and NPD 5454500, ./data/hydro//npd/synthetic_profiles/npd_5454500_2013_synthetic.csv\n"
     ]
    },
    {
     "name": "stderr",
     "output_type": "stream",
     "text": [
      "/opt/anaconda3/envs/flexpower/lib/python3.7/site-packages/scipy/stats/stats.py:4023: PearsonRConstantInputWarning: An input array is constant; the correlation coefficient is not defined.\n",
      "  warnings.warn(PearsonRConstantInputWarning())\n"
     ]
    },
    {
     "name": "stdout",
     "output_type": "stream",
     "text": [
      "49. Processing PV profile IA01320 and NPD 5464000, ./data/hydro//npd/synthetic_profiles/npd_5464000_2013_synthetic.csv\n",
      "No data in site 5464000 \n",
      "50. Processing PV profile PA01134 and NPD 1520000, ./data/hydro//npd/synthetic_profiles/npd_1520000_2010_synthetic.csv\n",
      "No data in site 1520000 \n",
      "51. Processing PV profile WV00049 and NPD 3058000, ./data/hydro//npd/synthetic_profiles/npd_3058000_2012_synthetic.csv\n",
      "No data in site 3058000 \n",
      "52. Processing PV profile 300 and NPD 14155500, ./data/hydro//npd/synthetic_profiles/npd_14155500_2011_synthetic.csv\n"
     ]
    },
    {
     "name": "stderr",
     "output_type": "stream",
     "text": [
      "/opt/anaconda3/envs/flexpower/lib/python3.7/site-packages/scipy/stats/stats.py:4023: PearsonRConstantInputWarning: An input array is constant; the correlation coefficient is not defined.\n",
      "  warnings.warn(PearsonRConstantInputWarning())\n"
     ]
    },
    {
     "name": "stdout",
     "output_type": "stream",
     "text": [
      "53. Processing PV profile 1230 and NPD 1328770, ./data/hydro//npd/synthetic_profiles/npd_1328770_2018_synthetic.csv\n",
      "54. Processing PV profile TX00005 and NPD 8055000, ./data/hydro//npd/synthetic_profiles/npd_8055000_2012_synthetic.csv\n",
      "No data in site 8055000 \n",
      "55. Processing PV profile AR00158 and NPD 7263012, ./data/hydro//npd/synthetic_profiles/npd_7263012_2011_synthetic.csv\n"
     ]
    },
    {
     "name": "stderr",
     "output_type": "stream",
     "text": [
      "/opt/anaconda3/envs/flexpower/lib/python3.7/site-packages/scipy/stats/stats.py:4023: PearsonRConstantInputWarning: An input array is constant; the correlation coefficient is not defined.\n",
      "  warnings.warn(PearsonRConstantInputWarning())\n"
     ]
    },
    {
     "name": "stdout",
     "output_type": "stream",
     "text": [
      "56. Processing PV profile FL00145 and NPD 2238500, ./data/hydro//npd/synthetic_profiles/npd_2238500_2016_synthetic.csv\n",
      "No data in site 2238500 \n",
      "57. Processing PV profile PA00126 and NPD 3086000, ./data/hydro//npd/synthetic_profiles/npd_3086000_2013_synthetic.csv\n"
     ]
    },
    {
     "name": "stderr",
     "output_type": "stream",
     "text": [
      "/opt/anaconda3/envs/flexpower/lib/python3.7/site-packages/scipy/stats/stats.py:4023: PearsonRConstantInputWarning: An input array is constant; the correlation coefficient is not defined.\n",
      "  warnings.warn(PearsonRConstantInputWarning())\n"
     ]
    },
    {
     "name": "stdout",
     "output_type": "stream",
     "text": [
      "58. Processing PV profile NM00500 and NPD 8401500, ./data/hydro//npd/synthetic_profiles/npd_8401500_2018_synthetic.csv\n"
     ]
    },
    {
     "name": "stderr",
     "output_type": "stream",
     "text": [
      "/opt/anaconda3/envs/flexpower/lib/python3.7/site-packages/scipy/stats/stats.py:4023: PearsonRConstantInputWarning: An input array is constant; the correlation coefficient is not defined.\n",
      "  warnings.warn(PearsonRConstantInputWarning())\n"
     ]
    },
    {
     "name": "stdout",
     "output_type": "stream",
     "text": [
      "59. Processing PV profile NM00132 and NPD 8403500, ./data/hydro//npd/synthetic_profiles/npd_8403500_2010_synthetic.csv\n"
     ]
    },
    {
     "name": "stderr",
     "output_type": "stream",
     "text": [
      "/opt/anaconda3/envs/flexpower/lib/python3.7/site-packages/scipy/stats/stats.py:4023: PearsonRConstantInputWarning: An input array is constant; the correlation coefficient is not defined.\n",
      "  warnings.warn(PearsonRConstantInputWarning())\n"
     ]
    },
    {
     "name": "stdout",
     "output_type": "stream",
     "text": [
      "60. Processing PV profile NC00206 and NPD 2105500, ./data/hydro//npd/synthetic_profiles/npd_2105500_2013_synthetic.csv\n",
      "61. Processing PV profile CA00030 and NPD 11476500, ./data/hydro//npd/synthetic_profiles/npd_11476500_2011_synthetic.csv\n",
      "No data in site 11476500 \n",
      "62. Processing PV profile IN00012 and NPD 4180500, ./data/hydro//npd/synthetic_profiles/npd_4180500_2010_synthetic.csv\n",
      "No data in site 4180500 \n",
      "63. Processing PV profile OR00016 and NPD 14170000, ./data/hydro//npd/synthetic_profiles/npd_14170000_2011_synthetic.csv\n"
     ]
    },
    {
     "name": "stderr",
     "output_type": "stream",
     "text": [
      "/opt/anaconda3/envs/flexpower/lib/python3.7/site-packages/scipy/stats/stats.py:4023: PearsonRConstantInputWarning: An input array is constant; the correlation coefficient is not defined.\n",
      "  warnings.warn(PearsonRConstantInputWarning())\n"
     ]
    },
    {
     "name": "stdout",
     "output_type": "stream",
     "text": [
      "64. Processing PV profile OR00013 and NPD 14162200, ./data/hydro//npd/synthetic_profiles/npd_14162200_2011_synthetic.csv\n"
     ]
    },
    {
     "name": "stderr",
     "output_type": "stream",
     "text": [
      "/opt/anaconda3/envs/flexpower/lib/python3.7/site-packages/scipy/stats/stats.py:4023: PearsonRConstantInputWarning: An input array is constant; the correlation coefficient is not defined.\n",
      "  warnings.warn(PearsonRConstantInputWarning())\n"
     ]
    },
    {
     "name": "stdout",
     "output_type": "stream",
     "text": [
      "65. Processing PV profile MT82919 and NPD 6017000, ./data/hydro//npd/synthetic_profiles/npd_6017000_2019_synthetic.csv\n"
     ]
    },
    {
     "name": "stderr",
     "output_type": "stream",
     "text": [
      "/opt/anaconda3/envs/flexpower/lib/python3.7/site-packages/scipy/stats/stats.py:4023: PearsonRConstantInputWarning: An input array is constant; the correlation coefficient is not defined.\n",
      "  warnings.warn(PearsonRConstantInputWarning())\n"
     ]
    },
    {
     "name": "stdout",
     "output_type": "stream",
     "text": [
      "66. Processing PV profile FL00169 and NPD 2304500, ./data/hydro//npd/synthetic_profiles/npd_2304500_2012_synthetic.csv\n"
     ]
    },
    {
     "name": "stderr",
     "output_type": "stream",
     "text": [
      "/opt/anaconda3/envs/flexpower/lib/python3.7/site-packages/scipy/stats/stats.py:4023: PearsonRConstantInputWarning: An input array is constant; the correlation coefficient is not defined.\n",
      "  warnings.warn(PearsonRConstantInputWarning())\n"
     ]
    },
    {
     "name": "stdout",
     "output_type": "stream",
     "text": [
      "67. Processing PV profile AZ10314 and NPD 9429000, ./data/hydro//npd/synthetic_profiles/npd_9429000_2016_synthetic.csv\n",
      "68. Processing PV profile KS00021 and NPD 6875900, ./data/hydro//npd/synthetic_profiles/npd_6875900_2016_synthetic.csv\n"
     ]
    },
    {
     "name": "stderr",
     "output_type": "stream",
     "text": [
      "/opt/anaconda3/envs/flexpower/lib/python3.7/site-packages/scipy/stats/stats.py:4023: PearsonRConstantInputWarning: An input array is constant; the correlation coefficient is not defined.\n",
      "  warnings.warn(PearsonRConstantInputWarning())\n"
     ]
    },
    {
     "name": "stdout",
     "output_type": "stream",
     "text": [
      "69. Processing PV profile PA00114 and NPD 3049500, ./data/hydro//npd/synthetic_profiles/npd_3049500_2013_synthetic.csv\n"
     ]
    },
    {
     "name": "stderr",
     "output_type": "stream",
     "text": [
      "/opt/anaconda3/envs/flexpower/lib/python3.7/site-packages/scipy/stats/stats.py:4023: PearsonRConstantInputWarning: An input array is constant; the correlation coefficient is not defined.\n",
      "  warnings.warn(PearsonRConstantInputWarning())\n"
     ]
    },
    {
     "name": "stdout",
     "output_type": "stream",
     "text": [
      "70. Processing PV profile PA00003 and NPD 1541200, ./data/hydro//npd/synthetic_profiles/npd_1541200_2017_synthetic.csv\n"
     ]
    },
    {
     "name": "stderr",
     "output_type": "stream",
     "text": [
      "/opt/anaconda3/envs/flexpower/lib/python3.7/site-packages/scipy/stats/stats.py:4023: PearsonRConstantInputWarning: An input array is constant; the correlation coefficient is not defined.\n",
      "  warnings.warn(PearsonRConstantInputWarning())\n"
     ]
    },
    {
     "name": "stdout",
     "output_type": "stream",
     "text": [
      "71. Processing PV profile MA00963 and NPD 1166500, ./data/hydro//npd/synthetic_profiles/npd_1166500_2019_synthetic.csv\n"
     ]
    },
    {
     "name": "stderr",
     "output_type": "stream",
     "text": [
      "/opt/anaconda3/envs/flexpower/lib/python3.7/site-packages/scipy/stats/stats.py:4023: PearsonRConstantInputWarning: An input array is constant; the correlation coefficient is not defined.\n",
      "  warnings.warn(PearsonRConstantInputWarning())\n"
     ]
    },
    {
     "name": "stdout",
     "output_type": "stream",
     "text": [
      "72. Processing PV profile PA01547 and NPD 3082500, ./data/hydro//npd/synthetic_profiles/npd_3082500_2015_synthetic.csv\n",
      "No data in site 3082500 \n",
      "73. Processing PV profile NY00410 and NPD 4247000, ./data/hydro//npd/synthetic_profiles/npd_4247000_2014_synthetic.csv\n",
      "74. Processing PV profile AL01981 and NPD 2465000, ./data/hydro//npd/synthetic_profiles/npd_2465000_2012_synthetic.csv\n",
      "No data in site 2465000 \n",
      "75. Processing PV profile KY03055 and NPD 3249500, ./data/hydro//npd/synthetic_profiles/npd_3249500_2010_synthetic.csv\n"
     ]
    },
    {
     "name": "stderr",
     "output_type": "stream",
     "text": [
      "/opt/anaconda3/envs/flexpower/lib/python3.7/site-packages/scipy/stats/stats.py:4023: PearsonRConstantInputWarning: An input array is constant; the correlation coefficient is not defined.\n",
      "  warnings.warn(PearsonRConstantInputWarning())\n"
     ]
    },
    {
     "name": "stdout",
     "output_type": "stream",
     "text": [
      "76. Processing PV profile CT00378 and NPD 1188090, ./data/hydro//npd/synthetic_profiles/npd_1188090_2014_synthetic.csv\n"
     ]
    },
    {
     "name": "stderr",
     "output_type": "stream",
     "text": [
      "/opt/anaconda3/envs/flexpower/lib/python3.7/site-packages/scipy/stats/stats.py:4023: PearsonRConstantInputWarning: An input array is constant; the correlation coefficient is not defined.\n",
      "  warnings.warn(PearsonRConstantInputWarning())\n"
     ]
    },
    {
     "name": "stdout",
     "output_type": "stream",
     "text": [
      "77. Processing PV profile NC00182 and NPD 2105769, ./data/hydro//npd/synthetic_profiles/npd_2105769_2013_synthetic.csv\n"
     ]
    },
    {
     "name": "stderr",
     "output_type": "stream",
     "text": [
      "/opt/anaconda3/envs/flexpower/lib/python3.7/site-packages/scipy/stats/stats.py:4023: PearsonRConstantInputWarning: An input array is constant; the correlation coefficient is not defined.\n",
      "  warnings.warn(PearsonRConstantInputWarning())\n"
     ]
    },
    {
     "name": "stdout",
     "output_type": "stream",
     "text": [
      "78. Processing PV profile CO02788 and NPD 9041400, ./data/hydro//npd/synthetic_profiles/npd_9041400_2019_synthetic.csv\n",
      "No data in site 9041400 \n",
      "79. Processing PV profile AZ82203 and NPD 9426000, ./data/hydro//npd/synthetic_profiles/npd_9426000_2012_synthetic.csv\n"
     ]
    },
    {
     "name": "stderr",
     "output_type": "stream",
     "text": [
      "/opt/anaconda3/envs/flexpower/lib/python3.7/site-packages/scipy/stats/stats.py:4023: PearsonRConstantInputWarning: An input array is constant; the correlation coefficient is not defined.\n",
      "  warnings.warn(PearsonRConstantInputWarning())\n"
     ]
    },
    {
     "name": "stdout",
     "output_type": "stream",
     "text": [
      "80. Processing PV profile IA01213 and NPD 5463050, ./data/hydro//npd/synthetic_profiles/npd_5463050_2017_synthetic.csv\n"
     ]
    },
    {
     "name": "stderr",
     "output_type": "stream",
     "text": [
      "/opt/anaconda3/envs/flexpower/lib/python3.7/site-packages/scipy/stats/stats.py:4023: PearsonRConstantInputWarning: An input array is constant; the correlation coefficient is not defined.\n",
      "  warnings.warn(PearsonRConstantInputWarning())\n"
     ]
    },
    {
     "name": "stdout",
     "output_type": "stream",
     "text": [
      "81. Processing PV profile NY00558 and NPD 4242500, ./data/hydro//npd/synthetic_profiles/npd_4242500_2011_synthetic.csv\n",
      "No data in site 4242500 \n",
      "82. Processing PV profile 294 and NPD 3209000, ./data/hydro//npd/synthetic_profiles/npd_3209000_2015_synthetic.csv\n",
      "No data in site 3209000 \n",
      "83. Processing PV profile KY03003 and NPD 3320000, ./data/hydro//npd/synthetic_profiles/npd_3320000_2016_synthetic.csv\n"
     ]
    },
    {
     "name": "stderr",
     "output_type": "stream",
     "text": [
      "/opt/anaconda3/envs/flexpower/lib/python3.7/site-packages/scipy/stats/stats.py:4023: PearsonRConstantInputWarning: An input array is constant; the correlation coefficient is not defined.\n",
      "  warnings.warn(PearsonRConstantInputWarning())\n"
     ]
    },
    {
     "name": "stdout",
     "output_type": "stream",
     "text": [
      "84. Processing PV profile 1201 and NPD 1347000, ./data/hydro//npd/synthetic_profiles/npd_1347000_2018_synthetic.csv\n"
     ]
    },
    {
     "name": "stderr",
     "output_type": "stream",
     "text": [
      "/opt/anaconda3/envs/flexpower/lib/python3.7/site-packages/scipy/stats/stats.py:4023: PearsonRConstantInputWarning: An input array is constant; the correlation coefficient is not defined.\n",
      "  warnings.warn(PearsonRConstantInputWarning())\n"
     ]
    },
    {
     "name": "stdout",
     "output_type": "stream",
     "text": [
      "85. Processing PV profile PA00102 and NPD 3039000, ./data/hydro//npd/synthetic_profiles/npd_3039000_2014_synthetic.csv\n"
     ]
    },
    {
     "name": "stderr",
     "output_type": "stream",
     "text": [
      "/opt/anaconda3/envs/flexpower/lib/python3.7/site-packages/scipy/stats/stats.py:4023: PearsonRConstantInputWarning: An input array is constant; the correlation coefficient is not defined.\n",
      "  warnings.warn(PearsonRConstantInputWarning())\n"
     ]
    },
    {
     "name": "stdout",
     "output_type": "stream",
     "text": [
      "86. Processing PV profile 647 and NPD 2341460, ./data/hydro//npd/synthetic_profiles/npd_2341460_2014_synthetic.csv\n"
     ]
    },
    {
     "name": "stderr",
     "output_type": "stream",
     "text": [
      "/opt/anaconda3/envs/flexpower/lib/python3.7/site-packages/scipy/stats/stats.py:4023: PearsonRConstantInputWarning: An input array is constant; the correlation coefficient is not defined.\n",
      "  warnings.warn(PearsonRConstantInputWarning())\n"
     ]
    },
    {
     "name": "stdout",
     "output_type": "stream",
     "text": [
      "87. Processing PV profile TX01542 and NPD 8162500, ./data/hydro//npd/synthetic_profiles/npd_8162500_2017_synthetic.csv\n",
      "No data in site 8162500 \n",
      "88. Processing PV profile IA01270 and NPD 5464730, ./data/hydro//npd/synthetic_profiles/npd_5464730_2019_synthetic.csv\n"
     ]
    },
    {
     "name": "stderr",
     "output_type": "stream",
     "text": [
      "/opt/anaconda3/envs/flexpower/lib/python3.7/site-packages/scipy/stats/stats.py:4023: PearsonRConstantInputWarning: An input array is constant; the correlation coefficient is not defined.\n",
      "  warnings.warn(PearsonRConstantInputWarning())\n"
     ]
    },
    {
     "name": "stdout",
     "output_type": "stream",
     "text": [
      "89. Processing PV profile CO00976 and NPD 9246500, ./data/hydro//npd/synthetic_profiles/npd_9246500_2014_synthetic.csv\n",
      "No data in site 9246500 \n",
      "90. Processing PV profile 898 and NPD 1153000, ./data/hydro//npd/synthetic_profiles/npd_1153000_2018_synthetic.csv\n"
     ]
    },
    {
     "name": "stderr",
     "output_type": "stream",
     "text": [
      "/opt/anaconda3/envs/flexpower/lib/python3.7/site-packages/scipy/stats/stats.py:4023: PearsonRConstantInputWarning: An input array is constant; the correlation coefficient is not defined.\n",
      "  warnings.warn(PearsonRConstantInputWarning())\n"
     ]
    },
    {
     "name": "stdout",
     "output_type": "stream",
     "text": [
      "91. Processing PV profile TX05020 and NPD 8048000, ./data/hydro//npd/synthetic_profiles/npd_8048000_2012_synthetic.csv\n",
      "No data in site 8048000 \n",
      "92. Processing PV profile OK02537 and NPD 7241000, ./data/hydro//npd/synthetic_profiles/npd_7241000_2013_synthetic.csv\n",
      "No data in site 7241000 \n",
      "93. Processing PV profile NY01211 and NPD 1500000, ./data/hydro//npd/synthetic_profiles/npd_1500000_2017_synthetic.csv\n",
      "No data in site 1500000 \n",
      "94. Processing PV profile PA00285 and NPD 3042500, ./data/hydro//npd/synthetic_profiles/npd_3042500_2015_synthetic.csv\n",
      "No data in site 3042500 \n",
      "95. Processing PV profile MI00361 and NPD 4151500, ./data/hydro//npd/synthetic_profiles/npd_4151500_2014_synthetic.csv\n",
      "No data in site 4151500 \n",
      "96. Processing PV profile WV07723 and NPD 3070260, ./data/hydro//npd/synthetic_profiles/npd_3070260_2015_synthetic.csv\n",
      "No data in site 3070260 \n",
      "No file for site 4101225 \n",
      "98. Processing PV profile OH00005 and NPD 3124500, ./data/hydro//npd/synthetic_profiles/npd_3124500_2015_synthetic.csv\n",
      "No data in site 3124500 \n",
      "99. Processing PV profile PA00007 and NPD 1575500, ./data/hydro//npd/synthetic_profiles/npd_1575500_2012_synthetic.csv\n",
      "No data in site 1575500 \n",
      "100. Processing PV profile TX00014 and NPD 8104100, ./data/hydro//npd/synthetic_profiles/npd_8104100_2017_synthetic.csv\n",
      "No data in site 8104100 \n",
      "101. Processing PV profile PA01134 and NPD 1518000, ./data/hydro//npd/synthetic_profiles/npd_1518000_2010_synthetic.csv\n",
      "No data in site 1518000 \n",
      "102. Processing PV profile WV10924 and NPD 3203600, ./data/hydro//npd/synthetic_profiles/npd_3203600_2013_synthetic.csv\n",
      "No data in site 3203600 \n",
      "103. Processing PV profile OH01102 and NPD 3111500, ./data/hydro//npd/synthetic_profiles/npd_3111500_2013_synthetic.csv\n",
      "104. Processing PV profile KS00009 and NPD 6890900, ./data/hydro//npd/synthetic_profiles/npd_6890900_2017_synthetic.csv\n",
      "No data in site 6890900 \n",
      "105. Processing PV profile WV09101 and NPD 3056000, ./data/hydro//npd/synthetic_profiles/npd_3056000_2016_synthetic.csv\n"
     ]
    },
    {
     "name": "stderr",
     "output_type": "stream",
     "text": [
      "/opt/anaconda3/envs/flexpower/lib/python3.7/site-packages/scipy/stats/stats.py:4023: PearsonRConstantInputWarning: An input array is constant; the correlation coefficient is not defined.\n",
      "  warnings.warn(PearsonRConstantInputWarning())\n"
     ]
    },
    {
     "name": "stdout",
     "output_type": "stream",
     "text": [
      "106. Processing PV profile WI00296 and NPD 5430500, ./data/hydro//npd/synthetic_profiles/npd_5430500_2016_synthetic.csv\n",
      "107. Processing PV profile RI00809 and NPD 1113895, ./data/hydro//npd/synthetic_profiles/npd_1113895_2017_synthetic.csv\n",
      "108. Processing PV profile WI00589 and NPD 5378500, ./data/hydro//npd/synthetic_profiles/npd_5378500_2018_synthetic.csv\n"
     ]
    }
   ],
   "source": [
    "from pathlib import Path\n",
    "from scipy.stats import pearsonr\n",
    "import seaborn as sns\n",
    "\n",
    "### Stability coefficient\n",
    "missing_sites = []\n",
    "df_missing = pd.DataFrame()\n",
    "\n",
    "pv_wind_id_df.fillna(0, inplace=True)\n",
    "\n",
    "pearsons_pv_hy = pd.DataFrame(columns=['site_id','p'])\n",
    "annual_mean_p = pd.DataFrame()\n",
    "\n",
    "annual_stab_df = pd.DataFrame(columns = ['site_id', 'lat', 'lon', 'c_stab'])\n",
    "\n",
    "for idx, row in pv_wind_id_df.iterrows():\n",
    "    \n",
    "    if row['post_csv_filename'] == 0:\n",
    "        print( f\"No file for site {row['site_id']} \")\n",
    "        missing_sites.append(row['site_id'])\n",
    "        continue\n",
    "    \n",
    "    if row['site_id'] not in rep_year_df.site.values:\n",
    "        print(f\"Site doesn't have enough data: {row['site_id']}\")\n",
    "        empty_data_sites.append(row['site_id'])\n",
    "        query_df.loc[idx,'post_csv_filename'] = \"\"\n",
    "        continue\n",
    "        \n",
    "    print(f\"{idx}. Processing PV profile {row['pv_id']} and NPD {row['site_id']}, {row['post_csv_filename']}\")\n",
    "\n",
    "    solar_df = pd.read_csv(f\"{pv_dest_path}/{row['pv_id']}_{pv_filename_prefix}.csv\",parse_dates=True,index_col=0)\n",
    "\n",
    "    hydro_df = pd.read_csv(row['post_csv_filename'],parse_dates=True,index_col=0)\n",
    "    hydro_df.fillna(0, inplace=True)\n",
    "    \n",
    "    if float(hydro_df['capacity_factor'].sum()) == 0.0:\n",
    "        print( f\"No data in site {row['site_id']} \")\n",
    "        missing_sites.append(row['site_id'])\n",
    "        continue\n",
    "\n",
    "    c_stab = []\n",
    "    pearsons = []\n",
    "    \n",
    "    # Finds the representative year for the given stream gage\n",
    "    year = str(rep_year_df['year'].loc[rep_year_df.site == row['site_id']].values[0])\n",
    "    \n",
    "    # Massaging the timestamps of the hydropower time-series given that we are chosing the best year in terms of data completion.\n",
    "    # Here, we copy the CF into a new dataframe with the time-stamps from 2012\n",
    "    tmp_hydro_df_rep_year = hydro_df.loc[year,'capacity_factor'].copy().to_frame()\n",
    "    tmp_hydro_df = base_df.copy()\n",
    "    tmp_hydro_df.set_index('dateTime',inplace=True)\n",
    "    tmp_hydro_df['capacity_factor'] = tmp_hydro_df_rep_year.loc[year,'capacity_factor'].values\n",
    "     \n",
    "    tmp_solar_df = solar_df.loc['2012-01-01':'2012-12-30'].copy()\n",
    "\n",
    "    for month in months:\n",
    "        \n",
    "        #print(month)\n",
    "\n",
    "        if month < 10:\n",
    "            month = f'0{str(month)}'\n",
    "        else:\n",
    "            month = str(month)\n",
    "        \n",
    "        #tmp_solar_df = solar_df.loc['2012'].copy()\n",
    "        \n",
    "        tmp_hydro_monthly_df = tmp_hydro_df.loc[f'2012-{month}','capacity_factor'].copy().to_frame()\n",
    "        tmp_solar_monthly_df = tmp_solar_df.loc[f'2012-{month}'].copy()\n",
    "\n",
    "        tmp_hydro_monthly_df.rename(columns={'capacity_factor':row['site_id']}, inplace=True)\n",
    "        tmp_solar_monthly_df.rename(columns={'pv_cf':row['site_id']}, inplace=True)\n",
    "\n",
    "        # Compute complementarity metrics (PV as reference)\n",
    "        _, c_stab_tmp = main_stability(tmp_solar_monthly_df, tmp_hydro_monthly_df)\n",
    "        c_stab_tmp.rename(columns={row['site_id']:month}, inplace=True)\n",
    "\n",
    "        c_stab.append(c_stab_tmp)\n",
    "         \n",
    "        corr, _ = pearsonr(tmp_solar_monthly_df[row['site_id']].values, tmp_hydro_monthly_df[row['site_id']].values)\n",
    "        pearsons.append(corr)\n",
    "        \n",
    "    \n",
    "    # ***************************************** Stability Coefficient *****************************************\n",
    "    c_stab_df = pd.concat(c_stab, axis=1)\n",
    "    \n",
    "    annual_mean = c_stab_df.mean(axis=0)\n",
    "\n",
    "    annual_stab_df.loc[idx,'site_id'] = row['site_id']\n",
    "    annual_stab_df.loc[idx,'pv_id'] = row['pv_id']\n",
    "    annual_stab_df.loc[idx,'lat'] = row['lat']\n",
    "    annual_stab_df.loc[idx,'lon'] = row['lon']\n",
    "    annual_stab_df.loc[idx,months] = annual_mean.values\n",
    "    \n",
    "    # ***************************************** Pearsons Coefficient *****************************************\n",
    "    p_series = pd.Series(pearsons)\n",
    "\n",
    "    annual_mean_p.loc[idx,'site_id'] = row['site_id']\n",
    "    annual_mean_p.loc[idx,'pv_id'] = row['pv_id']\n",
    "    annual_mean_p.loc[idx,'lat'] = row['lat']\n",
    "    annual_mean_p.loc[idx,'lon'] = row['lon']\n",
    "    annual_mean_p.loc[idx,months] = p_series.values\n",
    "\n",
    "annual_stab_df.to_csv(f\"{c_stab_path}/rep_year_MONTHLY_npd_stab_pv_hydro.csv\")\n",
    "annual_mean_p.to_csv(f\"{c_stab_path}/rep_year_MONTHLY_npd_pearsons_pv_hydro.csv\")"
   ]
  },
  {
   "cell_type": "code",
   "execution_count": 8,
   "metadata": {},
   "outputs": [
    {
     "data": {
      "text/html": [
       "<div>\n",
       "<style scoped>\n",
       "    .dataframe tbody tr th:only-of-type {\n",
       "        vertical-align: middle;\n",
       "    }\n",
       "\n",
       "    .dataframe tbody tr th {\n",
       "        vertical-align: top;\n",
       "    }\n",
       "\n",
       "    .dataframe thead th {\n",
       "        text-align: right;\n",
       "    }\n",
       "</style>\n",
       "<table border=\"1\" class=\"dataframe\">\n",
       "  <thead>\n",
       "    <tr style=\"text-align: right;\">\n",
       "      <th></th>\n",
       "      <th>site_id</th>\n",
       "      <th>lat</th>\n",
       "      <th>lon</th>\n",
       "      <th>c_stab</th>\n",
       "      <th>pv_id</th>\n",
       "      <th>1</th>\n",
       "      <th>2</th>\n",
       "      <th>3</th>\n",
       "      <th>4</th>\n",
       "      <th>5</th>\n",
       "      <th>6</th>\n",
       "      <th>7</th>\n",
       "      <th>8</th>\n",
       "      <th>9</th>\n",
       "      <th>10</th>\n",
       "      <th>11</th>\n",
       "      <th>12</th>\n",
       "    </tr>\n",
       "  </thead>\n",
       "  <tbody>\n",
       "    <tr>\n",
       "      <th>3</th>\n",
       "      <td>3020000</td>\n",
       "      <td>41.475038</td>\n",
       "      <td>-79.445464</td>\n",
       "      <td>NaN</td>\n",
       "      <td>PA00110</td>\n",
       "      <td>0.627266</td>\n",
       "      <td>0.719977</td>\n",
       "      <td>0.354434</td>\n",
       "      <td>0.654553</td>\n",
       "      <td>0.484543</td>\n",
       "      <td>0.681588</td>\n",
       "      <td>0.148268</td>\n",
       "      <td>0.000000</td>\n",
       "      <td>0.000000</td>\n",
       "      <td>0.116790</td>\n",
       "      <td>0.248612</td>\n",
       "      <td>0.450875</td>\n",
       "    </tr>\n",
       "    <tr>\n",
       "      <th>4</th>\n",
       "      <td>3592000</td>\n",
       "      <td>34.398667</td>\n",
       "      <td>-87.987939</td>\n",
       "      <td>NaN</td>\n",
       "      <td>AL05903</td>\n",
       "      <td>0.082770</td>\n",
       "      <td>0.761249</td>\n",
       "      <td>0.734854</td>\n",
       "      <td>0.717576</td>\n",
       "      <td>0.251257</td>\n",
       "      <td>0.106416</td>\n",
       "      <td>0.000000</td>\n",
       "      <td>0.000000</td>\n",
       "      <td>0.000000</td>\n",
       "      <td>0.000000</td>\n",
       "      <td>0.312069</td>\n",
       "      <td>0.605100</td>\n",
       "    </tr>\n",
       "    <tr>\n",
       "      <th>7</th>\n",
       "      <td>6670500</td>\n",
       "      <td>42.170663</td>\n",
       "      <td>-104.69738</td>\n",
       "      <td>NaN</td>\n",
       "      <td>WY01496</td>\n",
       "      <td>0.000000</td>\n",
       "      <td>0.000000</td>\n",
       "      <td>0.000000</td>\n",
       "      <td>0.391029</td>\n",
       "      <td>0.682308</td>\n",
       "      <td>0.760980</td>\n",
       "      <td>0.631295</td>\n",
       "      <td>0.220805</td>\n",
       "      <td>0.000000</td>\n",
       "      <td>0.037039</td>\n",
       "      <td>0.735928</td>\n",
       "      <td>0.583629</td>\n",
       "    </tr>\n",
       "    <tr>\n",
       "      <th>8</th>\n",
       "      <td>1184000</td>\n",
       "      <td>41.988617</td>\n",
       "      <td>-72.603469</td>\n",
       "      <td>NaN</td>\n",
       "      <td>CT00583</td>\n",
       "      <td>0.230798</td>\n",
       "      <td>0.188899</td>\n",
       "      <td>0.674870</td>\n",
       "      <td>0.549485</td>\n",
       "      <td>0.230993</td>\n",
       "      <td>0.035257</td>\n",
       "      <td>0.000000</td>\n",
       "      <td>0.003683</td>\n",
       "      <td>0.005642</td>\n",
       "      <td>0.535416</td>\n",
       "      <td>0.536754</td>\n",
       "      <td>0.568094</td>\n",
       "    </tr>\n",
       "    <tr>\n",
       "      <th>10</th>\n",
       "      <td>3400800</td>\n",
       "      <td>36.751663</td>\n",
       "      <td>-83.25657</td>\n",
       "      <td>NaN</td>\n",
       "      <td>KY03061</td>\n",
       "      <td>0.444661</td>\n",
       "      <td>0.372895</td>\n",
       "      <td>0.807892</td>\n",
       "      <td>0.502291</td>\n",
       "      <td>0.000000</td>\n",
       "      <td>0.000000</td>\n",
       "      <td>0.226591</td>\n",
       "      <td>0.000000</td>\n",
       "      <td>0.000000</td>\n",
       "      <td>0.026260</td>\n",
       "      <td>0.111083</td>\n",
       "      <td>0.809101</td>\n",
       "    </tr>\n",
       "    <tr>\n",
       "      <th>...</th>\n",
       "      <td>...</td>\n",
       "      <td>...</td>\n",
       "      <td>...</td>\n",
       "      <td>...</td>\n",
       "      <td>...</td>\n",
       "      <td>...</td>\n",
       "      <td>...</td>\n",
       "      <td>...</td>\n",
       "      <td>...</td>\n",
       "      <td>...</td>\n",
       "      <td>...</td>\n",
       "      <td>...</td>\n",
       "      <td>...</td>\n",
       "      <td>...</td>\n",
       "      <td>...</td>\n",
       "      <td>...</td>\n",
       "      <td>...</td>\n",
       "    </tr>\n",
       "    <tr>\n",
       "      <th>103</th>\n",
       "      <td>3111500</td>\n",
       "      <td>40.215532</td>\n",
       "      <td>-80.962672</td>\n",
       "      <td>NaN</td>\n",
       "      <td>OH01102</td>\n",
       "      <td>0.914751</td>\n",
       "      <td>0.894976</td>\n",
       "      <td>0.852882</td>\n",
       "      <td>0.815042</td>\n",
       "      <td>0.752256</td>\n",
       "      <td>0.689453</td>\n",
       "      <td>0.795540</td>\n",
       "      <td>0.729926</td>\n",
       "      <td>0.724512</td>\n",
       "      <td>0.813222</td>\n",
       "      <td>0.842302</td>\n",
       "      <td>0.948524</td>\n",
       "    </tr>\n",
       "    <tr>\n",
       "      <th>105</th>\n",
       "      <td>3056000</td>\n",
       "      <td>39.312938</td>\n",
       "      <td>-80.033924</td>\n",
       "      <td>NaN</td>\n",
       "      <td>WV09101</td>\n",
       "      <td>0.160210</td>\n",
       "      <td>0.669706</td>\n",
       "      <td>0.216095</td>\n",
       "      <td>0.257745</td>\n",
       "      <td>0.596866</td>\n",
       "      <td>0.109979</td>\n",
       "      <td>0.141580</td>\n",
       "      <td>0.000000</td>\n",
       "      <td>0.000000</td>\n",
       "      <td>0.262654</td>\n",
       "      <td>0.000783</td>\n",
       "      <td>0.915290</td>\n",
       "    </tr>\n",
       "    <tr>\n",
       "      <th>106</th>\n",
       "      <td>5430500</td>\n",
       "      <td>42.669398</td>\n",
       "      <td>-89.031526</td>\n",
       "      <td>NaN</td>\n",
       "      <td>WI00296</td>\n",
       "      <td>0.823221</td>\n",
       "      <td>0.568963</td>\n",
       "      <td>0.768328</td>\n",
       "      <td>0.799955</td>\n",
       "      <td>0.437772</td>\n",
       "      <td>0.281108</td>\n",
       "      <td>0.095220</td>\n",
       "      <td>0.148969</td>\n",
       "      <td>0.505929</td>\n",
       "      <td>0.807831</td>\n",
       "      <td>0.857497</td>\n",
       "      <td>0.873670</td>\n",
       "    </tr>\n",
       "    <tr>\n",
       "      <th>107</th>\n",
       "      <td>1113895</td>\n",
       "      <td>41.971454</td>\n",
       "      <td>-71.470843</td>\n",
       "      <td>NaN</td>\n",
       "      <td>RI00809</td>\n",
       "      <td>0.850447</td>\n",
       "      <td>0.560118</td>\n",
       "      <td>0.270129</td>\n",
       "      <td>0.621443</td>\n",
       "      <td>0.662716</td>\n",
       "      <td>0.340612</td>\n",
       "      <td>0.122577</td>\n",
       "      <td>0.021076</td>\n",
       "      <td>0.003514</td>\n",
       "      <td>0.172641</td>\n",
       "      <td>0.504026</td>\n",
       "      <td>0.183890</td>\n",
       "    </tr>\n",
       "    <tr>\n",
       "      <th>108</th>\n",
       "      <td>5378500</td>\n",
       "      <td>44.16216</td>\n",
       "      <td>-91.81022</td>\n",
       "      <td>NaN</td>\n",
       "      <td>WI00589</td>\n",
       "      <td>0.122581</td>\n",
       "      <td>0.010407</td>\n",
       "      <td>0.284852</td>\n",
       "      <td>0.615986</td>\n",
       "      <td>0.684714</td>\n",
       "      <td>0.619853</td>\n",
       "      <td>0.688816</td>\n",
       "      <td>0.235864</td>\n",
       "      <td>0.526887</td>\n",
       "      <td>0.819366</td>\n",
       "      <td>0.774728</td>\n",
       "      <td>0.671991</td>\n",
       "    </tr>\n",
       "  </tbody>\n",
       "</table>\n",
       "<p>62 rows × 17 columns</p>\n",
       "</div>"
      ],
      "text/plain": [
       "     site_id        lat        lon c_stab    pv_id         1         2  \\\n",
       "3    3020000  41.475038 -79.445464    NaN  PA00110  0.627266  0.719977   \n",
       "4    3592000  34.398667 -87.987939    NaN  AL05903  0.082770  0.761249   \n",
       "7    6670500  42.170663 -104.69738    NaN  WY01496  0.000000  0.000000   \n",
       "8    1184000  41.988617 -72.603469    NaN  CT00583  0.230798  0.188899   \n",
       "10   3400800  36.751663  -83.25657    NaN  KY03061  0.444661  0.372895   \n",
       "..       ...        ...        ...    ...      ...       ...       ...   \n",
       "103  3111500  40.215532 -80.962672    NaN  OH01102  0.914751  0.894976   \n",
       "105  3056000  39.312938 -80.033924    NaN  WV09101  0.160210  0.669706   \n",
       "106  5430500  42.669398 -89.031526    NaN  WI00296  0.823221  0.568963   \n",
       "107  1113895  41.971454 -71.470843    NaN  RI00809  0.850447  0.560118   \n",
       "108  5378500   44.16216  -91.81022    NaN  WI00589  0.122581  0.010407   \n",
       "\n",
       "            3         4         5         6         7         8         9  \\\n",
       "3    0.354434  0.654553  0.484543  0.681588  0.148268  0.000000  0.000000   \n",
       "4    0.734854  0.717576  0.251257  0.106416  0.000000  0.000000  0.000000   \n",
       "7    0.000000  0.391029  0.682308  0.760980  0.631295  0.220805  0.000000   \n",
       "8    0.674870  0.549485  0.230993  0.035257  0.000000  0.003683  0.005642   \n",
       "10   0.807892  0.502291  0.000000  0.000000  0.226591  0.000000  0.000000   \n",
       "..        ...       ...       ...       ...       ...       ...       ...   \n",
       "103  0.852882  0.815042  0.752256  0.689453  0.795540  0.729926  0.724512   \n",
       "105  0.216095  0.257745  0.596866  0.109979  0.141580  0.000000  0.000000   \n",
       "106  0.768328  0.799955  0.437772  0.281108  0.095220  0.148969  0.505929   \n",
       "107  0.270129  0.621443  0.662716  0.340612  0.122577  0.021076  0.003514   \n",
       "108  0.284852  0.615986  0.684714  0.619853  0.688816  0.235864  0.526887   \n",
       "\n",
       "           10        11        12  \n",
       "3    0.116790  0.248612  0.450875  \n",
       "4    0.000000  0.312069  0.605100  \n",
       "7    0.037039  0.735928  0.583629  \n",
       "8    0.535416  0.536754  0.568094  \n",
       "10   0.026260  0.111083  0.809101  \n",
       "..        ...       ...       ...  \n",
       "103  0.813222  0.842302  0.948524  \n",
       "105  0.262654  0.000783  0.915290  \n",
       "106  0.807831  0.857497  0.873670  \n",
       "107  0.172641  0.504026  0.183890  \n",
       "108  0.819366  0.774728  0.671991  \n",
       "\n",
       "[62 rows x 17 columns]"
      ]
     },
     "execution_count": 8,
     "metadata": {},
     "output_type": "execute_result"
    }
   ],
   "source": [
    "annual_stab_df"
   ]
  },
  {
   "cell_type": "markdown",
   "metadata": {},
   "source": [
    "## Complementarity PV-Wind"
   ]
  },
  {
   "cell_type": "code",
   "execution_count": 9,
   "metadata": {},
   "outputs": [
    {
     "name": "stdout",
     "output_type": "stream",
     "text": [
      "0. Processing Wind profile CO01656 and NPD 9019500, ./data/hydro//npd/synthetic_profiles/npd_9019500_2016_synthetic.csv\n"
     ]
    },
    {
     "ename": "FileNotFoundError",
     "evalue": "[Errno 2] No such file or directory: '.data/hydro/npd/complementarity/wind_time_series/CO01656_cf_wind_profile.csv'",
     "output_type": "error",
     "traceback": [
      "\u001b[0;31m---------------------------------------------------------------------------\u001b[0m",
      "\u001b[0;31mFileNotFoundError\u001b[0m                         Traceback (most recent call last)",
      "\u001b[0;32m<ipython-input-9-f2fa975a9d91>\u001b[0m in \u001b[0;36m<module>\u001b[0;34m\u001b[0m\n\u001b[1;32m     28\u001b[0m     \u001b[0mprint\u001b[0m\u001b[0;34m(\u001b[0m\u001b[0;34mf\"{idx}. Processing Wind profile {row['wind_id']} and NPD {row['site_id']}, {row['post_csv_filename']}\"\u001b[0m\u001b[0;34m)\u001b[0m\u001b[0;34m\u001b[0m\u001b[0;34m\u001b[0m\u001b[0m\n\u001b[1;32m     29\u001b[0m \u001b[0;34m\u001b[0m\u001b[0m\n\u001b[0;32m---> 30\u001b[0;31m     \u001b[0mwind_df\u001b[0m \u001b[0;34m=\u001b[0m \u001b[0mpd\u001b[0m\u001b[0;34m.\u001b[0m\u001b[0mread_csv\u001b[0m\u001b[0;34m(\u001b[0m\u001b[0;34mf\"{wind_dest_path}/{row['wind_id']}_{wind_filename_prefix}.csv\"\u001b[0m\u001b[0;34m,\u001b[0m\u001b[0mparse_dates\u001b[0m\u001b[0;34m=\u001b[0m\u001b[0;32mTrue\u001b[0m\u001b[0;34m,\u001b[0m\u001b[0mindex_col\u001b[0m\u001b[0;34m=\u001b[0m\u001b[0;36m0\u001b[0m\u001b[0;34m)\u001b[0m\u001b[0;34m\u001b[0m\u001b[0;34m\u001b[0m\u001b[0m\n\u001b[0m\u001b[1;32m     31\u001b[0m \u001b[0;34m\u001b[0m\u001b[0m\n\u001b[1;32m     32\u001b[0m     \u001b[0mhydro_df\u001b[0m \u001b[0;34m=\u001b[0m \u001b[0mpd\u001b[0m\u001b[0;34m.\u001b[0m\u001b[0mread_csv\u001b[0m\u001b[0;34m(\u001b[0m\u001b[0mrow\u001b[0m\u001b[0;34m[\u001b[0m\u001b[0;34m'post_csv_filename'\u001b[0m\u001b[0;34m]\u001b[0m\u001b[0;34m,\u001b[0m\u001b[0mparse_dates\u001b[0m\u001b[0;34m=\u001b[0m\u001b[0;32mTrue\u001b[0m\u001b[0;34m,\u001b[0m\u001b[0mindex_col\u001b[0m\u001b[0;34m=\u001b[0m\u001b[0;36m0\u001b[0m\u001b[0;34m)\u001b[0m\u001b[0;34m\u001b[0m\u001b[0;34m\u001b[0m\u001b[0m\n",
      "\u001b[0;32m/opt/anaconda3/envs/flexpower/lib/python3.7/site-packages/pandas/util/_decorators.py\u001b[0m in \u001b[0;36mwrapper\u001b[0;34m(*args, **kwargs)\u001b[0m\n\u001b[1;32m    309\u001b[0m                     \u001b[0mstacklevel\u001b[0m\u001b[0;34m=\u001b[0m\u001b[0mstacklevel\u001b[0m\u001b[0;34m,\u001b[0m\u001b[0;34m\u001b[0m\u001b[0;34m\u001b[0m\u001b[0m\n\u001b[1;32m    310\u001b[0m                 )\n\u001b[0;32m--> 311\u001b[0;31m             \u001b[0;32mreturn\u001b[0m \u001b[0mfunc\u001b[0m\u001b[0;34m(\u001b[0m\u001b[0;34m*\u001b[0m\u001b[0margs\u001b[0m\u001b[0;34m,\u001b[0m \u001b[0;34m**\u001b[0m\u001b[0mkwargs\u001b[0m\u001b[0;34m)\u001b[0m\u001b[0;34m\u001b[0m\u001b[0;34m\u001b[0m\u001b[0m\n\u001b[0m\u001b[1;32m    312\u001b[0m \u001b[0;34m\u001b[0m\u001b[0m\n\u001b[1;32m    313\u001b[0m         \u001b[0;32mreturn\u001b[0m \u001b[0mwrapper\u001b[0m\u001b[0;34m\u001b[0m\u001b[0;34m\u001b[0m\u001b[0m\n",
      "\u001b[0;32m/opt/anaconda3/envs/flexpower/lib/python3.7/site-packages/pandas/io/parsers/readers.py\u001b[0m in \u001b[0;36mread_csv\u001b[0;34m(filepath_or_buffer, sep, delimiter, header, names, index_col, usecols, squeeze, prefix, mangle_dupe_cols, dtype, engine, converters, true_values, false_values, skipinitialspace, skiprows, skipfooter, nrows, na_values, keep_default_na, na_filter, verbose, skip_blank_lines, parse_dates, infer_datetime_format, keep_date_col, date_parser, dayfirst, cache_dates, iterator, chunksize, compression, thousands, decimal, lineterminator, quotechar, quoting, doublequote, escapechar, comment, encoding, encoding_errors, dialect, error_bad_lines, warn_bad_lines, on_bad_lines, delim_whitespace, low_memory, memory_map, float_precision, storage_options)\u001b[0m\n\u001b[1;32m    584\u001b[0m     \u001b[0mkwds\u001b[0m\u001b[0;34m.\u001b[0m\u001b[0mupdate\u001b[0m\u001b[0;34m(\u001b[0m\u001b[0mkwds_defaults\u001b[0m\u001b[0;34m)\u001b[0m\u001b[0;34m\u001b[0m\u001b[0;34m\u001b[0m\u001b[0m\n\u001b[1;32m    585\u001b[0m \u001b[0;34m\u001b[0m\u001b[0m\n\u001b[0;32m--> 586\u001b[0;31m     \u001b[0;32mreturn\u001b[0m \u001b[0m_read\u001b[0m\u001b[0;34m(\u001b[0m\u001b[0mfilepath_or_buffer\u001b[0m\u001b[0;34m,\u001b[0m \u001b[0mkwds\u001b[0m\u001b[0;34m)\u001b[0m\u001b[0;34m\u001b[0m\u001b[0;34m\u001b[0m\u001b[0m\n\u001b[0m\u001b[1;32m    587\u001b[0m \u001b[0;34m\u001b[0m\u001b[0m\n\u001b[1;32m    588\u001b[0m \u001b[0;34m\u001b[0m\u001b[0m\n",
      "\u001b[0;32m/opt/anaconda3/envs/flexpower/lib/python3.7/site-packages/pandas/io/parsers/readers.py\u001b[0m in \u001b[0;36m_read\u001b[0;34m(filepath_or_buffer, kwds)\u001b[0m\n\u001b[1;32m    480\u001b[0m \u001b[0;34m\u001b[0m\u001b[0m\n\u001b[1;32m    481\u001b[0m     \u001b[0;31m# Create the parser.\u001b[0m\u001b[0;34m\u001b[0m\u001b[0;34m\u001b[0m\u001b[0;34m\u001b[0m\u001b[0m\n\u001b[0;32m--> 482\u001b[0;31m     \u001b[0mparser\u001b[0m \u001b[0;34m=\u001b[0m \u001b[0mTextFileReader\u001b[0m\u001b[0;34m(\u001b[0m\u001b[0mfilepath_or_buffer\u001b[0m\u001b[0;34m,\u001b[0m \u001b[0;34m**\u001b[0m\u001b[0mkwds\u001b[0m\u001b[0;34m)\u001b[0m\u001b[0;34m\u001b[0m\u001b[0;34m\u001b[0m\u001b[0m\n\u001b[0m\u001b[1;32m    483\u001b[0m \u001b[0;34m\u001b[0m\u001b[0m\n\u001b[1;32m    484\u001b[0m     \u001b[0;32mif\u001b[0m \u001b[0mchunksize\u001b[0m \u001b[0;32mor\u001b[0m \u001b[0miterator\u001b[0m\u001b[0;34m:\u001b[0m\u001b[0;34m\u001b[0m\u001b[0;34m\u001b[0m\u001b[0m\n",
      "\u001b[0;32m/opt/anaconda3/envs/flexpower/lib/python3.7/site-packages/pandas/io/parsers/readers.py\u001b[0m in \u001b[0;36m__init__\u001b[0;34m(self, f, engine, **kwds)\u001b[0m\n\u001b[1;32m    809\u001b[0m             \u001b[0mself\u001b[0m\u001b[0;34m.\u001b[0m\u001b[0moptions\u001b[0m\u001b[0;34m[\u001b[0m\u001b[0;34m\"has_index_names\"\u001b[0m\u001b[0;34m]\u001b[0m \u001b[0;34m=\u001b[0m \u001b[0mkwds\u001b[0m\u001b[0;34m[\u001b[0m\u001b[0;34m\"has_index_names\"\u001b[0m\u001b[0;34m]\u001b[0m\u001b[0;34m\u001b[0m\u001b[0;34m\u001b[0m\u001b[0m\n\u001b[1;32m    810\u001b[0m \u001b[0;34m\u001b[0m\u001b[0m\n\u001b[0;32m--> 811\u001b[0;31m         \u001b[0mself\u001b[0m\u001b[0;34m.\u001b[0m\u001b[0m_engine\u001b[0m \u001b[0;34m=\u001b[0m \u001b[0mself\u001b[0m\u001b[0;34m.\u001b[0m\u001b[0m_make_engine\u001b[0m\u001b[0;34m(\u001b[0m\u001b[0mself\u001b[0m\u001b[0;34m.\u001b[0m\u001b[0mengine\u001b[0m\u001b[0;34m)\u001b[0m\u001b[0;34m\u001b[0m\u001b[0;34m\u001b[0m\u001b[0m\n\u001b[0m\u001b[1;32m    812\u001b[0m \u001b[0;34m\u001b[0m\u001b[0m\n\u001b[1;32m    813\u001b[0m     \u001b[0;32mdef\u001b[0m \u001b[0mclose\u001b[0m\u001b[0;34m(\u001b[0m\u001b[0mself\u001b[0m\u001b[0;34m)\u001b[0m\u001b[0;34m:\u001b[0m\u001b[0;34m\u001b[0m\u001b[0;34m\u001b[0m\u001b[0m\n",
      "\u001b[0;32m/opt/anaconda3/envs/flexpower/lib/python3.7/site-packages/pandas/io/parsers/readers.py\u001b[0m in \u001b[0;36m_make_engine\u001b[0;34m(self, engine)\u001b[0m\n\u001b[1;32m   1038\u001b[0m             )\n\u001b[1;32m   1039\u001b[0m         \u001b[0;31m# error: Too many arguments for \"ParserBase\"\u001b[0m\u001b[0;34m\u001b[0m\u001b[0;34m\u001b[0m\u001b[0;34m\u001b[0m\u001b[0m\n\u001b[0;32m-> 1040\u001b[0;31m         \u001b[0;32mreturn\u001b[0m \u001b[0mmapping\u001b[0m\u001b[0;34m[\u001b[0m\u001b[0mengine\u001b[0m\u001b[0;34m]\u001b[0m\u001b[0;34m(\u001b[0m\u001b[0mself\u001b[0m\u001b[0;34m.\u001b[0m\u001b[0mf\u001b[0m\u001b[0;34m,\u001b[0m \u001b[0;34m**\u001b[0m\u001b[0mself\u001b[0m\u001b[0;34m.\u001b[0m\u001b[0moptions\u001b[0m\u001b[0;34m)\u001b[0m  \u001b[0;31m# type: ignore[call-arg]\u001b[0m\u001b[0;34m\u001b[0m\u001b[0;34m\u001b[0m\u001b[0m\n\u001b[0m\u001b[1;32m   1041\u001b[0m \u001b[0;34m\u001b[0m\u001b[0m\n\u001b[1;32m   1042\u001b[0m     \u001b[0;32mdef\u001b[0m \u001b[0m_failover_to_python\u001b[0m\u001b[0;34m(\u001b[0m\u001b[0mself\u001b[0m\u001b[0;34m)\u001b[0m\u001b[0;34m:\u001b[0m\u001b[0;34m\u001b[0m\u001b[0;34m\u001b[0m\u001b[0m\n",
      "\u001b[0;32m/opt/anaconda3/envs/flexpower/lib/python3.7/site-packages/pandas/io/parsers/c_parser_wrapper.py\u001b[0m in \u001b[0;36m__init__\u001b[0;34m(self, src, **kwds)\u001b[0m\n\u001b[1;32m     49\u001b[0m \u001b[0;34m\u001b[0m\u001b[0m\n\u001b[1;32m     50\u001b[0m         \u001b[0;31m# open handles\u001b[0m\u001b[0;34m\u001b[0m\u001b[0;34m\u001b[0m\u001b[0;34m\u001b[0m\u001b[0m\n\u001b[0;32m---> 51\u001b[0;31m         \u001b[0mself\u001b[0m\u001b[0;34m.\u001b[0m\u001b[0m_open_handles\u001b[0m\u001b[0;34m(\u001b[0m\u001b[0msrc\u001b[0m\u001b[0;34m,\u001b[0m \u001b[0mkwds\u001b[0m\u001b[0;34m)\u001b[0m\u001b[0;34m\u001b[0m\u001b[0;34m\u001b[0m\u001b[0m\n\u001b[0m\u001b[1;32m     52\u001b[0m         \u001b[0;32massert\u001b[0m \u001b[0mself\u001b[0m\u001b[0;34m.\u001b[0m\u001b[0mhandles\u001b[0m \u001b[0;32mis\u001b[0m \u001b[0;32mnot\u001b[0m \u001b[0;32mNone\u001b[0m\u001b[0;34m\u001b[0m\u001b[0;34m\u001b[0m\u001b[0m\n\u001b[1;32m     53\u001b[0m \u001b[0;34m\u001b[0m\u001b[0m\n",
      "\u001b[0;32m/opt/anaconda3/envs/flexpower/lib/python3.7/site-packages/pandas/io/parsers/base_parser.py\u001b[0m in \u001b[0;36m_open_handles\u001b[0;34m(self, src, kwds)\u001b[0m\n\u001b[1;32m    227\u001b[0m             \u001b[0mmemory_map\u001b[0m\u001b[0;34m=\u001b[0m\u001b[0mkwds\u001b[0m\u001b[0;34m.\u001b[0m\u001b[0mget\u001b[0m\u001b[0;34m(\u001b[0m\u001b[0;34m\"memory_map\"\u001b[0m\u001b[0;34m,\u001b[0m \u001b[0;32mFalse\u001b[0m\u001b[0;34m)\u001b[0m\u001b[0;34m,\u001b[0m\u001b[0;34m\u001b[0m\u001b[0;34m\u001b[0m\u001b[0m\n\u001b[1;32m    228\u001b[0m             \u001b[0mstorage_options\u001b[0m\u001b[0;34m=\u001b[0m\u001b[0mkwds\u001b[0m\u001b[0;34m.\u001b[0m\u001b[0mget\u001b[0m\u001b[0;34m(\u001b[0m\u001b[0;34m\"storage_options\"\u001b[0m\u001b[0;34m,\u001b[0m \u001b[0;32mNone\u001b[0m\u001b[0;34m)\u001b[0m\u001b[0;34m,\u001b[0m\u001b[0;34m\u001b[0m\u001b[0;34m\u001b[0m\u001b[0m\n\u001b[0;32m--> 229\u001b[0;31m             \u001b[0merrors\u001b[0m\u001b[0;34m=\u001b[0m\u001b[0mkwds\u001b[0m\u001b[0;34m.\u001b[0m\u001b[0mget\u001b[0m\u001b[0;34m(\u001b[0m\u001b[0;34m\"encoding_errors\"\u001b[0m\u001b[0;34m,\u001b[0m \u001b[0;34m\"strict\"\u001b[0m\u001b[0;34m)\u001b[0m\u001b[0;34m,\u001b[0m\u001b[0;34m\u001b[0m\u001b[0;34m\u001b[0m\u001b[0m\n\u001b[0m\u001b[1;32m    230\u001b[0m         )\n\u001b[1;32m    231\u001b[0m \u001b[0;34m\u001b[0m\u001b[0m\n",
      "\u001b[0;32m/opt/anaconda3/envs/flexpower/lib/python3.7/site-packages/pandas/io/common.py\u001b[0m in \u001b[0;36mget_handle\u001b[0;34m(path_or_buf, mode, encoding, compression, memory_map, is_text, errors, storage_options)\u001b[0m\n\u001b[1;32m    705\u001b[0m                 \u001b[0mencoding\u001b[0m\u001b[0;34m=\u001b[0m\u001b[0mioargs\u001b[0m\u001b[0;34m.\u001b[0m\u001b[0mencoding\u001b[0m\u001b[0;34m,\u001b[0m\u001b[0;34m\u001b[0m\u001b[0;34m\u001b[0m\u001b[0m\n\u001b[1;32m    706\u001b[0m                 \u001b[0merrors\u001b[0m\u001b[0;34m=\u001b[0m\u001b[0merrors\u001b[0m\u001b[0;34m,\u001b[0m\u001b[0;34m\u001b[0m\u001b[0;34m\u001b[0m\u001b[0m\n\u001b[0;32m--> 707\u001b[0;31m                 \u001b[0mnewline\u001b[0m\u001b[0;34m=\u001b[0m\u001b[0;34m\"\"\u001b[0m\u001b[0;34m,\u001b[0m\u001b[0;34m\u001b[0m\u001b[0;34m\u001b[0m\u001b[0m\n\u001b[0m\u001b[1;32m    708\u001b[0m             )\n\u001b[1;32m    709\u001b[0m         \u001b[0;32melse\u001b[0m\u001b[0;34m:\u001b[0m\u001b[0;34m\u001b[0m\u001b[0;34m\u001b[0m\u001b[0m\n",
      "\u001b[0;31mFileNotFoundError\u001b[0m: [Errno 2] No such file or directory: '.data/hydro/npd/complementarity/wind_time_series/CO01656_cf_wind_profile.csv'"
     ]
    }
   ],
   "source": [
    "from pathlib import Path\n",
    "from scipy.stats import pearsonr\n",
    "\n",
    "### Stability coefficient\n",
    "missing_sites = []\n",
    "df_missing = pd.DataFrame()\n",
    "\n",
    "pv_wind_id_df.fillna(0, inplace=True)\n",
    "\n",
    "annual_mean_p = pd.DataFrame()\n",
    "pearsons_wind_hy = pd.DataFrame(columns=['site_id','p'])\n",
    "\n",
    "annual_stab_df = pd.DataFrame(columns = ['site_id', 'lat', 'lon', 'c_stab'])\n",
    "\n",
    "for idx, row in pv_wind_id_df.iterrows():\n",
    "    \n",
    "    if row['post_csv_filename'] == 0:\n",
    "        print( f\"No file for site {row['site_id']} \")\n",
    "        missing_sites.append(row['site_id'])\n",
    "        continue\n",
    "    \n",
    "    if row['site_id'] not in rep_year_df.site.values:\n",
    "        print(f\"Site doesn't have enough data: {row['site_id']}\")\n",
    "        empty_data_sites.append(row['site_id'])\n",
    "        query_df.loc[idx,'post_csv_filename'] = \"\"\n",
    "        continue\n",
    "\n",
    "    print(f\"{idx}. Processing Wind profile {row['wind_id']} and NPD {row['site_id']}, {row['post_csv_filename']}\")\n",
    "\n",
    "    wind_df = pd.read_csv(f\"{wind_dest_path}/{row['wind_id']}_{wind_filename_prefix}.csv\",parse_dates=True,index_col=0)\n",
    "\n",
    "    hydro_df = pd.read_csv(row['post_csv_filename'],parse_dates=True,index_col=0)\n",
    "    hydro_df.fillna(0, inplace=True)\n",
    "\n",
    "    if float(hydro_df['capacity_factor'].sum()) == 0.0:\n",
    "        print( f\"No data in site {row['site_id']} \")\n",
    "        missing_sites.append(row['site_id'])\n",
    "        continue\n",
    "\n",
    "    cf_mix = []\n",
    "    c_stab = []\n",
    "    pearsons = []\n",
    "    \n",
    "    # Finds the representative year for the given stream gage\n",
    "    year = str(rep_year_df['year'].loc[rep_year_df.site == row['site_id']].values[0])\n",
    "    \n",
    "    # Massaging the timestamps of the hydropower time-series given that we are chosing the best year in terms of data completion.\n",
    "    # Here, we copy the CF into a new dataframe with the time-stamps from 2012\n",
    "    tmp_hydro_df_rep_year = hydro_df.loc[year,'capacity_factor'].copy().to_frame()\n",
    "    tmp_hydro_df = base_df.copy()\n",
    "    tmp_hydro_df.set_index('dateTime',inplace=True)\n",
    "    tmp_hydro_df['capacity_factor'] = tmp_hydro_df_rep_year.loc[year,'capacity_factor'].values\n",
    "    \n",
    "    tmp_wind_df = wind_df.loc['2012-01-01':'2012-12-30'].copy()\n",
    "\n",
    "    \n",
    "    for month in months:\n",
    "\n",
    "        if month < 10:\n",
    "            month = f'0{str(month)}'\n",
    "        else:\n",
    "            month = str(month)\n",
    "        \n",
    "        tmp_hydro_monthly_df = tmp_hydro_df.loc[f'2012-{month}','capacity_factor'].copy().to_frame()\n",
    "        tmp_wind_monthly_df = tmp_wind_df.loc[f'2012-{month}'].copy()\n",
    "\n",
    "        tmp_hydro_monthly_df.rename(columns={'capacity_factor':row['site_id']}, inplace=True)\n",
    "        tmp_wind_monthly_df.rename(columns={'wind_cf':row['site_id']}, inplace=True)\n",
    "\n",
    "        # Compute complementarity metrics (PV as reference)\n",
    "        cf_mix_tmp, c_stab_tmp = main_stability(tmp_wind_monthly_df, tmp_hydro_monthly_df)\n",
    "        cf_mix_tmp.rename(columns={row['site_id']:month}, inplace=True)\n",
    "        c_stab_tmp.rename(columns={row['site_id']:month}, inplace=True)\n",
    "\n",
    "        cf_mix.append(cf_mix_tmp)\n",
    "        c_stab.append(c_stab_tmp)\n",
    "        \n",
    "        corr, _ = pearsonr(tmp_wind_monthly_df[row['site_id']].values, tmp_hydro_monthly_df[row['site_id']].values)\n",
    "        pearsons.append(corr)\n",
    "\n",
    "    cf_mix_df = pd.concat(cf_mix, axis=1)\n",
    "    #cf_mix_df.to_csv(f\"{cf_mix_path}/hydro-pv/{row['site_id']}.csv\")\n",
    "\n",
    "    c_stab_df = pd.concat(c_stab, axis=1)\n",
    "    #c_stab_df.to_csv(f\"{c_stab_path}/hydro-pv/{row['site_id']}.csv\")\n",
    "\n",
    "    annual_mean = c_stab_df.mean(axis=0)\n",
    "\n",
    "    annual_stab_df.loc[idx,'site_id'] = row['site_id']\n",
    "    annual_stab_df.loc[idx,'pv_id'] = row['pv_id']\n",
    "    annual_stab_df.loc[idx,'lat'] = row['lat']\n",
    "    annual_stab_df.loc[idx,'lon'] = row['lon']\n",
    "    annual_stab_df.loc[idx,months] = annual_mean.values\n",
    "    \n",
    "    # ***************************************** Pearsons Coefficient *****************************************\n",
    "    p_series = pd.Series(pearsons)\n",
    "\n",
    "    annual_mean_p.loc[idx,'site_id'] = row['site_id']\n",
    "    annual_mean_p.loc[idx,'pv_id'] = row['pv_id']\n",
    "    annual_mean_p.loc[idx,'lat'] = row['lat']\n",
    "    annual_mean_p.loc[idx,'lon'] = row['lon']\n",
    "    annual_mean_p.loc[idx,months] = p_series.values\n",
    "    #break\n",
    "\n",
    "annual_stab_df.to_csv(f\"{c_stab_path}/rep_year_MONTHLY_npd_stab_wind_hydro.csv\")\n",
    "annual_mean_p.to_csv(f\"{c_stab_path}/rep_year_MONTHLY_npd_pearsons_wind_hydro.csv\")"
   ]
  },
  {
   "cell_type": "markdown",
   "metadata": {},
   "source": [
    "# Relationship plots"
   ]
  },
  {
   "cell_type": "markdown",
   "metadata": {},
   "source": [
    "## Ranking the sites based on their annual stability coefficient"
   ]
  },
  {
   "cell_type": "markdown",
   "metadata": {},
   "source": [
    "### NPD PV-Hydro"
   ]
  },
  {
   "cell_type": "code",
   "execution_count": null,
   "metadata": {},
   "outputs": [],
   "source": [
    "import pandas as pd"
   ]
  },
  {
   "cell_type": "code",
   "execution_count": null,
   "metadata": {},
   "outputs": [],
   "source": [
    "pv_hydro_annual_stab_df = pd.read_csv(f\"{c_stab_path}/rep_year_MONTHLY_npd_stab_pv_hydro.csv\")\n",
    "pv_hydro_annual_stab_df\n",
    "\n",
    "# Cleaning up the dataframe\n",
    "c_stab_pv_hydro_df = pd.DataFrame()\n",
    "c_stab_pv_hydro_df['site_id'] = pv_hydro_annual_stab_df['site_id']\n",
    "c_stab_pv_hydro_df[['1','2','3','4','5','6','7','8','9','10','11','12']] = pv_hydro_annual_stab_df[['1','2','3','4','5','6','7','8','9','10','11','12']].copy()\n",
    "\n",
    "# Computing the yearly mean across the months\n",
    "rank_c_stab_pv_hydro_df = pd.DataFrame()\n",
    "rank_c_stab_pv_hydro_df['site_id'] = c_stab_pv_hydro_df['site_id']\n",
    "rank_c_stab_pv_hydro_df['c_stab_mean'] = c_stab_pv_hydro_df[['1','2','3','4','5','6','7','8','9','10','11','12']].mean(axis=1)"
   ]
  },
  {
   "cell_type": "code",
   "execution_count": null,
   "metadata": {},
   "outputs": [],
   "source": [
    "c_stab_pv_hydro_df"
   ]
  },
  {
   "cell_type": "code",
   "execution_count": null,
   "metadata": {},
   "outputs": [],
   "source": [
    "rank_c_stab_pv_hydro_df.sort_values(by='c_stab_mean',ascending=True)"
   ]
  },
  {
   "cell_type": "code",
   "execution_count": null,
   "metadata": {},
   "outputs": [],
   "source": [
    "# Calculating the deciles for the yearly mean\n",
    "rank_c_stab_pv_hydro_df['decile_rank']= pd.qcut(rank_c_stab_pv_hydro_df['c_stab_mean'], \n",
    "                                         q = 10, labels = False)\n",
    "rank_c_stab_pv_hydro_df.head()"
   ]
  },
  {
   "cell_type": "code",
   "execution_count": null,
   "metadata": {},
   "outputs": [],
   "source": [
    "#rank_c_stab_pv_hydro_df.to_csv('rank.csv')"
   ]
  },
  {
   "cell_type": "code",
   "execution_count": null,
   "metadata": {},
   "outputs": [],
   "source": [
    "coo_df = pv_wind_id_df[['lat','lon','site_id','name']]\n",
    "input_df = pd.read_csv('../data/misc/combined_hydro_stream_gauge_full2.csv')\n",
    "input_df_capacity = input_df[['stream_gauge_id','potential_cap_mw']].copy()\n",
    "\n",
    "\n",
    "coo_df=coo_df.merge(input_df_capacity, left_on='site_id', right_on='stream_gauge_id', how='outer')\n",
    "coo_df.head()"
   ]
  },
  {
   "cell_type": "code",
   "execution_count": null,
   "metadata": {},
   "outputs": [],
   "source": [
    "rank_c_stab_pv_hydro_df=rank_c_stab_pv_hydro_df.merge(coo_df, left_on='site_id', right_on='site_id', how='outer')"
   ]
  },
  {
   "cell_type": "code",
   "execution_count": null,
   "metadata": {},
   "outputs": [],
   "source": [
    "rank_c_stab_pv_hydro_df.head()"
   ]
  },
  {
   "cell_type": "code",
   "execution_count": null,
   "metadata": {},
   "outputs": [],
   "source": [
    "rank_c_stab_pv_hydro_df.to_csv('../data/npd/complementarity/npd_pv_hydro_c_stab_decile_rank.csv')\n",
    "rank_c_stab_pv_hydro_df.dropna(inplace=True)\n",
    "rank_c_stab_pv_hydro_df"
   ]
  },
  {
   "cell_type": "code",
   "execution_count": null,
   "metadata": {},
   "outputs": [],
   "source": [
    "how_many_on_each_decile = {}\n",
    "\n",
    "for dec in rank_c_stab_pv_hydro_df.decile_rank.unique():\n",
    "    how_many_on_each_decile[str(dec)] = rank_c_stab_pv_hydro_df.loc[rank_c_stab_pv_hydro_df.decile_rank == dec].count()\n"
   ]
  },
  {
   "cell_type": "code",
   "execution_count": null,
   "metadata": {},
   "outputs": [],
   "source": [
    "import random\n",
    "\n",
    "def pre_process_for_rank_plotting(rank_df, monthly_df):\n",
    "    plotting_sites = []\n",
    "    \n",
    "    for dec in rank_df.decile_rank.unique():\n",
    "        #print(dec)\n",
    "        # Obtain the best site for each rank (mean)\n",
    "        site = rank_df.loc[rank_df.decile_rank == dec].sort_values(by='c_stab_mean',ascending=False).site_id.values[0]\n",
    "        print(f\"Best site {site}, {rank_df.name.loc[rank_df.site_id == site].values[0]} for decile {dec} with stability coefficient {rank_df.c_stab_mean.loc[rank_df.site_id == site].values}\")\n",
    "        tmp_tup = (site,dec)\n",
    "        plotting_sites.append(tmp_tup)\n",
    "       \n",
    "    # Create an empty dataframe to re-organize the data for plotting line ranking\n",
    "    no_of_Rows = len(pv_hydro_annual_stab_df)\n",
    "    plotting_df = pd.DataFrame(index=range(no_of_Rows))\n",
    "    plotting_df['site_id'] = 0\n",
    "    plotting_df['Month'] = 0\n",
    "    plotting_df['c_stab'] = 0\n",
    "    plotting_df['rank'] = 0\n",
    "    \n",
    "    plot_df_list = []\n",
    "    months = range(1,13)\n",
    "    for month in months:\n",
    "        #print(month)\n",
    "        for idx, row in monthly_df.iterrows():\n",
    "            #print(row)\n",
    "            plotting_df.loc[idx,'site_id'] = row['site_id']\n",
    "            plotting_df.loc[idx,'Month'] = month\n",
    "            plotting_df.loc[idx,'c_stab'] = row[str(month)]\n",
    "            plotting_df.loc[idx,'decile_rank'] = rank_df.decile_rank.loc[rank_df.site_id == row['site_id']].values[0]\n",
    "\n",
    "        plot_df_list.append(plotting_df.copy())\n",
    "    \n",
    "    # This is the dataframe with all the sites and ranks, reformatted for line plot\n",
    "    c_stab_plotting_data = pd.concat(plot_df_list)\n",
    "    \n",
    "    # This is the dataset that will contain only the top site for each rank. In this case, 10 sites\n",
    "    #c_stab_min_rank_plot = pd.DataFrame(index=len(tmp_tup))\n",
    "    tmp_list = []\n",
    "    for item in plotting_sites:\n",
    "        tmp_df = c_stab_plotting_data.loc[plotting_df.site_id == item[0]].copy()\n",
    "        tmp_df['rank'] = item[1]\n",
    "        tmp_list.append(tmp_df)\n",
    "    c_stab_min_rank_plot = pd.concat(tmp_list)\n",
    "    \n",
    "    return c_stab_plotting_data, c_stab_min_rank_plot\n",
    "        \n",
    "        "
   ]
  },
  {
   "cell_type": "code",
   "execution_count": null,
   "metadata": {},
   "outputs": [],
   "source": [
    "plot_df, min_plot_df = pre_process_for_rank_plotting(rank_c_stab_pv_hydro_df, c_stab_pv_hydro_df)"
   ]
  },
  {
   "cell_type": "code",
   "execution_count": null,
   "metadata": {},
   "outputs": [],
   "source": [
    "min_plot_df"
   ]
  },
  {
   "cell_type": "code",
   "execution_count": null,
   "metadata": {},
   "outputs": [],
   "source": [
    "min_plot_df = min_plot_df.astype({\"site_id\": str})\n",
    "min_plot_df.reset_index(inplace=True, drop=True)\n",
    "min_plot_df.sort_values(by='rank', ascending=False,inplace=True)"
   ]
  },
  {
   "cell_type": "code",
   "execution_count": null,
   "metadata": {},
   "outputs": [],
   "source": [
    "min_plot_df.head()"
   ]
  },
  {
   "cell_type": "code",
   "execution_count": null,
   "metadata": {},
   "outputs": [],
   "source": [
    "sns.set()\n",
    "rel = sns.relplot(\n",
    "    data=min_plot_df,\n",
    "    x=\"Month\", y=\"c_stab\",\n",
    "    kind=\"line\",hue=\"site_id\",size=\"rank\",\n",
    "    height=7.5, aspect=1.5, facet_kws=dict(sharex=False),legend=\"full\"\n",
    ").set(title=\"The best NPDs for each decile in PV-Hydro complementarity\")\n",
    "#rel.fig.suptitle(\"The best NPDs for each decile\")"
   ]
  },
  {
   "cell_type": "markdown",
   "metadata": {},
   "source": [
    "1. take the average across the months for each site\n",
    "2. rank the table based on the value of the average\n",
    "3. bin this data to obtain \"top\" percentile (e.g. 20th)\n",
    "4. assign a color to each bin (e.g. top 20th yellow,...). Use the same color scale that NREL uses\n",
    "5. Use this in a map"
   ]
  },
  {
   "cell_type": "code",
   "execution_count": null,
   "metadata": {},
   "outputs": [],
   "source": [
    "import seaborn as sns\n",
    "\n",
    "#sns.set()\n",
    "sns.set_theme(style=\"dark\")\n",
    "#sns.set_context(\"talk\")\n",
    "# Plot each year's time series in its own facet\n",
    "g = sns.relplot(\n",
    "    data=min_plot_df,\n",
    "    x=\"Month\", y=\"c_stab\", col=\"site_id\", hue=\"rank\",\n",
    "    kind=\"line\", palette=\"crest\", linewidth=4, zorder=5,\n",
    "    col_wrap=5, height=4, aspect=1.5, legend=False,facet_kws=dict(despine=True)\n",
    ")\n",
    "\n",
    "# Iterate over each subplot to customize further\n",
    "for site, ax in g.axes_dict.items():\n",
    "    \n",
    "    # Add the title as an annotation within the plot\n",
    "    ax.text(.6, .75, f\"NPD site: {site}\", transform=ax.transAxes, fontweight=\"bold\")\n",
    "    \n",
    "    # Add the title as an annotation within the plot\n",
    "    rank = min_plot_df[\"rank\"].loc[min_plot_df.site_id == site].values[0]\n",
    "    ax.text(.8, .65, f\"Rank: {rank}\", transform=ax.transAxes, fontweight=\"bold\")\n",
    "\n",
    "    # Plot every year's time series in the background\n",
    "    sns.lineplot(\n",
    "        data=min_plot_df, x=\"Month\", y=\"c_stab\", units=\"site_id\",\n",
    "        estimator=None, color=\".7\", linewidth=1, ax=ax,\n",
    "    )\n",
    "    ax.set_ylim([0,1])\n",
    "\n",
    "# Reduce the frequency of the x axis ticks\n",
    "ax.set_xticks(ax.get_xticks()[::2])\n",
    "# Tweak the supporting aspects of the plot\n",
    "g.set_titles(\"\")\n",
    "g.set_axis_labels(\"Months\", \"Stability Coefficient\")\n",
    "#g.fig.suptitle(\"The best NPDs for each decile\")\n",
    "g.tight_layout()\n",
    "#plt.savefig(\"ranked_pv_hydro_deciles.eps\")"
   ]
  },
  {
   "cell_type": "code",
   "execution_count": null,
   "metadata": {},
   "outputs": [],
   "source": [
    "g_plots = list(g.axes_dict.items())\n",
    "g_plots"
   ]
  },
  {
   "cell_type": "code",
   "execution_count": null,
   "metadata": {},
   "outputs": [],
   "source": [
    "for site, ax in g.axes_dict.items():\n",
    "    \n",
    "    # Add the title as an annotation within the plot\n",
    "    ax.plot\n",
    "    \n",
    "    break"
   ]
  },
  {
   "cell_type": "code",
   "execution_count": null,
   "metadata": {},
   "outputs": [],
   "source": [
    "rank_9_plot_df = plot_df.loc[plot_df.decile_rank == 9.0]\n",
    "\n",
    "rank_9_plot_df = rank_9_plot_df.astype({\"site_id\": str})\n",
    "rank_9_plot_df.reset_index(inplace=True, drop=True)"
   ]
  },
  {
   "cell_type": "code",
   "execution_count": null,
   "metadata": {},
   "outputs": [],
   "source": [
    "rank_9_plot_df.sort_values(by='c_stab')"
   ]
  },
  {
   "cell_type": "code",
   "execution_count": null,
   "metadata": {},
   "outputs": [],
   "source": [
    "g = sns.relplot(\n",
    "    data=rank_9_plot_df,\n",
    "    x=\"Month\", y=\"c_stab\",\n",
    "    kind=\"line\",hue=\"site_id\",facet_kws=dict(despine=False)\n",
    ")\n"
   ]
  },
  {
   "cell_type": "markdown",
   "metadata": {},
   "source": [
    "### NPD Wind-Hydro"
   ]
  },
  {
   "cell_type": "code",
   "execution_count": null,
   "metadata": {},
   "outputs": [],
   "source": [
    "wind_hydro_annual_stab_df = pd.read_csv(f\"{c_stab_path}/rep_year_MONTHLY_npd_stab_wind_hydro.csv\")\n",
    "wind_hydro_annual_stab_df\n",
    "\n",
    "# Cleaning up the dataframe\n",
    "c_stab_wind_hydro_df = pd.DataFrame()\n",
    "c_stab_wind_hydro_df['site_id'] = wind_hydro_annual_stab_df['site_id']\n",
    "c_stab_wind_hydro_df[['1','2','3','4','5','6','7','8','9','10','11','12']] = wind_hydro_annual_stab_df[['1','2','3','4','5','6','7','8','9','10','11','12']].copy()\n",
    "\n",
    "# Computing the yearly mean across the months\n",
    "rank_c_stab_wind_hydro_df = pd.DataFrame()\n",
    "rank_c_stab_wind_hydro_df['site_id'] = c_stab_wind_hydro_df['site_id']\n",
    "rank_c_stab_wind_hydro_df['c_stab_mean'] = c_stab_wind_hydro_df[['1','2','3','4','5','6','7','8','9','10','11','12']].mean(axis=1)"
   ]
  },
  {
   "cell_type": "code",
   "execution_count": null,
   "metadata": {},
   "outputs": [],
   "source": [
    "rank_c_stab_wind_hydro_df.sort_values(by='c_stab_mean',ascending=True)\n",
    "# Calculating the deciles for the yearly mean\n",
    "rank_c_stab_wind_hydro_df['decile_rank']= pd.qcut(rank_c_stab_wind_hydro_df['c_stab_mean'], \n",
    "                                         q = 10, labels = False)\n",
    "\n",
    "plot_wind_hydro_df, min_wind_hydro_plot_df = pre_process_for_rank_plotting(rank_c_stab_wind_hydro_df, c_stab_wind_hydro_df)\n",
    "min_plot_df = min_wind_hydro_plot_df.astype({\"site_id\": str})\n",
    "min_plot_df.reset_index(inplace=True)"
   ]
  },
  {
   "cell_type": "code",
   "execution_count": null,
   "metadata": {},
   "outputs": [],
   "source": [
    "min_wind_hydro_plot_df"
   ]
  },
  {
   "cell_type": "code",
   "execution_count": null,
   "metadata": {},
   "outputs": [],
   "source": [
    "#coo_df = pv_wind_id_df[['lat','lon','site_id']]\n",
    "#input_df = pd.read_csv('combined_hydro_stream_gauge_full2.csv')\n",
    "#input_df_capacity = input_df[['stream_gauge_id','potential_cap_mw']].copy()\n",
    "\n",
    "#coo_df=coo_df.merge(input_df_capacity, left_on='site_id', right_on='stream_gauge_id', how='outer')\n",
    "#coo_df.head()"
   ]
  },
  {
   "cell_type": "code",
   "execution_count": null,
   "metadata": {},
   "outputs": [],
   "source": [
    "#rank_c_stab_wind_hydro_df=rank_c_stab_wind_hydro_df.merge(coo_df, left_on='site_id', right_on='site_id', how='outer')\n",
    "#rank_c_stab_wind_hydro_df.head()"
   ]
  },
  {
   "cell_type": "code",
   "execution_count": null,
   "metadata": {},
   "outputs": [],
   "source": [
    "rank_c_stab_wind_hydro_df.to_csv('../data/npd/complementarity/npd_wind_hydro_c_stab_decile_rank.csv')"
   ]
  },
  {
   "cell_type": "code",
   "execution_count": null,
   "metadata": {},
   "outputs": [],
   "source": [
    "import seaborn as sns\n",
    "\n",
    "#sns.set()\n",
    "sns.set_theme(style=\"dark\")\n",
    "#sns.set_context(\"talk\")\n",
    "# Plot each year's time series in its own facet\n",
    "g = sns.relplot(\n",
    "    data=min_plot_df,\n",
    "    x=\"Month\", y=\"c_stab\", col=\"site_id\", hue=\"rank\",\n",
    "    kind=\"line\", palette=\"crest\", linewidth=4, zorder=5,\n",
    "    col_wrap=5, height=4, aspect=1.5, legend=False,\n",
    ")\n",
    "\n",
    "# Iterate over each subplot to customize further\n",
    "for site, ax in g.axes_dict.items():\n",
    "    \n",
    "    # Add the title as an annotation within the plot\n",
    "    ax.text(.6, .75, f\"NPD site: {site}\", transform=ax.transAxes, fontweight=\"bold\")\n",
    "    \n",
    "    # Add the title as an annotation within the plot\n",
    "    rank = min_plot_df[\"rank\"].loc[min_plot_df.site_id == site].values[0]\n",
    "    ax.text(.8, .65, f\"Rank: {rank}\", transform=ax.transAxes, fontweight=\"bold\")\n",
    "\n",
    "    # Plot every year's time series in the background\n",
    "    sns.lineplot(\n",
    "        data=min_plot_df, x=\"Month\", y=\"c_stab\", units=\"site_id\",\n",
    "        estimator=None, color=\".7\", linewidth=1, ax=ax,\n",
    "    )\n",
    "    ax.set_ylim([0,1])\n",
    "\n",
    "# Reduce the frequency of the x axis ticks\n",
    "ax.set_xticks(ax.get_xticks()[::2])\n",
    "# Tweak the supporting aspects of the plot\n",
    "g.set_titles(\"\")\n",
    "g.set_axis_labels(\"Months\", \"Stability Coefficient\")\n",
    "#g.fig.suptitle(\"The best NPDs for each decile\")\n",
    "g.tight_layout()"
   ]
  }
 ],
 "metadata": {
  "kernelspec": {
   "display_name": "Python 3",
   "language": "python",
   "name": "python3"
  },
  "language_info": {
   "codemirror_mode": {
    "name": "ipython",
    "version": 3
   },
   "file_extension": ".py",
   "mimetype": "text/x-python",
   "name": "python",
   "nbconvert_exporter": "python",
   "pygments_lexer": "ipython3",
   "version": "3.7.15"
  }
 },
 "nbformat": 4,
 "nbformat_minor": 4
}
